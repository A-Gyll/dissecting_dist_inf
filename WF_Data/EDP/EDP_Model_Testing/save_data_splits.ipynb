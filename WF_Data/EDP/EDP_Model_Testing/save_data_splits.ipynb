{
 "cells": [
  {
   "cell_type": "code",
   "execution_count": 24,
   "metadata": {},
   "outputs": [
    {
     "name": "stdout",
     "output_type": "stream",
     "text": [
      "/sfs/gpfs/tardis/home/ujx4ab/ondemand/dissecting_dist_inf/WF_Data/EDP/EDP_Model_Testing\n"
     ]
    }
   ],
   "source": [
    "import os\n",
    "import sys\n",
    "import pandas as pd\n",
    "import pickle\n",
    "\n",
    "import torch\n",
    "from torch.utils.data import Dataset, Subset\n",
    "\n",
    "sys.path.append(os.path.dirname(os.getcwd()))\n",
    "print(os.getcwd())\n",
    "\n",
    "from EDP_Model_Testing.test_lstm import WindTurbineDataset, get_aggregate_data"
   ]
  },
  {
   "cell_type": "code",
   "execution_count": 16,
   "metadata": {},
   "outputs": [],
   "source": [
    "def get_data_splits(dataset, split_timestamp, batch_size=32):\n",
    "    if isinstance(split_timestamp, str):\n",
    "        split_timestamp = pd.Timestamp(split_timestamp)\n",
    "        \n",
    "    indices = list(range(len(dataset)))\n",
    "    timestamps = dataset.timestamps\n",
    "\n",
    "    train_val_indices = [i for i, t in zip(indices, timestamps) if t < split_timestamp]\n",
    "    test_indices = [i for i, t in zip(indices, timestamps) if t >= split_timestamp]\n",
    "\n",
    "    test_dataset = Subset(dataset, test_indices)\n",
    "    train_val_dataset = Subset(dataset, train_val_indices)\n",
    "\n",
    "    return test_dataset, train_val_dataset"
   ]
  },
  {
   "cell_type": "code",
   "execution_count": 17,
   "metadata": {},
   "outputs": [
    {
     "name": "stdout",
     "output_type": "stream",
     "text": [
      "Aggregating data ...\n",
      "EDP_WT_01.csv\n",
      "EDP_WT_01_X.pt\n",
      "EDP_WT_01_timestamp.pkl\n",
      "EDP_WT_01_y.pt\n",
      "EDP_WT_06.csv\n",
      "EDP_WT_06_X.pt\n",
      "EDP_WT_06_timestamp.pkl\n",
      "EDP_WT_06_y.pt\n",
      "EDP_WT_07.csv\n",
      "EDP_WT_07_X.pt\n",
      "EDP_WT_07_timestamp.pkl\n",
      "EDP_WT_07_y.pt\n",
      "EDP_WT_11.csv\n",
      "EDP_WT_11_X.pt\n",
      "EDP_WT_11_timestamp.pkl\n",
      "EDP_WT_11_y.pt\n",
      "accumulated_timestamps.csv\n",
      "X_tensor shape: torch.Size([420477, 145, 22])\n",
      "y_tensor shape: torch.Size([420477, 1])\n",
      "Number of timestamps: 420477\n",
      "Aggregating data ...\n",
      "EDP_WT_01.csv\n",
      "EDP_WT_01_X.pt\n",
      "EDP_WT_01_timestamp.pkl\n",
      "EDP_WT_01_y.pt\n",
      "EDP_WT_06.csv\n",
      "EDP_WT_06_X.pt\n",
      "EDP_WT_06_timestamp.pkl\n",
      "EDP_WT_06_y.pt\n",
      "EDP_WT_07.csv\n",
      "EDP_WT_07_X.pt\n",
      "EDP_WT_07_timestamp.pkl\n",
      "EDP_WT_07_y.pt\n",
      "EDP_WT_11.csv\n",
      "EDP_WT_11_X.pt\n",
      "EDP_WT_11_timestamp.pkl\n",
      "EDP_WT_11_y.pt\n",
      "X_tensor shape: torch.Size([420477, 145, 22])\n",
      "y_tensor shape: torch.Size([420477, 1])\n",
      "Number of timestamps: 420477\n"
     ]
    }
   ],
   "source": [
    "DATA_FOLDER = \"/home/ujx4ab/ondemand/dissecting_dist_inf/WF_Data/EDP/EDP_Model_Testing/data_prep\"\n",
    "FAULTS_DATA_FOLDER = DATA_FOLDER + \"_faults_included\"\n",
    "\n",
    "X_tensor, y_tensor, timestamps_array = get_aggregate_data(DATA_FOLDER)\n",
    "full_dataset = WindTurbineDataset(\n",
    "    X=X_tensor,\n",
    "    y=y_tensor,\n",
    "    timestamps=timestamps_array\n",
    ")   \n",
    "\n",
    "faults_X_tensor, faults_y_tensor, faults_timestamps_array = get_aggregate_data(FAULTS_DATA_FOLDER)\n",
    "faults_full_dataset = WindTurbineDataset(\n",
    "    X=X_tensor,\n",
    "    y=y_tensor,\n",
    "    timestamps=timestamps_array\n",
    ")   "
   ]
  },
  {
   "cell_type": "code",
   "execution_count": 18,
   "metadata": {},
   "outputs": [
    {
     "name": "stdout",
     "output_type": "stream",
     "text": [
      "Datasets are different.\n"
     ]
    }
   ],
   "source": [
    "if (X_tensor.shape != faults_X_tensor.shape or \n",
    "    y_tensor.shape != faults_y_tensor.shape or \n",
    "    timestamps_array.shape != faults_timestamps_array.shape):\n",
    "    print(\"Datasets have different shapes.\")\n",
    "else:\n",
    "    if (torch.equal(X_tensor, faults_X_tensor) and\n",
    "        torch.equal(y_tensor, faults_y_tensor) and\n",
    "        (timestamps_array == faults_timestamps_array).all()):\n",
    "        print(\"Datasets are identical.\")\n",
    "    else:\n",
    "        print(\"Datasets are different.\")\n",
    "if not (timestamps_array == faults_timestamps_array).all():\n",
    "    print(f\"Unique timestamps in DATA_FOLDER: {set(timestamps_1)}\")\n",
    "    print(f\"Unique timestamps in FAULTS_DATA_FOLDER: {set(timestamps_2)}\")"
   ]
  },
  {
   "cell_type": "code",
   "execution_count": 20,
   "metadata": {},
   "outputs": [],
   "source": [
    "_, train_val_dataset = get_data_splits(full_dataset, split_timestamp=\"2017-06-01\")\n",
    "faults_test_dataset, _ = get_data_splits(faults_full_dataset, split_timestamp=\"2017-06-01\")"
   ]
  },
  {
   "cell_type": "code",
   "execution_count": 22,
   "metadata": {},
   "outputs": [
    {
     "data": {
      "text/plain": [
       "torch.utils.data.dataset.Subset"
      ]
     },
     "execution_count": 22,
     "metadata": {},
     "output_type": "execute_result"
    }
   ],
   "source": [
    "type(faults_test_dataset)"
   ]
  },
  {
   "cell_type": "code",
   "execution_count": 25,
   "metadata": {},
   "outputs": [],
   "source": [
    "with open(\"/home/ujx4ab/ondemand/dissecting_dist_inf/datasets/LSTM_WTs/train.p\", \"wb\") as f:\n",
    "    pickle.dump(train_val_dataset, f)\n",
    "\n",
    "with open(\"/home/ujx4ab/ondemand/dissecting_dist_inf/datasets/LSTM_WTs/test.p\", \"wb\") as f:\n",
    "    pickle.dump(faults_test_dataset, f)"
   ]
  }
 ],
 "metadata": {
  "kernelspec": {
   "display_name": ".venv",
   "language": "python",
   "name": "python3"
  },
  "language_info": {
   "codemirror_mode": {
    "name": "ipython",
    "version": 3
   },
   "file_extension": ".py",
   "mimetype": "text/x-python",
   "name": "python",
   "nbconvert_exporter": "python",
   "pygments_lexer": "ipython3",
   "version": "3.11.5"
  }
 },
 "nbformat": 4,
 "nbformat_minor": 2
}
