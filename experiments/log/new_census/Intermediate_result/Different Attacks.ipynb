{
 "cells": [
  {
   "cell_type": "code",
   "execution_count": 21,
   "id": "e7825421",
   "metadata": {},
   "outputs": [],
   "source": [
    "import numpy as np\n",
    "import matplotlib.pyplot as plt\n",
    "import pickle"
   ]
  },
  {
   "cell_type": "code",
   "execution_count": 259,
   "id": "28db4db4",
   "metadata": {},
   "outputs": [],
   "source": [
    "def sigmoid(z):\n",
    "    return 1/(1 + np.exp(-z))"
   ]
  },
  {
   "cell_type": "code",
   "execution_count": 302,
   "id": "e230e224",
   "metadata": {},
   "outputs": [],
   "source": [
    "path = \"boneage_preds_0.3\"\n",
    "with open(\"../../../../\" + path, 'rb') as f:\n",
    "    data = pickle.load(f)"
   ]
  },
  {
   "cell_type": "code",
   "execution_count": 303,
   "id": "c096cd66",
   "metadata": {},
   "outputs": [],
   "source": [
    "preds_adv_on_1 = data['preds_adv_on_1']\n",
    "preds_adv_on_2 = data['preds_adv_on_2']\n",
    "preds_vic_on_1 = data['preds_vic_on_1']\n",
    "preds_vic_on_2 = data['preds_vic_on_2']"
   ]
  },
  {
   "cell_type": "code",
   "execution_count": 304,
   "id": "288ce0fa",
   "metadata": {},
   "outputs": [
    {
     "data": {
      "text/plain": [
       "((50, 762), (50, 645))"
      ]
     },
     "execution_count": 304,
     "metadata": {},
     "output_type": "execute_result"
    }
   ],
   "source": [
    "preds_adv_on_1.preds_property_1.shape, preds_adv_on_2.preds_property_1.shape"
   ]
  },
  {
   "cell_type": "code",
   "execution_count": 301,
   "id": "005024c5",
   "metadata": {},
   "outputs": [],
   "source": [
    "def KL(a, b):\n",
    "    a_, b_ = 1 - a, 1 - b\n",
    "    first = a * (np.log(a) - np.log(b))\n",
    "    second = a_ * (np.log(a_) - np.log(b_))\n",
    "    together = first + second\n",
    "    return np.mean(together, 1) # Technique 2\n",
    "    # return np.mean(together)  # Technique 1"
   ]
  },
  {
   "cell_type": "code",
   "execution_count": 305,
   "id": "8c1dd095",
   "metadata": {},
   "outputs": [],
   "source": [
    "def main_stuff(ka, kb, kc1, kc2):\n",
    "    ka_ = sigmoid(ka)\n",
    "    kb_ = sigmoid(kb)\n",
    "    kc1_ = sigmoid(kc1)\n",
    "    kc2_ = sigmoid(kc2)\n",
    "    \n",
    "    KL_vals_1_a = np.array([KL(ka_, x) for x in kc1_])\n",
    "    KL_vals_1_b = np.array([KL(kb_, x) for x in kc1_])\n",
    "    KL_vals_2_a = np.array([KL(ka_, x) for x in kc2_])\n",
    "    KL_vals_2_b = np.array([KL(kb_, x) for x in kc2_])\n",
    "\n",
    "    # Technique 1: Aggregate KL value across all data and models, and then compare\n",
    "    # preds_first = np.mean(KL_vals_1_a < KL_vals_1_b)\n",
    "    # preds_second = np.mean(KL_vals_2_b < KL_vals_2_a)\n",
    "    \n",
    "    # Technique 2: Aggregate KL value across all data per adv model pair (m0[i], m1[i]), then vote\n",
    "    # Could technically consider all nC2 pairs, but can try that later\n",
    "    # This approach seems to work better in my experiments on BoneAge\n",
    "    preds_first = np.mean(np.mean(KL_vals_1_a < KL_vals_1_b, 1) >= 0.5)\n",
    "    preds_second = np.mean(np.mean(KL_vals_2_b < KL_vals_2_a, 1) >= 0.5)\n",
    "    \n",
    "    acc = (preds_first + preds_second)/2\n",
    "    return acc"
   ]
  },
  {
   "cell_type": "code",
   "execution_count": 306,
   "id": "66a195a2",
   "metadata": {},
   "outputs": [
    {
     "data": {
      "text/plain": [
       "0.7749999999999999"
      ]
     },
     "execution_count": 306,
     "metadata": {},
     "output_type": "execute_result"
    }
   ],
   "source": [
    "main_stuff(preds_adv_on_1.preds_property_1,\n",
    "           preds_adv_on_1.preds_property_2,\n",
    "           preds_vic_on_1.preds_property_1,\n",
    "           preds_vic_on_1.preds_property_2)"
   ]
  },
  {
   "cell_type": "code",
   "execution_count": 281,
   "id": "3d25f86e",
   "metadata": {},
   "outputs": [],
   "source": [
    "# KL_vals_1_a = np.array([KL(x, ka_) for x in kc1_])\n",
    "# KL_vals_1_b = np.array([KL(x, kb_) for x in kc1_])\n",
    "\n",
    "# KL_vals_2_a = np.array([KL(x, ka_) for x in kc2_])\n",
    "# KL_vals_2_b = np.array([KL(x, kb_) for x in kc2_])"
   ]
  },
  {
   "cell_type": "code",
   "execution_count": null,
   "id": "ed2b29c4",
   "metadata": {},
   "outputs": [],
   "source": []
  }
 ],
 "metadata": {
  "kernelspec": {
   "display_name": "phd9",
   "language": "python",
   "name": "phd9"
  },
  "language_info": {
   "codemirror_mode": {
    "name": "ipython",
    "version": 3
   },
   "file_extension": ".py",
   "mimetype": "text/x-python",
   "name": "python",
   "nbconvert_exporter": "python",
   "pygments_lexer": "ipython3",
   "version": "3.9.7"
  }
 },
 "nbformat": 4,
 "nbformat_minor": 5
}
