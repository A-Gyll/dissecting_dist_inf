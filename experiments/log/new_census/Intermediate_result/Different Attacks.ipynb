{
 "cells": [
  {
   "cell_type": "code",
   "execution_count": 584,
   "id": "e7825421",
   "metadata": {},
   "outputs": [],
   "source": [
    "import numpy as np\n",
    "import matplotlib.pyplot as plt\n",
    "import pickle\n",
    "from tqdm import tqdm"
   ]
  },
  {
   "cell_type": "code",
   "execution_count": 350,
   "id": "28db4db4",
   "metadata": {},
   "outputs": [],
   "source": [
    "def sigmoid(z):\n",
    "    return 1/(1 + np.exp(-z))"
   ]
  },
  {
   "cell_type": "code",
   "execution_count": 718,
   "id": "e230e224",
   "metadata": {},
   "outputs": [],
   "source": [
    "path = \"boneage_preds_0.4\"\n",
    "with open(\"../../../../\" + path, 'rb') as f:\n",
    "    data = pickle.load(f)"
   ]
  },
  {
   "cell_type": "code",
   "execution_count": 719,
   "id": "c096cd66",
   "metadata": {},
   "outputs": [],
   "source": [
    "preds_adv_on_1 = data['preds_adv_on_1']\n",
    "preds_adv_on_2 = data['preds_adv_on_2']\n",
    "preds_vic_on_1 = data['preds_vic_on_1']\n",
    "preds_vic_on_2 = data['preds_vic_on_2']"
   ]
  },
  {
   "cell_type": "code",
   "execution_count": 720,
   "id": "005024c5",
   "metadata": {},
   "outputs": [],
   "source": [
    "def KL(a, b):\n",
    "    a_, b_ = 1 - a, 1 - b\n",
    "    first = a * (np.log(a) - np.log(b))\n",
    "    second = a_ * (np.log(a_) - np.log(b_))\n",
    "    together = first + second\n",
    "    return np.mean(together, 1) # Technique 2\n",
    "    # return np.mean(together)  # Technique 1"
   ]
  },
  {
   "cell_type": "code",
   "execution_count": 721,
   "id": "015eb24e",
   "metadata": {},
   "outputs": [],
   "source": [
    "def pairwise_compare(x, y, xx, yy):\n",
    "    x_ = np.expand_dims(x, 2)\n",
    "    y_ = np.expand_dims(y, 2)\n",
    "    y_ = np.transpose(y_, (0, 2, 1))\n",
    "    pairwise_comparisons = (x_ > y_)\n",
    "    # Get unique pairs (ignore self)\n",
    "    preds = np.array([z[xx, yy] for z in pairwise_comparisons])\n",
    "    return preds"
   ]
  },
  {
   "cell_type": "code",
   "execution_count": 722,
   "id": "8c1dd095",
   "metadata": {},
   "outputs": [],
   "source": [
    "def main_stuff(ka, kb, kc1, kc2, frac):\n",
    "    ka_ = sigmoid(ka)\n",
    "    kb_ = sigmoid(kb)\n",
    "    kc1_ = sigmoid(kc1)\n",
    "    kc2_ = sigmoid(kc2)\n",
    "    \n",
    "    # Pick random sample of models\n",
    "    xx, yy = np.triu_indices(ka.shape[0], k=1)\n",
    "    # Randomly pick pairs of models\n",
    "    random_pick = np.random.permutation(xx.shape[0])[:int(frac * xx.shape[0])]\n",
    "    xx, yy = xx[random_pick], yy[random_pick]\n",
    "    \n",
    "    KL_vals_1_a = np.array([KL(ka_, x) for x in kc1_])\n",
    "    KL_vals_1_b = np.array([KL(kb_, x) for x in kc1_])\n",
    "    KL_vals_2_a = np.array([KL(ka_, x) for x in kc2_])\n",
    "    KL_vals_2_b = np.array([KL(kb_, x) for x in kc2_])\n",
    "\n",
    "    # Technique 1: Aggregate KL value across all data and models, and then compare\n",
    "    # preds_first = np.mean(KL_vals_1_a < KL_vals_1_b)\n",
    "    # preds_second = np.mean(KL_vals_2_b < KL_vals_2_a)\n",
    "    \n",
    "    # Technique 2: Aggregate KL value across all data per adv model pair (m0[i], m1[i]), then vote\n",
    "    # Could technically consider all nC2 pairs, but can try that later\n",
    "    # This approach seems to work better in my experiments on BoneAge\n",
    "    \n",
    "    # Use only 'some' pairs for preds\n",
    "    # preds_first = np.mean(KL_vals_1_a > KL_vals_1_b, 1)\n",
    "    # preds_second = np.mean(KL_vals_2_a > KL_vals_2_b, 1)\n",
    "    \n",
    "    preds_first = pairwise_compare(KL_vals_1_a, KL_vals_1_b, xx, yy)\n",
    "    preds_second = pairwise_compare(KL_vals_2_a, KL_vals_2_b, xx, yy)\n",
    "    return preds_first, preds_second\n",
    "    \n",
    "#     gt = np.concatenate((np.zeros_like(preds_first), np.ones_like(preds_second)))\n",
    "#     acc = np.mean((preds >= 0.5) == gt)"
   ]
  },
  {
   "cell_type": "code",
   "execution_count": 723,
   "id": "550993c4",
   "metadata": {},
   "outputs": [],
   "source": [
    "def combined_main_stuff(adv_1, adv_2, vic_1, vic_2, frac: float = 0.3):\n",
    "    # Call and get preds from first data\n",
    "    preds_1_first, preds_1_second = main_stuff(adv_1.preds_property_1,\n",
    "                         adv_1.preds_property_2,\n",
    "                         vic_1.preds_property_1,\n",
    "                         vic_1.preds_property_2,\n",
    "                         frac)\n",
    "    # Call and get preds from second data\n",
    "    preds_2_first, preds_2_second = main_stuff(adv_2.preds_property_1,\n",
    "                         adv_2.preds_property_2,\n",
    "                         vic_2.preds_property_1,\n",
    "                         vic_2.preds_property_2,\n",
    "                         frac)\n",
    "    # Concatenate\n",
    "    preds_first = np.concatenate((preds_1_first, preds_2_first), 1)\n",
    "    preds_second = np.concatenate((preds_1_second, preds_2_second), 1)\n",
    "    # Voting\n",
    "    preds_first = np.mean(preds_first, 1)\n",
    "    preds_second = np.mean(preds_second, 1)\n",
    "    preds = np.concatenate((preds_first, preds_second))\n",
    "    gt = np.concatenate((np.zeros_like(preds_first), np.ones_like(preds_second)))\n",
    "    acc = np.mean((preds >= 0.5) == gt)\n",
    "    return acc"
   ]
  },
  {
   "cell_type": "code",
   "execution_count": 724,
   "id": "94dd5e4a",
   "metadata": {},
   "outputs": [
    {
     "data": {
      "text/plain": [
       "0.816"
      ]
     },
     "execution_count": 724,
     "metadata": {},
     "output_type": "execute_result"
    }
   ],
   "source": [
    "combined_main_stuff(preds_adv_on_1, preds_vic_on_2, preds_vic_on_1, preds_vic_on_2)"
   ]
  },
  {
   "cell_type": "code",
   "execution_count": null,
   "id": "0a8d0518",
   "metadata": {},
   "outputs": [],
   "source": []
  }
 ],
 "metadata": {
  "kernelspec": {
   "display_name": "phd9",
   "language": "python",
   "name": "phd9"
  },
  "language_info": {
   "codemirror_mode": {
    "name": "ipython",
    "version": 3
   },
   "file_extension": ".py",
   "mimetype": "text/x-python",
   "name": "python",
   "nbconvert_exporter": "python",
   "pygments_lexer": "ipython3",
   "version": "3.9.7"
  }
 },
 "nbformat": 4,
 "nbformat_minor": 5
}
