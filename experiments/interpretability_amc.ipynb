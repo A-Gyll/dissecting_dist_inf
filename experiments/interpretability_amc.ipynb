{
 "cells": [
  {
   "cell_type": "code",
   "execution_count": 4,
   "metadata": {},
   "outputs": [],
   "source": [
    "from pathlib import Path\n",
    "import warnings\n",
    "import os\n",
    "\n",
    "from distribution_inference.datasets.utils import get_dataset_wrapper, get_dataset_information\n",
    "from distribution_inference.attacks.utils import get_dfs_for_victim_and_adv\n",
    "from distribution_inference.attacks.whitebox.utils import get_attack, wrap_into_loader\n",
    "from distribution_inference.attacks.whitebox.affinity.utils import get_loader_for_seed_data\n",
    "from distribution_inference.config import DatasetConfig, AttackConfig, WhiteBoxAttackConfig, TrainConfig\n",
    "from distribution_inference.utils import flash_utils, warning_string\n",
    "from distribution_inference.logging.core import AttackResult\n",
    "load_config = Path(\"./cel_AMC_interp.json\")\n",
    "meta_path = \"/p/adversarialml/as9rw/tmp/celeba/Male\""
   ]
  },
  {
   "cell_type": "code",
   "execution_count": 5,
   "metadata": {},
   "outputs": [],
   "source": [
    "attack_config: AttackConfig = AttackConfig.load(\n",
    "        load_config, drop_extra_fields=False)\n",
    "wb_attack_config: WhiteBoxAttackConfig = attack_config.white_box\n",
    "train_config: TrainConfig = attack_config.train_config\n",
    "data_config: DatasetConfig = train_config.data_config\n",
    "if train_config.misc_config is not None:\n",
    "        # TODO: Figure out best place to have this logic in the module\n",
    "    if train_config.misc_config.adv_config:\n",
    "            # Scale epsilon by 255 if requested\n",
    "        if train_config.misc_config.adv_config.scale_by_255:\n",
    "            train_config.misc_config.adv_config.epsilon /= 255\n",
    "if len(attack_config.values) != 1:\n",
    "        warnings.warn(warning_string(\n",
    "            \"\\nTesting one meta-classifier against multiple ratios.\\n\"))\n",
    "values_to_test = [str(x) for x in attack_config.values]\n",
    "folders = os.listdir(meta_path)\n",
    "for value in values_to_test:\n",
    "    if value not in folders:\n",
    "        raise ValueError(\n",
    "            f\"No model found for value {value} in {meta_path}\")\n",
    "#flash_utils(attack_config)\n",
    "ds_wrapper_class = get_dataset_wrapper(data_config.name)\n",
    "\n",
    "    # Get dataset info object\n",
    "ds_info = get_dataset_information(data_config.name)()\n",
    "\n",
    "    # Create new DS object for both and victim\n",
    "_, data_config_vic_1 = get_dfs_for_victim_and_adv(\n",
    "        data_config)\n",
    "ds_vic_1 = ds_wrapper_class(data_config_vic_1, skip_data=True)"
   ]
  },
  {
   "cell_type": "code",
   "execution_count": 6,
   "metadata": {},
   "outputs": [
    {
     "name": "stdout",
     "output_type": "stream",
     "text": [
      "\u001b[93mAvailable models: 500\u001b[0m\n"
     ]
    },
    {
     "name": "stderr",
     "output_type": "stream",
     "text": [
      "Loading models: 100%|██████████| 500/500 [00:07<00:00, 69.63it/s]\n"
     ]
    },
    {
     "name": "stdout",
     "output_type": "stream",
     "text": [
      "\u001b[93mAvailable models: 500\u001b[0m\n"
     ]
    },
    {
     "name": "stderr",
     "output_type": "stream",
     "text": [
      "Loading models: 100%|██████████| 500/500 [00:08<00:00, 61.20it/s]\n",
      "Building affinity matrix: 100%|██████████| 1000/1000 [08:43<00:00,  1.91it/s]\n"
     ]
    }
   ],
   "source": [
    "models_vic_1 = ds_vic_1.get_models(\n",
    "            train_config,\n",
    "            n_models=attack_config.num_victim_models,\n",
    "            on_cpu=attack_config.on_cpu,\n",
    "            shuffle=False,\n",
    "            model_arch=attack_config.victim_model_arch,\n",
    "            custom_models_path=None,)\n",
    "\n",
    "        # For each value (of property) asked to experiment with\n",
    "for i, prop_value in enumerate([attack_config.values[0]]):\n",
    "            # Creata a copy of the data config, with the property value\n",
    "            # changed to the current value\n",
    "    _, data_config_vic_2 = get_dfs_for_victim_and_adv(\n",
    "                data_config, prop_value=prop_value)\n",
    "\n",
    "            # Create new DS object for both and victim (for other ratio)\n",
    "    ds_vic_2 = ds_wrapper_class(data_config_vic_2, skip_data=True)\n",
    "\n",
    "            # Load victim's model for other value\n",
    "    models_vic_2 = ds_vic_2.get_models(\n",
    "                train_config,\n",
    "                n_models=attack_config.num_victim_models,\n",
    "                on_cpu=attack_config.on_cpu,\n",
    "                shuffle=False,\n",
    "                model_arch=attack_config.victim_model_arch,\n",
    "                custom_models_path=None)\n",
    "\n",
    "            # Generate test set\n",
    "    test_data = wrap_into_loader(\n",
    "                [models_vic_1, models_vic_2],\n",
    "                batch_size=wb_attack_config.batch_size,\n",
    "                shuffle=False,\n",
    "                wrap_with_loader=False\n",
    "            )\n",
    "\n",
    "            # Look at all models\n",
    "    attack_model_path_dir = os.path.join(\n",
    "                meta_path, str(prop_value))\n",
    "    for attack_model_path in [os.listdir(attack_model_path_dir)[0]]:\n",
    "                # Skip if directory\n",
    "        if os.path.isdir(os.path.join(attack_model_path_dir, attack_model_path)):\n",
    "                    continue\n",
    "\n",
    "                # Create attacker object\n",
    "        attacker_obj = get_attack(wb_attack_config.attack)(\n",
    "                    None, wb_attack_config)\n",
    "\n",
    "                # Load model\n",
    "        attacker_obj.load_model(os.path.join(\n",
    "                    attack_model_path_dir, attack_model_path))\n",
    "        \n",
    "                # Make seed-data loader for this attack\n",
    "        seed_data_loader = get_loader_for_seed_data(\n",
    "                    attacker_obj.seed_data_ds, wb_attack_config)\n",
    "                # Create affinity features\n",
    "        features_test = attacker_obj.make_affinity_features(\n",
    "                    test_data[0], seed_data_loader)\n"
   ]
  },
  {
   "cell_type": "code",
   "execution_count": 8,
   "metadata": {},
   "outputs": [],
   "source": [
    "import torch.nn as nn\n",
    "class Wrapper(nn.Module):\n",
    "    def __init__(self,amc):\n",
    "        super().__init__()\n",
    "        self.amc=amc\n",
    "    def forward(self, *args):\n",
    "        # Wrap args into one list\n",
    "        return self.amc(args)\n",
    "\n",
    "w = Wrapper(attacker_obj.model)"
   ]
  },
  {
   "cell_type": "code",
   "execution_count": 12,
   "metadata": {},
   "outputs": [],
   "source": [
    "from captum.attr import IntegratedGradients\n",
    "import torch as ch\n",
    "           \n",
    "def collate_fn(data):\n",
    "    features, labels = zip(*data)\n",
    "    # Combine them per-layer\n",
    "    x = [[] for _ in range(len(features[0]))]\n",
    "    for feature in features:\n",
    "        for i, layer_feature in enumerate(feature):\n",
    "            x[i].append(layer_feature)\n",
    "\n",
    "    x = [ch.stack(x_, 0) for x_ in x]\n",
    "    y = ch.tensor(labels).float()\n",
    "\n",
    "    return x, y\n",
    "\n",
    "class BasicDataset(ch.utils.data.Dataset):\n",
    "    def __init__(self, X, Y):\n",
    "        self.X = X\n",
    "        self.Y = Y\n",
    "        assert len(self.X) == len(self.Y)\n",
    "\n",
    "    def __len__(self):\n",
    "        return len(self.X)\n",
    "\n",
    "    def __getitem__(self, idx):\n",
    "        return self.X[idx], self.Y[idx]\n",
    "\n",
    "# Create laoaders out of all the given data\n",
    "def get_loader(data, shuffle):\n",
    "    ds = BasicDataset(data[0], data[1])\n",
    "    return ch.utils.data.DataLoader(\n",
    "        ds, batch_size=wb_attack_config.batch_size,\n",
    "        collate_fn=collate_fn,\n",
    "        shuffle=shuffle)\n",
    "test_loader_ = get_loader((features_test, test_data[1]), False)\n",
    "data = next(iter(test_loader_))[0]\n",
    "data = [x.cuda().requires_grad_() for x in data]\n",
    "ig = IntegratedGradients(w)\n",
    "test_input_tensor = data\n",
    "#test_input_tensor.requires_grad_()\n",
    "attr, delta = ig.attribute((*test_input_tensor,),target=0, return_convergence_delta=True)\n",
    "#attr = attr.cpu().detach().numpy()\n",
    "attr = [x.cpu().detach().numpy() for x in attr]"
   ]
  },
  {
   "cell_type": "code",
   "execution_count": 23,
   "metadata": {},
   "outputs": [
    {
     "name": "stdout",
     "output_type": "stream",
     "text": [
      "Average Feature Importances\n",
      "3226 :  -0.065\n",
      "4747 :  -0.065\n",
      "15 :  -0.063\n",
      "2580 :  -0.060\n",
      "4698 :  -0.055\n",
      "1235 :  -0.054\n",
      "2555 :  -0.054\n",
      "262 :  -0.051\n",
      "3180 :  -0.050\n",
      "3216 :  -0.050\n",
      "3259 :  -0.049\n",
      "1569 :  -0.048\n",
      "2679 :  0.043\n",
      "913 :  -0.040\n",
      "1227 :  0.039\n",
      "3248 :  -0.038\n",
      "1073 :  -0.036\n",
      "3228 :  -0.035\n",
      "604 :  0.035\n",
      "1766 :  -0.032\n",
      "3220 :  -0.032\n",
      "1550 :  -0.032\n",
      "623 :  -0.030\n",
      "4686 :  -0.030\n",
      "3185 :  -0.030\n",
      "648 :  -0.029\n",
      "1542 :  -0.029\n",
      "29 :  -0.029\n",
      "1584 :  0.028\n",
      "1941 :  -0.028\n",
      "2087 :  -0.027\n",
      "402 :  0.026\n",
      "4790 :  -0.026\n",
      "4838 :  -0.025\n",
      "98 :  -0.025\n",
      "1711 :  -0.024\n",
      "2506 :  0.024\n",
      "772 :  0.024\n",
      "591 :  -0.024\n",
      "3286 :  -0.023\n",
      "1771 :  -0.023\n",
      "1246 :  -0.023\n",
      "4411 :  -0.023\n",
      "1538 :  -0.022\n",
      "4729 :  -0.021\n",
      "6 :  -0.021\n",
      "1494 :  -0.021\n",
      "519 :  0.021\n",
      "3533 :  0.020\n"
     ]
    },
    {
     "data": {
      "image/png": "[encoded data removed]",
      "text/plain": [
       "<Figure size 864x432 with 1 Axes>"
      ]
     },
     "metadata": {
      "needs_background": "light"
     },
     "output_type": "display_data"
    }
   ],
   "source": [
    "attr = attr[:4]\n",
    "import matplotlib\n",
    "import matplotlib.pyplot as plt\n",
    "%matplotlib inline\n",
    "import numpy as np\n",
    "from scipy import stats\n",
    "import pandas as pd\n",
    "def visualize_importances(feature_names, importances, title=\"Average Feature Importances\", plot=True, axis_title=\"Features\"):\n",
    "    print(title)\n",
    "    for i in range(len(feature_names)):\n",
    "        print(feature_names[i], \": \", '%.3f'%(importances[i]))\n",
    "    x_pos = (np.arange(len(feature_names)))\n",
    "    if plot:\n",
    "        plt.figure(figsize=(12,6))\n",
    "        plt.bar(x_pos, importances, align='center')\n",
    "        plt.xticks(x_pos, feature_names, wrap=True)\n",
    "        plt.xlabel(axis_title)\n",
    "        plt.title(title)\n",
    "means = np.mean(np.mean(attr,axis=0), axis=0)\n",
    "ind = np.argsort(np.absolute(means))[::-1][:int(0.05*len(means))]\n",
    "visualize_importances(attacker_obj.retained_pairs[ind], means[ind])"
   ]
  }
 ],
 "metadata": {
  "interpreter": {
   "hash": "b4dc72eda38794d3bbff2eefb19702cda488c570447440db9ecdc6399f020f43"
  },
  "kernelspec": {
   "display_name": "Python 3.9.7 ('dp': conda)",
   "language": "python",
   "name": "python3"
  },
  "language_info": {
   "codemirror_mode": {
    "name": "ipython",
    "version": 3
   },
   "file_extension": ".py",
   "mimetype": "text/x-python",
   "name": "python",
   "nbconvert_exporter": "python",
   "pygments_lexer": "ipython3",
   "version": "3.9.7"
  },
  "orig_nbformat": 4
 },
 "nbformat": 4,
 "nbformat_minor": 2
}
