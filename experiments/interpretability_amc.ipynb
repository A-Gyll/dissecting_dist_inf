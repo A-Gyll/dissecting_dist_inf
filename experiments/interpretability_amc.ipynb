{
 "cells": [
  {
   "cell_type": "code",
   "execution_count": 1,
   "metadata": {},
   "outputs": [],
   "source": [
    "from pathlib import Path\n",
    "import warnings\n",
    "import os\n",
    "import torch.nn as nn\n",
    "from captum.attr import IntegratedGradients\n",
    "import torch as ch\n",
    "import numpy as np\n",
    "from scipy import stats\n",
    "import pandas as pd\n",
    "import matplotlib as mpl\n",
    "mpl.rcParams['figure.dpi'] = 150\n",
    "\n",
    "from distribution_inference.datasets.utils import get_dataset_wrapper, get_dataset_information\n",
    "from distribution_inference.attacks.utils import get_dfs_for_victim_and_adv\n",
    "from distribution_inference.attacks.whitebox.utils import get_attack, wrap_into_loader\n",
    "from distribution_inference.attacks.whitebox.affinity.utils import get_loader_for_seed_data\n",
    "from distribution_inference.config import DatasetConfig, AttackConfig, WhiteBoxAttackConfig, TrainConfig\n",
    "from distribution_inference.utils import flash_utils, warning_string\n",
    "from distribution_inference.logging.core import AttackResult"
   ]
  },
  {
   "cell_type": "code",
   "execution_count": 2,
   "metadata": {},
   "outputs": [],
   "source": [
    "load_config = Path(\"./cel_AMC_interp.json\")\n",
    "meta_path = \"/p/adversarialml/as9rw/tmp/celeba/Male\""
   ]
  },
  {
   "cell_type": "code",
   "execution_count": 2,
   "metadata": {},
   "outputs": [],
   "source": [
    "attack_config: AttackConfig = AttackConfig.load(\n",
    "        load_config, drop_extra_fields=False)\n",
    "wb_attack_config: WhiteBoxAttackConfig = attack_config.white_box\n",
    "train_config: TrainConfig = attack_config.train_config\n",
    "data_config: DatasetConfig = train_config.data_config\n",
    "if train_config.misc_config is not None:\n",
    "        # TODO: Figure out best place to have this logic in the module\n",
    "    if train_config.misc_config.adv_config:\n",
    "            # Scale epsilon by 255 if requested\n",
    "        if train_config.misc_config.adv_config.scale_by_255:\n",
    "            train_config.misc_config.adv_config.epsilon /= 255\n",
    "if len(attack_config.values) != 1:\n",
    "        warnings.warn(warning_string(\n",
    "            \"\\nTesting one meta-classifier against multiple ratios.\\n\"))\n",
    "values_to_test = [str(x) for x in attack_config.values]\n",
    "folders = os.listdir(meta_path)\n",
    "for value in values_to_test:\n",
    "    if value not in folders:\n",
    "        raise ValueError(\n",
    "            f\"No model found for value {value} in {meta_path}\")\n",
    "#flash_utils(attack_config)\n",
    "ds_wrapper_class = get_dataset_wrapper(data_config.name)\n",
    "\n",
    "    # Get dataset info object\n",
    "ds_info = get_dataset_information(data_config.name)()\n",
    "\n",
    "    # Create new DS object for both and victim\n",
    "_, data_config_vic_1 = get_dfs_for_victim_and_adv(\n",
    "        data_config)\n",
    "ds_vic_1 = ds_wrapper_class(data_config_vic_1, skip_data=True)"
   ]
  },
  {
   "cell_type": "code",
   "execution_count": 3,
   "metadata": {},
   "outputs": [
    {
     "name": "stderr",
     "output_type": "stream",
     "text": [
      "Loading models:   2%|███                                                                                                                                                    | 2/100 [00:00<00:05, 17.46it/s]"
     ]
    },
    {
     "name": "stdout",
     "output_type": "stream",
     "text": [
      "\u001b[93mAvailable models: 100\u001b[0m\n"
     ]
    },
    {
     "name": "stderr",
     "output_type": "stream",
     "text": [
      "Loading models: 100%|██████████| 500/500 [00:07<00:00, 64.62it/s]\n"
     ]
    },
    {
     "name": "stdout",
     "output_type": "stream",
     "text": [
      "\u001b[93mAvailable models: 100\u001b[0m\n"
     ]
    },
    {
     "name": "stderr",
     "output_type": "stream",
     "text": [
      "Loading models: 100%|██████████| 500/500 [01:58<00:00,  4.23it/s]\n",
      "Building affinity matrix: 100%|██████████| 1000/1000 [07:36<00:00,  2.19it/s]\n"
     ]
    }
   ],
   "source": [
    "#n_vic_models = attack_config.num_victim_models\n",
    "n_vic_models = 100\n",
    "\n",
    "models_vic_1 = ds_vic_1.get_models(\n",
    "            train_config,\n",
    "            n_models=n_vic_models,\n",
    "            on_cpu=attack_config.on_cpu,\n",
    "            shuffle=True,\n",
    "            model_arch=attack_config.victim_model_arch,\n",
    "            custom_models_path=None,)\n",
    "\n",
    "# For each value (of property) asked to experiment with\n",
    "for i, prop_value in enumerate([attack_config.values[0]]):\n",
    "    # Creata a copy of the data config, with the property value\n",
    "    # changed to the current value\n",
    "    _, data_config_vic_2 = get_dfs_for_victim_and_adv(\n",
    "                data_config, prop_value=prop_value)\n",
    "\n",
    "    # Create new DS object for both and victim (for other ratio)\n",
    "    ds_vic_2 = ds_wrapper_class(data_config_vic_2, skip_data=True)\n",
    "\n",
    "    # Load victim's model for other value\n",
    "    models_vic_2 = ds_vic_2.get_models(\n",
    "                train_config,\n",
    "                n_models=n_vic_models,\n",
    "                on_cpu=attack_config.on_cpu,\n",
    "                shuffle=True,\n",
    "                model_arch=attack_config.victim_model_arch,\n",
    "                custom_models_path=None)\n",
    "\n",
    "    # Generate test set\n",
    "    test_data = wrap_into_loader(\n",
    "                [models_vic_1, models_vic_2],\n",
    "                batch_size=wb_attack_config.batch_size,\n",
    "                shuffle=True,\n",
    "                wrap_with_loader=False\n",
    "            )\n",
    "\n",
    "    # Look at all models\n",
    "    attack_model_path_dir = os.path.join(\n",
    "                meta_path, str(prop_value))\n",
    "    for attack_model_path in [os.listdir(attack_model_path_dir)[1]]:\n",
    "        # Skip if directory\n",
    "        if os.path.isdir(os.path.join(attack_model_path_dir, attack_model_path)):\n",
    "                    continue\n",
    "\n",
    "        # Create attacker object\n",
    "        attacker_obj = get_attack(wb_attack_config.attack)(\n",
    "                    None, wb_attack_config)\n",
    "\n",
    "        # Load model\n",
    "        attacker_obj.load_model(os.path.join(\n",
    "                    attack_model_path_dir, attack_model_path))\n",
    "        \n",
    "        # Make seed-data loader for this attack\n",
    "        seed_data_loader = get_loader_for_seed_data(\n",
    "                    attacker_obj.seed_data_ds, wb_attack_config)\n",
    "        # Create affinity features\n",
    "        features_test = attacker_obj.make_affinity_features(\n",
    "                    test_data[0], seed_data_loader)\n"
   ]
  },
  {
   "cell_type": "code",
   "execution_count": 4,
   "metadata": {},
   "outputs": [],
   "source": [
    "class Wrapper(nn.Module):\n",
    "    def __init__(self,amc):\n",
    "        super().__init__()\n",
    "        self.amc = amc\n",
    "\n",
    "    def forward(self, *args):\n",
    "        # Wrap args into one list\n",
    "        return self.amc(args)\n",
    "\n",
    "w = Wrapper(attacker_obj.model)"
   ]
  },
  {
   "cell_type": "code",
   "execution_count": 5,
   "metadata": {},
   "outputs": [],
   "source": [
    "def collate_fn(data):\n",
    "    features, labels = zip(*data)\n",
    "    # Combine them per-layer\n",
    "    x = [[] for _ in range(len(features[0]))]\n",
    "    for feature in features:\n",
    "        for i, layer_feature in enumerate(feature):\n",
    "            x[i].append(layer_feature)\n",
    "\n",
    "    x = [ch.stack(x_, 0) for x_ in x]\n",
    "    y = ch.tensor(labels).float()\n",
    "\n",
    "    return x, y\n",
    "\n",
    "class BasicDataset(ch.utils.data.Dataset):\n",
    "    def __init__(self, X, Y):\n",
    "        self.X = X\n",
    "        self.Y = Y\n",
    "        assert len(self.X) == len(self.Y)\n",
    "\n",
    "    def __len__(self):\n",
    "        return len(self.X)\n",
    "\n",
    "    def __getitem__(self, idx):\n",
    "        return self.X[idx], self.Y[idx]\n",
    "\n",
    "# Create laoaders out of all the given data\n",
    "def get_loader(data, shuffle):\n",
    "    ds = BasicDataset(data[0], data[1])\n",
    "    return ch.utils.data.DataLoader(\n",
    "        ds, batch_size=wb_attack_config.batch_size,\n",
    "        collate_fn=collate_fn,\n",
    "        shuffle=shuffle)"
   ]
  },
  {
   "cell_type": "code",
   "execution_count": 7,
   "metadata": {},
   "outputs": [],
   "source": [
    "test_loader_ = get_loader((features_test, test_data[1]), True)\n",
    "data = next(iter(test_loader_))[0]\n",
    "data = [x.cuda().requires_grad_() for x in data]"
   ]
  },
  {
   "cell_type": "code",
   "execution_count": 8,
   "metadata": {},
   "outputs": [],
   "source": [
    "ig = IntegratedGradients(w)\n",
    "test_input_tensor = data\n",
    "#test_input_tensor.requires_grad_()\n",
    "attr, delta = ig.attribute((*test_input_tensor,),\n",
    "                           target=0,\n",
    "                           return_convergence_delta=True)\n",
    "#attr = attr.cpu().detach().numpy()\n",
    "attr = [x.cpu().detach().numpy() for x in attr]\n",
    "attr_single = attr[-1]"
   ]
  },
  {
   "cell_type": "code",
   "execution_count": 6,
   "metadata": {},
   "outputs": [
    {
     "name": "stdout",
     "output_type": "stream",
     "text": [
      "Average Feature Importances\n",
      "2102 :  -0.106\n",
      "2996 :  0.086\n",
      "4106 :  0.080\n",
      "970 :  0.075\n",
      "835 :  0.073\n",
      "2730 :  -0.067\n",
      "3968 :  0.063\n",
      "481 :  -0.062\n",
      "1344 :  0.060\n",
      "2380 :  -0.059\n",
      "3288 :  -0.058\n",
      "129 :  -0.058\n",
      "1189 :  0.056\n",
      "2954 :  0.055\n",
      "1219 :  -0.054\n",
      "2945 :  0.054\n",
      "1396 :  -0.054\n",
      "4839 :  0.054\n",
      "3655 :  0.051\n",
      "949 :  -0.051\n",
      "2201 :  0.051\n",
      "4542 :  0.050\n",
      "2663 :  -0.050\n",
      "839 :  0.050\n",
      "2385 :  -0.048\n",
      "2938 :  0.047\n",
      "1563 :  0.046\n",
      "1549 :  0.046\n",
      "1096 :  -0.046\n",
      "138 :  -0.046\n",
      "4493 :  0.045\n",
      "4037 :  0.044\n",
      "3433 :  0.043\n",
      "2248 :  -0.043\n",
      "4730 :  -0.043\n",
      "2169 :  -0.043\n",
      "1105 :  -0.042\n",
      "652 :  0.042\n",
      "1098 :  -0.042\n",
      "2144 :  0.042\n",
      "625 :  0.041\n",
      "2188 :  -0.041\n",
      "484 :  -0.040\n",
      "2163 :  -0.040\n",
      "2223 :  -0.040\n",
      "4937 :  0.039\n",
      "1620 :  -0.039\n",
      "1231 :  0.038\n",
      "166 :  0.037\n",
      "2818 :  0.036\n",
      "4494 :  0.036\n",
      "633 :  0.036\n",
      "1286 :  -0.036\n",
      "1777 :  0.036\n",
      "2812 :  0.036\n",
      "4096 :  0.036\n",
      "2216 :  -0.035\n",
      "2241 :  -0.035\n",
      "2080 :  0.035\n",
      "4840 :  -0.035\n",
      "1114 :  -0.034\n",
      "4199 :  -0.034\n",
      "972 :  -0.033\n",
      "2777 :  0.033\n",
      "3283 :  -0.033\n",
      "2460 :  -0.033\n",
      "3649 :  0.033\n",
      "2386 :  -0.033\n",
      "738 :  0.032\n",
      "4121 :  0.032\n",
      "1107 :  -0.032\n",
      "2412 :  -0.032\n",
      "2414 :  0.032\n",
      "2572 :  -0.031\n",
      "4341 :  0.031\n",
      "1915 :  -0.031\n",
      "3593 :  0.031\n",
      "2209 :  -0.031\n",
      "754 :  -0.031\n",
      "4595 :  -0.031\n",
      "1485 :  0.031\n",
      "2898 :  0.031\n",
      "4126 :  0.031\n",
      "2826 :  -0.031\n",
      "4489 :  0.031\n",
      "2774 :  0.031\n",
      "3661 :  0.031\n",
      "2563 :  -0.031\n",
      "4016 :  0.030\n",
      "4467 :  -0.030\n",
      "823 :  -0.030\n",
      "1599 :  0.030\n",
      "2811 :  0.030\n",
      "469 :  -0.030\n",
      "3670 :  0.030\n",
      "3966 :  -0.030\n",
      "2366 :  -0.030\n",
      "3951 :  -0.030\n",
      "740 :  0.030\n",
      "2234 :  -0.029\n",
      "2227 :  -0.029\n",
      "2677 :  -0.029\n",
      "1442 :  0.029\n",
      "4641 :  -0.029\n",
      "4886 :  -0.029\n",
      "427 :  -0.029\n",
      "2985 :  0.028\n",
      "1200 :  0.028\n",
      "570 :  -0.028\n",
      "2228 :  -0.028\n",
      "3228 :  -0.028\n",
      "4123 :  0.028\n",
      "1982 :  0.028\n",
      "3328 :  0.028\n",
      "2225 :  -0.027\n",
      "3322 :  -0.027\n",
      "1525 :  0.027\n",
      "3672 :  -0.027\n",
      "2303 :  0.027\n",
      "4577 :  0.027\n",
      "1210 :  -0.027\n",
      "1817 :  0.027\n",
      "1336 :  -0.027\n",
      "3097 :  0.026\n",
      "494 :  -0.026\n",
      "2858 :  0.026\n",
      "591 :  0.026\n",
      "2202 :  -0.026\n",
      "2217 :  0.026\n",
      "4491 :  0.026\n",
      "4640 :  -0.026\n",
      "2329 :  -0.026\n",
      "4200 :  -0.026\n",
      "1290 :  -0.026\n",
      "4504 :  -0.026\n",
      "1509 :  -0.026\n",
      "1526 :  0.026\n",
      "4264 :  -0.026\n",
      "114 :  -0.026\n",
      "1101 :  -0.025\n",
      "1113 :  -0.025\n",
      "2425 :  -0.025\n",
      "1480 :  0.025\n",
      "1222 :  0.025\n",
      "1781 :  -0.025\n",
      "2702 :  -0.025\n",
      "1391 :  -0.025\n",
      "4890 :  -0.025\n",
      "3020 :  0.025\n",
      "4152 :  -0.025\n",
      "479 :  -0.025\n",
      "3307 :  0.025\n",
      "4006 :  -0.025\n",
      "47 :  -0.024\n",
      "4219 :  0.024\n",
      "4129 :  0.024\n",
      "1106 :  0.024\n",
      "2306 :  0.024\n",
      "2561 :  -0.024\n",
      "1471 :  0.024\n",
      "4423 :  0.024\n",
      "3170 :  -0.024\n",
      "2232 :  -0.024\n",
      "3286 :  -0.024\n",
      "3171 :  -0.024\n",
      "4731 :  -0.024\n",
      "256 :  -0.024\n",
      "4144 :  0.024\n",
      "4139 :  -0.024\n",
      "1234 :  0.023\n",
      "1285 :  -0.023\n",
      "3316 :  0.023\n",
      "2374 :  -0.023\n",
      "2115 :  0.023\n",
      "4454 :  -0.023\n",
      "2243 :  0.023\n",
      "3094 :  -0.023\n",
      "3623 :  -0.023\n",
      "2196 :  -0.023\n",
      "3439 :  -0.023\n",
      "1274 :  -0.023\n",
      "3168 :  0.023\n",
      "3709 :  0.022\n",
      "4178 :  0.022\n",
      "1635 :  -0.022\n",
      "442 :  -0.022\n",
      "1229 :  0.022\n",
      "4025 :  0.022\n",
      "1257 :  0.022\n",
      "1246 :  0.022\n",
      "4146 :  0.022\n",
      "73 :  0.022\n",
      "4102 :  0.022\n",
      "2143 :  -0.022\n",
      "4821 :  -0.022\n",
      "110 :  -0.022\n",
      "3095 :  0.022\n",
      "3330 :  0.022\n"
     ]
    },
    {
     "data": {
      "image/png": "[encoded data removed]",
      "text/plain": [
       "<Figure size 864x432 with 1 Axes>"
      ]
     },
     "metadata": {
      "needs_background": "light"
     },
     "output_type": "display_data"
    }
   ],
   "source": [
    "# Try layer attribution to see which layers seem to be most helpful\n",
    "ig = LayerIntegratedGradients(w)\n",
    "test_input_tensor = data\n",
    "#test_input_tensor.requires_grad_()\n",
    "attr_layer, delta_layer = ig.attribute((*test_input_tensor,),\n",
    "                           target=0,\n",
    "                           return_convergence_delta=True)\n",
    "#attr = attr.cpu().detach().numpy()\n",
    "print(attr_layer)"
   ]
  },
  {
   "cell_type": "code",
   "execution_count": 9,
   "metadata": {},
   "outputs": [],
   "source": [
    "attr = attr[:4]\n",
    "import matplotlib\n",
    "import matplotlib.pyplot as plt\n",
    "%matplotlib inline\n",
    "\n",
    "#plt.figure(dpi=1200)\n",
    "def visualize_importances(feature_names, importances, title=\"Average Feature Importances\", plot=True, axis_title=\"Features\"):\n",
    "    #print(title)\n",
    "    # for i in range(len(feature_names)):\n",
    "        # print(feature_names[i], \": \", '%.3f'%(importances[i]))\n",
    "    x_pos = (np.arange(len(feature_names)))\n",
    "    if plot:\n",
    "        plt.figure(figsize=(12,6))\n",
    "        plt.bar(x_pos, importances, align='center')\n",
    "        plt.xticks(x_pos, feature_names, wrap=True)\n",
    "        plt.xlabel(axis_title)\n",
    "        plt.title(title)"
   ]
  },
  {
   "cell_type": "code",
   "execution_count": 154,
   "metadata": {},
   "outputs": [
    {
     "data": {
      "image/png": "[encoded data removed]",
      "text/plain": [
       "<Figure size 1800x900 with 1 Axes>"
      ]
     },
     "metadata": {
      "needs_background": "light"
     },
     "output_type": "display_data"
    }
   ],
   "source": [
    "means = np.mean(np.mean(attr,axis=0), axis=0)\n",
    "# means = np.median(np.median(attr,axis=0), axis=0)\n",
    "\n",
    "n_look_at = int(0.9*len(means))\n",
    "\n",
    "ind = np.argsort(np.absolute(means))[::-1][:n_look_at]\n",
    "# ind = np.argsort(np.absolute(means))[::-1][-n_look_at:]\n",
    "visualize_importances(attacker_obj.retained_pairs[ind], means[ind])"
   ]
  },
  {
   "cell_type": "code",
   "execution_count": 7,
   "metadata": {},
   "outputs": [
    {
     "name": "stdout",
     "output_type": "stream",
     "text": [
      "891\n"
     ]
    }
   ],
   "source": [
    "print(len(ind))\n",
    "def reverse_ind(x, leng):\n",
    "#get the indexes of points from the index of pairs, x. leng is # of points\n",
    "    indices_i, indices_j = [], []\n",
    "    f = np.arange(leng)\n",
    "    for j in f[:-1]:\n",
    "        others = f[j+1:]\n",
    "        indices_i += [j] * len(others)\n",
    "        indices_j += list(range(j+1, leng))\n",
    "    indices_i = np.array(indices_i)\n",
    "    indices_j = np.array(indices_j)\n",
    "    return (indices_i[x], indices_j[x])"
   ]
  },
  {
   "cell_type": "code",
   "execution_count": 8,
   "metadata": {},
   "outputs": [
    {
     "data": {
      "text/plain": [
       "'\\npis = attacker_obj.seed_data_ds[p_ind[0]].cuda()\\npjs = attacker_obj.seed_data_ds[p_ind[1]].cuda()\\n\\npred_i = (sigmoid(np.array([m.cuda().eval()(pis).cpu().detach().numpy() for m in models_vic_1])),sigmoid(np.array([m.cuda().eval()(pis).cpu().detach().numpy() for m in models_vic_2])))\\npred_j = (sigmoid(np.array([m.cuda().eval()(pjs).cpu().detach().numpy() for m in models_vic_1])),sigmoid(np.array([m.cuda().eval()(pjs).cpu().detach().numpy() for m in models_vic_2])))\\n'"
      ]
     },
     "execution_count": 8,
     "metadata": {},
     "output_type": "execute_result"
    }
   ],
   "source": [
    "p_ind = reverse_ind(attacker_obj.retained_pairs[ind],len(attacker_obj.seed_data_ds))\n",
    "\"\"\"\n",
    "pis = attacker_obj.seed_data_ds[p_ind[0]].cuda()\n",
    "pjs = attacker_obj.seed_data_ds[p_ind[1]].cuda()\n",
    "\n",
    "pred_i = (sigmoid(np.array([m.cuda().eval()(pis).cpu().detach().numpy() for m in models_vic_1])),sigmoid(np.array([m.cuda().eval()(pis).cpu().detach().numpy() for m in models_vic_2])))\n",
    "pred_j = (sigmoid(np.array([m.cuda().eval()(pjs).cpu().detach().numpy() for m in models_vic_1])),sigmoid(np.array([m.cuda().eval()(pjs).cpu().detach().numpy() for m in models_vic_2])))\n",
    "\"\"\"\n",
    "print()"
   ]
  },
  {
   "cell_type": "code",
   "execution_count": 9,
   "metadata": {},
   "outputs": [
    {
     "name": "stdout",
     "output_type": "stream",
     "text": [
      "90\n",
      "(500, 90, 1)\n"
     ]
    },
    {
     "data": {
      "text/plain": [
       "<matplotlib.collections.PathCollection at 0x7fbfa90a6a00>"
      ]
     },
     "execution_count": 9,
     "metadata": {},
     "output_type": "execute_result"
    },
    {
     "data": {
      "image/png": "[encoded data removed]",
      "text/plain": [
       "<Figure size 900x600 with 1 Axes>"
      ]
     },
     "metadata": {
      "needs_background": "light"
     },
     "output_type": "display_data"
    }
   ],
   "source": [
    "uni_p = np.unique(np.concatenate(p_ind))\n",
    "ps = attacker_obj.seed_data_ds[uni_p].cuda()\n",
    "preds = [sigmoid(np.array([m.cuda().eval()(ps).cpu().detach().numpy() for m in models_vic_1])),sigmoid(np.array([m.cuda().eval()(ps).cpu().detach().numpy() for m in models_vic_2]))]\n",
    "print(len(uni_p))\n",
    "print(preds[0].shape)\n",
    "preds = [np.mean(x,0) for x in preds]\n",
    "plt.scatter(preds[0],preds[1])\n",
    "plt.title(\"Points (from pairs) identified from attribution\")\n",
    "plt.xlabel(\"Average prediction from models on D0\")\n",
    "plt.ylabel(\"Average prediction from models on D1\")"
   ]
  },
  {
   "cell_type": "code",
   "execution_count": 10,
   "metadata": {},
   "outputs": [
    {
     "data": {
      "text/plain": [
       "<matplotlib.collections.PathCollection at 0x7fbfa909cac0>"
      ]
     },
     "execution_count": 10,
     "metadata": {},
     "output_type": "execute_result"
    },
    {
     "data": {
      "image/png": "[encoded data removed]",
      "text/plain": [
       "<Figure size 900x600 with 1 Axes>"
      ]
     },
     "metadata": {
      "needs_background": "light"
     },
     "output_type": "display_data"
    }
   ],
   "source": [
    "plt.scatter(pred_i[0],pred_j[0], label=\"First set of models\")\n",
    "plt.scatter(pred_i[1],pred_j[1], label=\"Second set of models\")\n",
    "plt.xlabel(\"Average prediction for first point in pair\")\n",
    "plt.ylabel(\"Average prediction for second point in pair\")\n",
    "plt.legend()"
   ]
  },
  {
   "cell_type": "code",
   "execution_count": 11,
   "metadata": {},
   "outputs": [
    {
     "name": "stdout",
     "output_type": "stream",
     "text": [
      "Total percentage of edges between two colors: 97.76%\n",
      "Total percentage of edges within first color: 0.79%\n",
      "Total percentage of edges within second color: 1.46%\n",
      "\n",
      "\n",
      "Total percentage of edges with one of them as anchor: 49.72%\n"
     ]
    },
    {
     "data": {
      "image/png": "[encoded data removed]",
      "text/plain": [
       "<Figure size 900x600 with 1 Axes>"
      ]
     },
     "metadata": {
      "needs_background": "light"
     },
     "output_type": "display_data"
    }
   ],
   "source": [
    "import networkx  as nx\n",
    "G=nx.Graph()\n",
    "\n",
    "large_num = int(1e5)\n",
    "fig, ax = plt.subplots()\n",
    "node_color_list = []\n",
    "\n",
    "def add_to_flow(p, q):\n",
    "    if p < 0.5 and q < 0.5:\n",
    "        return True\n",
    "    return False\n",
    "\n",
    "def lower_left_quad(p, q):\n",
    "    if add_to_flow(p, q):\n",
    "        return 'orange'\n",
    "    return 'blue'\n",
    "\n",
    "def anchor_point(p, q):\n",
    "    if np.abs(p - q) < 0.01:\n",
    "        return True\n",
    "    return False\n",
    "\n",
    "flow_nodes = []\n",
    "one_of_them_anchor_nodes = []\n",
    "for i in range(n_look_at):\n",
    "    G.add_node(i,pos=(pred_i[0][i][0],pred_i[1][i][0]))\n",
    "    node_color_list.append(lower_left_quad(pred_i[0][i][0],pred_i[1][i][0]))\n",
    "    G.add_node(large_num-i,pos=(pred_j[0][i][0],pred_j[1][i][0]))\n",
    "    node_color_list.append(lower_left_quad(pred_j[0][i][0],pred_j[1][i][0]))\n",
    "    # Add orange nodes to one set\n",
    "    if add_to_flow(pred_i[0][i][0],pred_i[1][i][0]):\n",
    "        flow_nodes.append(i)\n",
    "    if add_to_flow(pred_j[0][i][0],pred_j[1][i][0]):\n",
    "        flow_nodes.append(large_num-i)\n",
    "    # Also track pairs where one of the points has similar predictions for both sets of models\n",
    "    # Which might correspond to a rule like 'models that have similar prediction on this, but not on that'\n",
    "    anchor_1 = anchor_point(pred_i[0][i][0],pred_i[1][i][0])\n",
    "    anchor_2 = anchor_point(pred_j[0][i][0],pred_j[1][i][0])\n",
    "    if np.logical_xor(anchor_1, anchor_2):\n",
    "        if anchor_1:\n",
    "            one_of_them_anchor_nodes.append(i)\n",
    "        else:\n",
    "            one_of_them_anchor_nodes.append(large_num-i)\n",
    "\n",
    "for i in range(n_look_at):\n",
    "    G.add_edge(i,large_num-i)\n",
    "\n",
    "pos=nx.get_node_attributes(G,'pos')\n",
    "\n",
    "nx.draw_networkx(G, pos, ax=ax, with_labels=False, node_size=50, width=0.5, node_color=node_color_list)\n",
    "\n",
    "ax.tick_params(left=True, bottom=True, labelleft=True, labelbottom=True)\n",
    "plt.xlabel(\"Average prediction from models on D0\")\n",
    "plt.ylabel(\"Average prediction from models on D0\")\n",
    "plt.title(\"Edges between pairs utilized by model\")\n",
    "\n",
    "num_edges_total = G.number_of_edges()\n",
    "\n",
    "# Print edge boundary between the two colors\n",
    "num_edges_cross = len(list(nx.edge_boundary(G, flow_nodes)))\n",
    "print(\"Total percentage of edges between two colors: %.2f%%\" % (100 * num_edges_cross / num_edges_total))\n",
    "sum_so_far = num_edges_total - num_edges_cross\n",
    "\n",
    "# Print edged within first color\n",
    "num_edges_within_first = len(list(nx.edge_boundary(G, flow_nodes, flow_nodes)))\n",
    "print(\"Total percentage of edges within first color: %.2f%%\" % (100 * num_edges_within_first / num_edges_total))\n",
    "sum_so_far -= num_edges_within_first\n",
    "\n",
    "print(\"Total percentage of edges within second color: %.2f%%\" % (100 * sum_so_far / num_edges_total))\n",
    "print(\"\\n\")\n",
    "\n",
    "# Also see how many points have one with 'anchor'\n",
    "num_edges_anchor = len(list(nx.edge_boundary(G, one_of_them_anchor_nodes)))\n",
    "print(\"Total percentage of edges with one of them as anchor: %.2f%%\" % (100 * num_edges_anchor / num_edges_total))"
   ]
  },
  {
   "cell_type": "code",
   "execution_count": 12,
   "metadata": {},
   "outputs": [
    {
     "data": {
      "text/plain": [
       "<matplotlib.collections.PathCollection at 0x7fbfa8c14dc0>"
      ]
     },
     "execution_count": 12,
     "metadata": {},
     "output_type": "execute_result"
    },
    {
     "data": {
      "image/png": "[encoded data removed]",
      "text/plain": [
       "<Figure size 900x600 with 1 Axes>"
      ]
     },
     "metadata": {
      "needs_background": "light"
     },
     "output_type": "display_data"
    }
   ],
   "source": [
    "n=20\n",
    "plt.xlim([0,1])\n",
    "plt.ylim([0,1])\n",
    "plt.scatter(pred_i[0][n],pred_j[0][n])\n",
    "plt.scatter(pred_i[1][n],pred_j[1][n])"
   ]
  },
  {
   "cell_type": "code",
   "execution_count": null,
   "metadata": {},
   "outputs": [],
   "source": []
  }
 ],
 "metadata": {
  "interpreter": {
   "hash": "b4dc72eda38794d3bbff2eefb19702cda488c570447440db9ecdc6399f020f43"
  },
  "kernelspec": {
   "display_name": "phd9",
   "language": "python",
   "name": "phd9"
  },
  "language_info": {
   "codemirror_mode": {
    "name": "ipython",
    "version": 3
   },
   "file_extension": ".py",
   "mimetype": "text/x-python",
   "name": "python",
   "nbconvert_exporter": "python",
   "pygments_lexer": "ipython3",
   "version": "3.9.7"
  }
 },
 "nbformat": 4,
 "nbformat_minor": 2
}
