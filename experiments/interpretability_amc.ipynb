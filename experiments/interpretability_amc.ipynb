{
 "cells": [
  {
   "cell_type": "code",
   "execution_count": 3,
   "metadata": {},
   "outputs": [],
   "source": [
    "from pathlib import Path\n",
    "import warnings\n",
    "import os\n",
    "import torch.nn as nn\n",
    "from captum.attr import IntegratedGradients,LayerIntegratedGradients\n",
    "import torch as ch\n",
    "import numpy as np\n",
    "from scipy import stats\n",
    "import pandas as pd\n",
    "import matplotlib as mpl\n",
    "mpl.rcParams['figure.dpi'] = 150\n",
    "\n",
    "from distribution_inference.datasets.utils import get_dataset_wrapper, get_dataset_information\n",
    "from distribution_inference.attacks.utils import get_dfs_for_victim_and_adv\n",
    "from distribution_inference.attacks.whitebox.utils import get_attack, wrap_into_loader\n",
    "from distribution_inference.attacks.whitebox.affinity.utils import get_loader_for_seed_data\n",
    "from distribution_inference.config import DatasetConfig, AttackConfig, WhiteBoxAttackConfig, TrainConfig\n",
    "from distribution_inference.utils import flash_utils, warning_string\n",
    "from distribution_inference.logging.core import AttackResult\n",
    "from distribution_inference.attacks.blackbox.core import sigmoid\n",
    "import os\n",
    "gpu = \"0,1,2,3\"\n",
    "os.environ[\"CUDA_VISIBLE_DEVICES\"] = gpu"
   ]
  },
  {
   "cell_type": "code",
   "execution_count": 4,
   "metadata": {},
   "outputs": [],
   "source": [
    "load_config = Path(\"./cel_AMC_interp.json\")\n",
    "meta_path = \"/p/adversarialml/as9rw/tmp/celeba/Male\""
   ]
  },
  {
   "cell_type": "code",
   "execution_count": 5,
   "metadata": {},
   "outputs": [],
   "source": [
    "attack_config: AttackConfig = AttackConfig.load(\n",
    "        load_config, drop_extra_fields=False)\n",
    "wb_attack_config: WhiteBoxAttackConfig = attack_config.white_box\n",
    "train_config: TrainConfig = attack_config.train_config\n",
    "data_config: DatasetConfig = train_config.data_config\n",
    "if train_config.misc_config is not None:\n",
    "        # TODO: Figure out best place to have this logic in the module\n",
    "    if train_config.misc_config.adv_config:\n",
    "            # Scale epsilon by 255 if requested\n",
    "        if train_config.misc_config.adv_config.scale_by_255:\n",
    "            train_config.misc_config.adv_config.epsilon /= 255\n",
    "if len(attack_config.values) != 1:\n",
    "        warnings.warn(warning_string(\n",
    "            \"\\nTesting one meta-classifier against multiple ratios.\\n\"))\n",
    "values_to_test = [str(x) for x in attack_config.values]\n",
    "folders = os.listdir(meta_path)\n",
    "for value in values_to_test:\n",
    "    if value not in folders:\n",
    "        raise ValueError(\n",
    "            f\"No model found for value {value} in {meta_path}\")\n",
    "#flash_utils(attack_config)\n",
    "ds_wrapper_class = get_dataset_wrapper(data_config.name)\n",
    "\n",
    "    # Get dataset info object\n",
    "ds_info = get_dataset_information(data_config.name)()\n",
    "\n",
    "    # Create new DS object for both and victim\n",
    "_, data_config_vic_1 = get_dfs_for_victim_and_adv(\n",
    "        data_config)\n",
    "ds_vic_1 = ds_wrapper_class(data_config_vic_1, skip_data=True)"
   ]
  },
  {
   "cell_type": "code",
   "execution_count": 6,
   "metadata": {},
   "outputs": [
    {
     "name": "stdout",
     "output_type": "stream",
     "text": [
      "\u001b[93mAvailable models: 100\u001b[0m\n"
     ]
    },
    {
     "name": "stderr",
     "output_type": "stream",
     "text": [
      "Loading models: 100%|██████████| 100/100 [00:25<00:00,  3.99it/s]\n"
     ]
    },
    {
     "name": "stdout",
     "output_type": "stream",
     "text": [
      "\u001b[93mAvailable models: 100\u001b[0m\n"
     ]
    },
    {
     "name": "stderr",
     "output_type": "stream",
     "text": [
      "Loading models: 100%|██████████| 100/100 [00:28<00:00,  3.55it/s]\n",
      "Building affinity matrix: 100%|██████████| 200/200 [02:18<00:00,  1.45it/s]\n"
     ]
    }
   ],
   "source": [
    "#n_vic_models = attack_config.num_victim_models\n",
    "n_vic_models = 100\n",
    "\n",
    "models_vic_1 = ds_vic_1.get_models(\n",
    "            train_config,\n",
    "            n_models=n_vic_models,\n",
    "            on_cpu=attack_config.on_cpu,\n",
    "            shuffle=True,\n",
    "            model_arch=attack_config.victim_model_arch,\n",
    "            custom_models_path=None,)\n",
    "\n",
    "# For each value (of property) asked to experiment with\n",
    "for i, prop_value in enumerate([attack_config.values[3]]):\n",
    "    # Creata a copy of the data config, with the property value\n",
    "    # changed to the current value\n",
    "    _, data_config_vic_2 = get_dfs_for_victim_and_adv(\n",
    "                data_config, prop_value=prop_value)\n",
    "\n",
    "    # Create new DS object for both and victim (for other ratio)\n",
    "    ds_vic_2 = ds_wrapper_class(data_config_vic_2, skip_data=True)\n",
    "\n",
    "    # Load victim's model for other value\n",
    "    models_vic_2 = ds_vic_2.get_models(\n",
    "                train_config,\n",
    "                n_models=n_vic_models,\n",
    "                on_cpu=attack_config.on_cpu,\n",
    "                shuffle=True,\n",
    "                model_arch=attack_config.victim_model_arch,\n",
    "                custom_models_path=None)\n",
    "\n",
    "    # Generate test set\n",
    "    test_data = wrap_into_loader(\n",
    "                [models_vic_1, models_vic_2],\n",
    "                batch_size=wb_attack_config.batch_size,\n",
    "                shuffle=True,\n",
    "                wrap_with_loader=False\n",
    "            )\n",
    "\n",
    "    # Look at all models\n",
    "    attack_model_path_dir = os.path.join(\n",
    "                meta_path, str(prop_value))\n",
    "    for attack_model_path in [os.listdir(attack_model_path_dir)[1]]:\n",
    "        # Skip if directory\n",
    "        if os.path.isdir(os.path.join(attack_model_path_dir, attack_model_path)):\n",
    "                    continue\n",
    "\n",
    "        # Create attacker object\n",
    "        attacker_obj = get_attack(wb_attack_config.attack)(\n",
    "                    None, wb_attack_config)\n",
    "\n",
    "        # Load model\n",
    "        attacker_obj.load_model(os.path.join(\n",
    "                    attack_model_path_dir, attack_model_path))\n",
    "        \n",
    "        # Make seed-data loader for this attack\n",
    "        seed_data_loader = get_loader_for_seed_data(\n",
    "                    attacker_obj.seed_data_ds, wb_attack_config)\n",
    "        # Create affinity features\n",
    "        features_test = attacker_obj.make_affinity_features(\n",
    "                    test_data[0], seed_data_loader)\n"
   ]
  },
  {
   "cell_type": "code",
   "execution_count": 7,
   "metadata": {},
   "outputs": [],
   "source": [
    "class Wrapper(nn.Module):\n",
    "    def __init__(self,amc):\n",
    "        super().__init__()\n",
    "        self.amc = amc\n",
    "\n",
    "    def forward(self, *args):\n",
    "        # Wrap args into one list\n",
    "        return self.amc(args)\n",
    "\n",
    "w = Wrapper(attacker_obj.model)"
   ]
  },
  {
   "cell_type": "code",
   "execution_count": 8,
   "metadata": {},
   "outputs": [],
   "source": [
    "def collate_fn(data):\n",
    "    features, labels = zip(*data)\n",
    "    # Combine them per-layer\n",
    "    x = [[] for _ in range(len(features[0]))]\n",
    "    for feature in features:\n",
    "        for i, layer_feature in enumerate(feature):\n",
    "            x[i].append(layer_feature)\n",
    "\n",
    "    x = [ch.stack(x_, 0) for x_ in x]\n",
    "    y = ch.tensor(labels).float()\n",
    "\n",
    "    return x, y\n",
    "\n",
    "class BasicDataset(ch.utils.data.Dataset):\n",
    "    def __init__(self, X, Y):\n",
    "        self.X = X\n",
    "        self.Y = Y\n",
    "        assert len(self.X) == len(self.Y)\n",
    "\n",
    "    def __len__(self):\n",
    "        return len(self.X)\n",
    "\n",
    "    def __getitem__(self, idx):\n",
    "        return self.X[idx], self.Y[idx]\n",
    "\n",
    "# Create laoaders out of all the given data\n",
    "def get_loader(data, shuffle):\n",
    "    ds = BasicDataset(data[0], data[1])\n",
    "    return ch.utils.data.DataLoader(\n",
    "        ds, batch_size=wb_attack_config.batch_size,\n",
    "        collate_fn=collate_fn,\n",
    "        shuffle=shuffle)"
   ]
  },
  {
   "cell_type": "code",
   "execution_count": 9,
   "metadata": {},
   "outputs": [],
   "source": [
    "test_loader_ = get_loader((features_test, test_data[1]), True)\n",
    "data = next(iter(test_loader_))[0]\n",
    "data = [x.cuda().requires_grad_() for x in data]"
   ]
  },
  {
   "cell_type": "code",
   "execution_count": 10,
   "metadata": {},
   "outputs": [],
   "source": [
    "ig = IntegratedGradients(w)\n",
    "test_input_tensor = data\n",
    "#test_input_tensor.requires_grad_()\n",
    "attr, delta = ig.attribute((*test_input_tensor,),\n",
    "                           target=0,\n",
    "                           return_convergence_delta=True)\n",
    "#attr = attr.cpu().detach().numpy()\n",
    "attr = [x.cpu().detach().numpy() for x in attr]\n",
    "attr_single = attr[-1]"
   ]
  },
  {
   "cell_type": "code",
   "execution_count": 11,
   "metadata": {},
   "outputs": [
    {
     "data": {
      "text/plain": [
       "'\\n# Need extra work. Wrapper and AMC have no layer\\n# Try layer attribution to see which layers seem to be most helpful\\nig = LayerIntegratedGradients(w)\\ntest_input_tensor = data\\n#test_input_tensor.requires_grad_()\\nattr_layer, delta_layer = ig.attribute((*test_input_tensor,),\\n                           target=0,\\n                           return_convergence_delta=True)\\n#attr = attr.cpu().detach().numpy()\\nprint(attr_layer)\\n'"
      ]
     },
     "execution_count": 11,
     "metadata": {},
     "output_type": "execute_result"
    }
   ],
   "source": [
    "\"\"\"\n",
    "# Need extra work. Wrapper and AMC have no layer\n",
    "# Try layer attribution to see which layers seem to be most helpful\n",
    "ig = LayerIntegratedGradients(w)\n",
    "test_input_tensor = data\n",
    "#test_input_tensor.requires_grad_()\n",
    "attr_layer, delta_layer = ig.attribute((*test_input_tensor,),\n",
    "                           target=0,\n",
    "                           return_convergence_delta=True)\n",
    "#attr = attr.cpu().detach().numpy()\n",
    "print(attr_layer)\n",
    "\"\"\""
   ]
  },
  {
   "cell_type": "code",
   "execution_count": 12,
   "metadata": {},
   "outputs": [],
   "source": [
    "attr = attr[:4]\n",
    "import matplotlib\n",
    "import matplotlib.pyplot as plt\n",
    "%matplotlib inline\n",
    "\n",
    "#plt.figure(dpi=1200)\n",
    "def visualize_importances(feature_names, importances, title=\"Average Feature Importances\", plot=True, axis_title=\"Features\"):\n",
    "    #print(title)\n",
    "    # for i in range(len(feature_names)):\n",
    "        # print(feature_names[i], \": \", '%.3f'%(importances[i]))\n",
    "    x_pos = (np.arange(len(feature_names)))\n",
    "    if plot:\n",
    "        plt.figure(figsize=(12,6))\n",
    "        plt.bar(x_pos, importances, align='center')\n",
    "        plt.xticks(x_pos, feature_names, wrap=True)\n",
    "        plt.xlabel(axis_title)\n",
    "        plt.title(title)"
   ]
  },
  {
   "cell_type": "code",
   "execution_count": 78,
   "metadata": {},
   "outputs": [
    {
     "data": {
      "image/png": "[encoded data removed]",
      "text/plain": [
       "<Figure size 864x432 with 1 Axes>"
      ]
     },
     "metadata": {
      "needs_background": "light"
     },
     "output_type": "display_data"
    }
   ],
   "source": [
    "means = np.mean(np.mean(attr,axis=0), axis=0)\n",
    "# means = np.median(np.median(attr,axis=0), axis=0)\n",
    "\n",
    "n_look_at = int(0.05*len(means))\n",
    "\n",
    "ind = np.argsort(np.absolute(means))[::-1][:n_look_at]\n",
    "# ind = np.argsort(np.absolute(means))[::-1][-n_look_at:]\n",
    "visualize_importances(attacker_obj.retained_pairs[ind], means[ind])"
   ]
  },
  {
   "cell_type": "code",
   "execution_count": 79,
   "metadata": {},
   "outputs": [
    {
     "name": "stdout",
     "output_type": "stream",
     "text": [
      "49\n"
     ]
    }
   ],
   "source": [
    "print(len(ind))\n",
    "def reverse_ind(x, leng):\n",
    "#get the indexes of points from the index of pairs, x. leng is # of points\n",
    "    indices_i, indices_j = [], []\n",
    "    f = np.arange(leng)\n",
    "    for j in f[:-1]:\n",
    "        others = f[j+1:]\n",
    "        indices_i += [j] * len(others)\n",
    "        indices_j += list(range(j+1, leng))\n",
    "    indices_i = np.array(indices_i)\n",
    "    indices_j = np.array(indices_j)\n",
    "    return (indices_i[x], indices_j[x])"
   ]
  },
  {
   "cell_type": "code",
   "execution_count": 80,
   "metadata": {},
   "outputs": [],
   "source": [
    "p_ind = reverse_ind(attacker_obj.retained_pairs[ind],len(attacker_obj.seed_data_ds))\n",
    "\n",
    "pis = attacker_obj.seed_data_ds[p_ind[0]].cuda()\n",
    "pjs = attacker_obj.seed_data_ds[p_ind[1]].cuda()\n",
    "\n",
    "pred_i = (sigmoid(np.array([m.cuda().eval()(pis).cpu().detach().numpy() for m in models_vic_1])),sigmoid(np.array([m.cuda().eval()(pis).cpu().detach().numpy() for m in models_vic_2])))\n",
    "pred_j = (sigmoid(np.array([m.cuda().eval()(pjs).cpu().detach().numpy() for m in models_vic_1])),sigmoid(np.array([m.cuda().eval()(pjs).cpu().detach().numpy() for m in models_vic_2])))\n",
    "pred_i = [np.mean(x,axis=0) for x in pred_i]\n",
    "pred_j = [np.mean(x,axis=0) for x in pred_j]"
   ]
  },
  {
   "cell_type": "code",
   "execution_count": 81,
   "metadata": {},
   "outputs": [
    {
     "name": "stdout",
     "output_type": "stream",
     "text": [
      "47\n",
      "(100, 47, 1)\n"
     ]
    },
    {
     "data": {
      "text/plain": [
       "Text(0, 0.5, 'Average prediction from models on D1')"
      ]
     },
     "execution_count": 81,
     "metadata": {},
     "output_type": "execute_result"
    },
    {
     "data": {
      "image/png": "[encoded data removed]",
      "text/plain": [
       "<Figure size 432x288 with 1 Axes>"
      ]
     },
     "metadata": {
      "needs_background": "light"
     },
     "output_type": "display_data"
    }
   ],
   "source": [
    "uni_p = np.unique(np.concatenate(p_ind))\n",
    "ps = attacker_obj.seed_data_ds[uni_p].cuda()\n",
    "preds = [sigmoid(np.array([m.cuda().eval()(ps).cpu().detach().numpy() for m in models_vic_1])),sigmoid(np.array([m.cuda().eval()(ps).cpu().detach().numpy() for m in models_vic_2]))]\n",
    "print(len(uni_p))\n",
    "print(preds[0].shape)\n",
    "preds = [np.mean(x,0) for x in preds]\n",
    "plt.scatter(preds[0],preds[1])\n",
    "plt.title(\"Points (from pairs) identified from attribution\")\n",
    "plt.xlabel(\"Average prediction from models on D0\")\n",
    "plt.ylabel(\"Average prediction from models on D1\")"
   ]
  },
  {
   "cell_type": "code",
   "execution_count": 82,
   "metadata": {},
   "outputs": [
    {
     "data": {
      "text/plain": [
       "<matplotlib.legend.Legend at 0x7f9942eff2b0>"
      ]
     },
     "execution_count": 82,
     "metadata": {},
     "output_type": "execute_result"
    },
    {
     "data": {
      "image/png": "[encoded data removed]",
      "text/plain": [
       "<Figure size 432x288 with 1 Axes>"
      ]
     },
     "metadata": {
      "needs_background": "light"
     },
     "output_type": "display_data"
    }
   ],
   "source": [
    "plt.scatter(pred_i[0],pred_j[0], label=\"First set of models\")\n",
    "plt.scatter(pred_i[1],pred_j[1], label=\"Second set of models\")\n",
    "plt.xlabel(\"Average prediction for first point in pair\")\n",
    "plt.ylabel(\"Average prediction for second point in pair\")\n",
    "plt.legend()"
   ]
  },
  {
   "cell_type": "code",
   "execution_count": 83,
   "metadata": {},
   "outputs": [
    {
     "name": "stdout",
     "output_type": "stream",
     "text": [
      "Total percentage of edges between two colors: 71.43%\n",
      "Total percentage of edges within first color: 22.45%\n",
      "Total percentage of edges within second color: 6.12%\n",
      "\n",
      "\n",
      "Total percentage of edges with one of them as anchor: 44.90%\n"
     ]
    },
    {
     "data": {
      "image/png": "[encoded data removed]",
      "text/plain": [
       "<Figure size 432x288 with 1 Axes>"
      ]
     },
     "metadata": {
      "needs_background": "light"
     },
     "output_type": "display_data"
    }
   ],
   "source": [
    "import networkx  as nx\n",
    "G=nx.Graph()\n",
    "\n",
    "large_num = int(1e5)\n",
    "fig, ax = plt.subplots()\n",
    "node_color_list = []\n",
    "\n",
    "def add_to_flow(p, q):\n",
    "    if p < 0.5 and q < 0.5:\n",
    "        return True\n",
    "    return False\n",
    "\n",
    "def lower_left_quad(p, q):\n",
    "    if add_to_flow(p, q):\n",
    "        return 'orange'\n",
    "    return 'blue'\n",
    "\n",
    "def anchor_point(p, q):\n",
    "    if np.abs(p - q) < 0.01:\n",
    "        return True\n",
    "    return False\n",
    "\n",
    "flow_nodes = []\n",
    "one_of_them_anchor_nodes = []\n",
    "for i in range(len(pred_i[0])):\n",
    "    G.add_node(i,pos=(pred_i[0][i][0],pred_i[1][i][0]))\n",
    "    node_color_list.append(lower_left_quad(pred_i[0][i][0],pred_i[1][i][0]))\n",
    "    G.add_node(large_num-i,pos=(pred_j[0][i][0],pred_j[1][i][0]))\n",
    "    node_color_list.append(lower_left_quad(pred_j[0][i][0],pred_j[1][i][0]))\n",
    "    # Add orange nodes to one set\n",
    "    if add_to_flow(pred_i[0][i][0],pred_i[1][i][0]):\n",
    "        flow_nodes.append(i)\n",
    "    if add_to_flow(pred_j[0][i][0],pred_j[1][i][0]):\n",
    "        flow_nodes.append(large_num-i)\n",
    "    # Also track pairs where one of the points has similar predictions for both sets of models\n",
    "    # Which might correspond to a rule like 'models that have similar prediction on this, but not on that'\n",
    "    anchor_1 = anchor_point(pred_i[0][i][0],pred_i[1][i][0])\n",
    "    anchor_2 = anchor_point(pred_j[0][i][0],pred_j[1][i][0])\n",
    "    if np.logical_xor(anchor_1, anchor_2):\n",
    "        if anchor_1:\n",
    "            one_of_them_anchor_nodes.append(i)\n",
    "        else:\n",
    "            one_of_them_anchor_nodes.append(large_num-i)\n",
    "\n",
    "for i in range(len(pred_i[0])):\n",
    "    G.add_edge(i,large_num-i)\n",
    "\n",
    "pos=nx.get_node_attributes(G,'pos')\n",
    "\n",
    "nx.draw_networkx(G, pos, ax=ax, with_labels=False, node_size=50, width=0.5, node_color=node_color_list)\n",
    "\n",
    "ax.tick_params(left=True, bottom=True, labelleft=True, labelbottom=True)\n",
    "plt.xlabel(\"Average prediction from models on D0\")\n",
    "plt.ylabel(\"Average prediction from models on D1\")\n",
    "plt.title(\"Edges between pairs utilized by model\")\n",
    "\n",
    "num_edges_total = G.number_of_edges()\n",
    "\n",
    "# Print edge boundary between the two colors\n",
    "num_edges_cross = len(list(nx.edge_boundary(G, flow_nodes)))\n",
    "print(\"Total percentage of edges between two colors: %.2f%%\" % (100 * num_edges_cross / num_edges_total))\n",
    "sum_so_far = num_edges_total - num_edges_cross\n",
    "\n",
    "# Print edged within first color\n",
    "num_edges_within_first = len(list(nx.edge_boundary(G, flow_nodes, flow_nodes)))\n",
    "print(\"Total percentage of edges within first color: %.2f%%\" % (100 * num_edges_within_first / num_edges_total))\n",
    "sum_so_far -= num_edges_within_first\n",
    "\n",
    "print(\"Total percentage of edges within second color: %.2f%%\" % (100 * sum_so_far / num_edges_total))\n",
    "print(\"\\n\")\n",
    "\n",
    "# Also see how many points have one with 'anchor'\n",
    "num_edges_anchor = len(list(nx.edge_boundary(G, one_of_them_anchor_nodes)))\n",
    "print(\"Total percentage of edges with one of them as anchor: %.2f%%\" % (100 * num_edges_anchor / num_edges_total))"
   ]
  },
  {
   "cell_type": "code",
   "execution_count": 84,
   "metadata": {},
   "outputs": [
    {
     "data": {
      "text/plain": [
       "<matplotlib.collections.PathCollection at 0x7f993b76be50>"
      ]
     },
     "execution_count": 84,
     "metadata": {},
     "output_type": "execute_result"
    },
    {
     "data": {
      "image/png": "[encoded data removed]",
      "text/plain": [
       "<Figure size 432x288 with 1 Axes>"
      ]
     },
     "metadata": {
      "needs_background": "light"
     },
     "output_type": "display_data"
    }
   ],
   "source": [
    "n=20\n",
    "plt.xlim([0,1])\n",
    "plt.ylim([0,1])\n",
    "plt.scatter(pred_i[0][n],pred_j[0][n])\n",
    "plt.scatter(pred_i[1][n],pred_j[1][n])"
   ]
  },
  {
   "cell_type": "code",
   "execution_count": null,
   "metadata": {},
   "outputs": [],
   "source": []
  }
 ],
 "metadata": {
  "interpreter": {
   "hash": "b4dc72eda38794d3bbff2eefb19702cda488c570447440db9ecdc6399f020f43"
  },
  "kernelspec": {
   "display_name": "phd9",
   "language": "python",
   "name": "python3"
  },
  "language_info": {
   "codemirror_mode": {
    "name": "ipython",
    "version": 3
   },
   "file_extension": ".py",
   "mimetype": "text/x-python",
   "name": "python",
   "nbconvert_exporter": "python",
   "pygments_lexer": "ipython3",
   "version": "3.9.7"
  }
 },
 "nbformat": 4,
 "nbformat_minor": 2
}
