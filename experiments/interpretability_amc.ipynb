{
 "cells": [
  {
   "cell_type": "code",
   "execution_count": 135,
   "metadata": {},
   "outputs": [],
   "source": [
    "from pathlib import Path\n",
    "import warnings\n",
    "import os\n",
    "\n",
    "from distribution_inference.datasets.utils import get_dataset_wrapper, get_dataset_information\n",
    "from distribution_inference.attacks.utils import get_dfs_for_victim_and_adv\n",
    "from distribution_inference.attacks.whitebox.utils import get_attack, wrap_into_loader\n",
    "from distribution_inference.attacks.whitebox.affinity.utils import get_loader_for_seed_data\n",
    "from distribution_inference.config import DatasetConfig, AttackConfig, WhiteBoxAttackConfig, TrainConfig\n",
    "from distribution_inference.utils import flash_utils, warning_string\n",
    "from distribution_inference.logging.core import AttackResult\n",
    "load_config = Path(\"./cel_AMC_interp.json\")\n",
    "meta_path = \"/p/adversarialml/as9rw/tmp/celeba/Male\""
   ]
  },
  {
   "cell_type": "code",
   "execution_count": 136,
   "metadata": {},
   "outputs": [],
   "source": [
    "attack_config: AttackConfig = AttackConfig.load(\n",
    "        load_config, drop_extra_fields=False)\n",
    "wb_attack_config: WhiteBoxAttackConfig = attack_config.white_box\n",
    "train_config: TrainConfig = attack_config.train_config\n",
    "data_config: DatasetConfig = train_config.data_config\n",
    "if train_config.misc_config is not None:\n",
    "        # TODO: Figure out best place to have this logic in the module\n",
    "    if train_config.misc_config.adv_config:\n",
    "            # Scale epsilon by 255 if requested\n",
    "        if train_config.misc_config.adv_config.scale_by_255:\n",
    "            train_config.misc_config.adv_config.epsilon /= 255\n",
    "if len(attack_config.values) != 1:\n",
    "        warnings.warn(warning_string(\n",
    "            \"\\nTesting one meta-classifier against multiple ratios.\\n\"))\n",
    "values_to_test = [str(x) for x in attack_config.values]\n",
    "folders = os.listdir(meta_path)\n",
    "for value in values_to_test:\n",
    "    if value not in folders:\n",
    "        raise ValueError(\n",
    "            f\"No model found for value {value} in {meta_path}\")\n",
    "#flash_utils(attack_config)\n",
    "ds_wrapper_class = get_dataset_wrapper(data_config.name)\n",
    "\n",
    "    # Get dataset info object\n",
    "ds_info = get_dataset_information(data_config.name)()\n",
    "\n",
    "    # Create new DS object for both and victim\n",
    "_, data_config_vic_1 = get_dfs_for_victim_and_adv(\n",
    "        data_config)\n",
    "ds_vic_1 = ds_wrapper_class(data_config_vic_1, skip_data=True)"
   ]
  },
  {
   "cell_type": "code",
   "execution_count": 177,
   "metadata": {},
   "outputs": [
    {
     "name": "stdout",
     "output_type": "stream",
     "text": [
      "\u001b[93mAvailable models: 500\u001b[0m\n"
     ]
    },
    {
     "name": "stderr",
     "output_type": "stream",
     "text": [
      "Loading models: 100%|██████████| 500/500 [00:07<00:00, 62.64it/s]\n"
     ]
    },
    {
     "name": "stdout",
     "output_type": "stream",
     "text": [
      "\u001b[93mAvailable models: 500\u001b[0m\n"
     ]
    },
    {
     "name": "stderr",
     "output_type": "stream",
     "text": [
      "Loading models:  12%|█▏        | 58/500 [00:17<02:35,  2.85it/s]"
     ]
    }
   ],
   "source": [
    "models_vic_1 = ds_vic_1.get_models(\n",
    "            train_config,\n",
    "            n_models=attack_config.num_victim_models,\n",
    "            on_cpu=attack_config.on_cpu,\n",
    "            shuffle=False,\n",
    "            model_arch=attack_config.victim_model_arch,\n",
    "            custom_models_path=None,)\n",
    "\n",
    "        # For each value (of property) asked to experiment with\n",
    "for i, prop_value in enumerate([attack_config.values[2]]):\n",
    "            # Creata a copy of the data config, with the property value\n",
    "            # changed to the current value\n",
    "    _, data_config_vic_2 = get_dfs_for_victim_and_adv(\n",
    "                data_config, prop_value=prop_value)\n",
    "\n",
    "            # Create new DS object for both and victim (for other ratio)\n",
    "    ds_vic_2 = ds_wrapper_class(data_config_vic_2, skip_data=True)\n",
    "\n",
    "            # Load victim's model for other value\n",
    "    models_vic_2 = ds_vic_2.get_models(\n",
    "                train_config,\n",
    "                n_models=attack_config.num_victim_models,\n",
    "                on_cpu=attack_config.on_cpu,\n",
    "                shuffle=False,\n",
    "                model_arch=attack_config.victim_model_arch,\n",
    "                custom_models_path=None)\n",
    "\n",
    "            # Generate test set\n",
    "    test_data = wrap_into_loader(\n",
    "                [models_vic_1, models_vic_2],\n",
    "                batch_size=wb_attack_config.batch_size,\n",
    "                shuffle=False,\n",
    "                wrap_with_loader=False\n",
    "            )\n",
    "\n",
    "            # Look at all models\n",
    "    attack_model_path_dir = os.path.join(\n",
    "                meta_path, str(prop_value))\n",
    "    for attack_model_path in [os.listdir(attack_model_path_dir)[1]]:\n",
    "                # Skip if directory\n",
    "        if os.path.isdir(os.path.join(attack_model_path_dir, attack_model_path)):\n",
    "                    continue\n",
    "\n",
    "                # Create attacker object\n",
    "        attacker_obj = get_attack(wb_attack_config.attack)(\n",
    "                    None, wb_attack_config)\n",
    "\n",
    "                # Load model\n",
    "        attacker_obj.load_model(os.path.join(\n",
    "                    attack_model_path_dir, attack_model_path))\n",
    "        \n",
    "                # Make seed-data loader for this attack\n",
    "        seed_data_loader = get_loader_for_seed_data(\n",
    "                    attacker_obj.seed_data_ds, wb_attack_config)\n",
    "                # Create affinity features\n",
    "        features_test = attacker_obj.make_affinity_features(\n",
    "                    test_data[0], seed_data_loader)\n"
   ]
  },
  {
   "cell_type": "code",
   "execution_count": null,
   "metadata": {},
   "outputs": [],
   "source": [
    "import torch.nn as nn\n",
    "class Wrapper(nn.Module):\n",
    "    def __init__(self,amc):\n",
    "        super().__init__()\n",
    "        self.amc=amc\n",
    "    def forward(self, *args):\n",
    "        # Wrap args into one list\n",
    "        return self.amc(args)\n",
    "\n",
    "w = Wrapper(attacker_obj.model)"
   ]
  },
  {
   "cell_type": "code",
   "execution_count": null,
   "metadata": {},
   "outputs": [],
   "source": [
    "from captum.attr import IntegratedGradients\n",
    "import torch as ch\n",
    "           \n",
    "def collate_fn(data):\n",
    "    features, labels = zip(*data)\n",
    "    # Combine them per-layer\n",
    "    x = [[] for _ in range(len(features[0]))]\n",
    "    for feature in features:\n",
    "        for i, layer_feature in enumerate(feature):\n",
    "            x[i].append(layer_feature)\n",
    "\n",
    "    x = [ch.stack(x_, 0) for x_ in x]\n",
    "    y = ch.tensor(labels).float()\n",
    "\n",
    "    return x, y\n",
    "\n",
    "class BasicDataset(ch.utils.data.Dataset):\n",
    "    def __init__(self, X, Y):\n",
    "        self.X = X\n",
    "        self.Y = Y\n",
    "        assert len(self.X) == len(self.Y)\n",
    "\n",
    "    def __len__(self):\n",
    "        return len(self.X)\n",
    "\n",
    "    def __getitem__(self, idx):\n",
    "        return self.X[idx], self.Y[idx]\n",
    "\n",
    "# Create laoaders out of all the given data\n",
    "def get_loader(data, shuffle):\n",
    "    ds = BasicDataset(data[0], data[1])\n",
    "    return ch.utils.data.DataLoader(\n",
    "        ds, batch_size=wb_attack_config.batch_size,\n",
    "        collate_fn=collate_fn,\n",
    "        shuffle=shuffle)\n",
    "test_loader_ = get_loader((features_test, test_data[1]), False)\n",
    "data = next(iter(test_loader_))[0]\n",
    "data = [x.cuda().requires_grad_() for x in data]\n",
    "ig = IntegratedGradients(w)\n",
    "test_input_tensor = data\n",
    "#test_input_tensor.requires_grad_()\n",
    "attr, delta = ig.attribute((*test_input_tensor,),target=0, return_convergence_delta=True)\n",
    "#attr = attr.cpu().detach().numpy()\n",
    "attr = [x.cpu().detach().numpy() for x in attr]"
   ]
  },
  {
   "cell_type": "code",
   "execution_count": null,
   "metadata": {},
   "outputs": [
    {
     "name": "stdout",
     "output_type": "stream",
     "text": [
      "Average Feature Importances\n",
      "2668 :  -0.119\n",
      "2625 :  -0.112\n",
      "2614 :  -0.109\n",
      "2647 :  -0.106\n",
      "2664 :  -0.100\n",
      "2621 :  -0.097\n",
      "2822 :  -0.064\n",
      "14 :  0.061\n",
      "2649 :  0.060\n",
      "2611 :  0.060\n",
      "3000 :  0.059\n",
      "76 :  0.057\n",
      "2637 :  0.057\n",
      "2604 :  0.055\n",
      "2628 :  0.055\n",
      "2634 :  0.054\n",
      "2658 :  0.053\n",
      "3763 :  -0.052\n",
      "2180 :  0.052\n",
      "2661 :  0.051\n",
      "55 :  0.049\n",
      "31 :  0.049\n",
      "61 :  0.049\n",
      "701 :  0.048\n",
      "4339 :  -0.047\n",
      "88 :  0.047\n",
      "4094 :  -0.046\n",
      "3833 :  -0.046\n",
      "4341 :  -0.045\n",
      "2199 :  -0.045\n",
      "214 :  -0.045\n",
      "85 :  0.045\n",
      "1853 :  -0.044\n",
      "1858 :  -0.042\n",
      "1855 :  -0.042\n",
      "3758 :  -0.042\n",
      "3760 :  -0.042\n",
      "3020 :  0.041\n",
      "83 :  0.041\n",
      "244 :  -0.041\n",
      "4011 :  -0.041\n",
      "1312 :  -0.040\n",
      "3144 :  -0.040\n",
      "3010 :  0.040\n",
      "3373 :  0.039\n",
      "3732 :  -0.038\n",
      "3730 :  -0.038\n",
      "2703 :  -0.038\n",
      "2689 :  -0.038\n",
      "4342 :  -0.038\n",
      "4320 :  -0.037\n",
      "879 :  0.034\n",
      "1856 :  -0.034\n",
      "3751 :  -0.034\n",
      "3739 :  -0.034\n",
      "3260 :  0.032\n",
      "775 :  -0.031\n",
      "1834 :  -0.031\n",
      "3858 :  -0.031\n",
      "4072 :  -0.029\n",
      "983 :  -0.028\n",
      "2938 :  -0.028\n",
      "3955 :  -0.027\n",
      "727 :  0.026\n",
      "3658 :  -0.026\n",
      "1846 :  -0.026\n",
      "908 :  0.026\n",
      "4609 :  -0.025\n",
      "1229 :  0.025\n",
      "1659 :  -0.025\n",
      "968 :  0.025\n",
      "4611 :  -0.024\n",
      "3424 :  -0.024\n",
      "3688 :  0.023\n",
      "2842 :  0.023\n",
      "2867 :  0.023\n",
      "3785 :  0.023\n",
      "4136 :  -0.023\n",
      "3552 :  -0.022\n",
      "682 :  -0.022\n",
      "1254 :  -0.022\n",
      "3221 :  0.021\n",
      "1014 :  -0.021\n",
      "2814 :  0.021\n",
      "4103 :  -0.021\n",
      "3182 :  0.021\n",
      "3317 :  0.021\n",
      "4645 :  -0.021\n",
      "674 :  -0.021\n",
      "4840 :  -0.021\n",
      "3940 :  -0.021\n",
      "4768 :  -0.020\n",
      "2256 :  0.020\n",
      "3874 :  -0.020\n",
      "1397 :  0.020\n",
      "2836 :  0.020\n",
      "1407 :  0.020\n",
      "2712 :  -0.019\n",
      "4020 :  -0.019\n",
      "4772 :  -0.019\n",
      "2244 :  -0.019\n",
      "3864 :  -0.019\n",
      "305 :  0.019\n",
      "4125 :  -0.019\n",
      "1956 :  -0.018\n",
      "3313 :  -0.018\n",
      "2096 :  -0.018\n",
      "2858 :  0.018\n",
      "1929 :  0.018\n",
      "4379 :  -0.017\n",
      "2428 :  0.017\n",
      "4362 :  -0.017\n",
      "3362 :  0.017\n",
      "2519 :  -0.017\n",
      "3671 :  -0.017\n",
      "3083 :  0.017\n",
      "3384 :  0.017\n",
      "289 :  -0.017\n",
      "1400 :  0.017\n",
      "3555 :  -0.017\n",
      "1890 :  0.016\n",
      "3397 :  0.016\n",
      "1384 :  -0.016\n",
      "3663 :  -0.016\n",
      "1382 :  0.015\n",
      "2155 :  -0.015\n",
      "1409 :  0.015\n",
      "2157 :  0.015\n",
      "4763 :  -0.015\n",
      "4317 :  0.015\n",
      "2337 :  0.015\n",
      "4765 :  -0.015\n",
      "2738 :  -0.015\n",
      "1415 :  0.015\n",
      "2276 :  -0.015\n",
      "4131 :  -0.015\n",
      "1037 :  0.015\n",
      "3175 :  -0.015\n",
      "4046 :  -0.014\n",
      "3254 :  0.014\n",
      "2734 :  -0.014\n",
      "3234 :  -0.014\n",
      "4384 :  -0.014\n",
      "2229 :  -0.014\n",
      "3408 :  0.014\n",
      "2493 :  -0.014\n",
      "4042 :  -0.014\n",
      "3641 :  -0.014\n",
      "574 :  -0.014\n",
      "3387 :  0.014\n",
      "274 :  -0.014\n",
      "4630 :  -0.014\n",
      "3123 :  0.013\n",
      "798 :  0.013\n",
      "426 :  0.013\n",
      "850 :  -0.013\n",
      "2487 :  -0.013\n",
      "3943 :  -0.013\n",
      "3413 :  -0.013\n",
      "2467 :  -0.013\n",
      "4736 :  -0.013\n",
      "2782 :  0.013\n",
      "1942 :  -0.013\n",
      "3540 :  -0.012\n",
      "4823 :  -0.012\n",
      "1597 :  -0.012\n",
      "4819 :  -0.012\n",
      "4110 :  -0.012\n",
      "4112 :  0.012\n",
      "4777 :  -0.012\n",
      "3190 :  0.012\n",
      "2311 :  -0.012\n",
      "1758 :  -0.012\n",
      "4371 :  0.012\n",
      "2306 :  -0.012\n",
      "3368 :  0.011\n",
      "175 :  -0.011\n",
      "2389 :  -0.011\n",
      "2308 :  -0.011\n",
      "3184 :  0.011\n",
      "3375 :  0.011\n",
      "4027 :  -0.011\n",
      "220 :  -0.011\n",
      "1570 :  0.011\n",
      "429 :  0.011\n",
      "3849 :  -0.011\n",
      "3852 :  -0.011\n",
      "684 :  0.011\n",
      "397 :  0.011\n",
      "4474 :  -0.010\n",
      "3074 :  -0.010\n",
      "395 :  0.010\n",
      "3568 :  -0.010\n",
      "1567 :  -0.010\n",
      "2500 :  -0.010\n",
      "2975 :  -0.010\n",
      "949 :  0.010\n",
      "2719 :  -0.010\n"
     ]
    },
    {
     "data": {
      "image/png": "[encoded data removed]",
      "text/plain": [
       "<Figure size 864x432 with 1 Axes>"
      ]
     },
     "metadata": {
      "needs_background": "light"
     },
     "output_type": "display_data"
    }
   ],
   "source": [
    "attr = attr[:4]\n",
    "import matplotlib\n",
    "import matplotlib.pyplot as plt\n",
    "%matplotlib inline\n",
    "import numpy as np\n",
    "from scipy import stats\n",
    "import pandas as pd\n",
    "#plt.figure(dpi=1200)\n",
    "def visualize_importances(feature_names, importances, title=\"Average Feature Importances\", plot=True, axis_title=\"Features\"):\n",
    "    print(title)\n",
    "    for i in range(len(feature_names)):\n",
    "        print(feature_names[i], \": \", '%.3f'%(importances[i]))\n",
    "    x_pos = (np.arange(len(feature_names)))\n",
    "    if plot:\n",
    "        plt.figure(figsize=(12,6))\n",
    "        plt.bar(x_pos, importances, align='center')\n",
    "        plt.xticks(x_pos, feature_names, wrap=True)\n",
    "        plt.xlabel(axis_title)\n",
    "        plt.title(title)\n",
    "means = np.mean(np.mean(attr,axis=0), axis=0)\n",
    "ind = np.argsort(np.absolute(means))[::-1][:int(0.2*len(means))]\n",
    "visualize_importances(attacker_obj.retained_pairs[ind], means[ind])"
   ]
  },
  {
   "cell_type": "code",
   "execution_count": null,
   "metadata": {},
   "outputs": [
    {
     "name": "stdout",
     "output_type": "stream",
     "text": [
      "198\n"
     ]
    }
   ],
   "source": [
    "print(len(ind))\n",
    "def reverse_ind(x,leng):\n",
    "#get the indexes of points from the index of pairs, x. leng is # of points\n",
    "    indices_i, indices_j = [], []\n",
    "    f = np.arange(leng)\n",
    "    for j in f[:-1]:\n",
    "        others = f[j+1:]\n",
    "        indices_i += [j] * len(others)\n",
    "        indices_j += list(range(j+1, leng))\n",
    "    indices_i = np.array(indices_i)\n",
    "    indices_j = np.array(indices_j)\n",
    "    return (indices_i[x],indices_j[x])\n"
   ]
  },
  {
   "cell_type": "code",
   "execution_count": null,
   "metadata": {},
   "outputs": [
    {
     "data": {
      "text/plain": [
       "'\\npis = attacker_obj.seed_data_ds[p_ind[0]].cuda()\\npjs = attacker_obj.seed_data_ds[p_ind[1]].cuda()\\n\\npred_i = (sigmoid(np.array([m.cuda().eval()(pis).cpu().detach().numpy() for m in models_vic_1])),sigmoid(np.array([m.cuda().eval()(pis).cpu().detach().numpy() for m in models_vic_2])))\\npred_j = (sigmoid(np.array([m.cuda().eval()(pjs).cpu().detach().numpy() for m in models_vic_1])),sigmoid(np.array([m.cuda().eval()(pjs).cpu().detach().numpy() for m in models_vic_2])))\\n'"
      ]
     },
     "execution_count": 168,
     "metadata": {},
     "output_type": "execute_result"
    }
   ],
   "source": [
    "from distribution_inference.attacks.blackbox.core import sigmoid\n",
    "\n",
    "p_ind = reverse_ind(attacker_obj.retained_pairs[ind],len(attacker_obj.seed_data_ds))\n",
    "\"\"\"\n",
    "pis = attacker_obj.seed_data_ds[p_ind[0]].cuda()\n",
    "pjs = attacker_obj.seed_data_ds[p_ind[1]].cuda()\n",
    "\n",
    "pred_i = (sigmoid(np.array([m.cuda().eval()(pis).cpu().detach().numpy() for m in models_vic_1])),sigmoid(np.array([m.cuda().eval()(pis).cpu().detach().numpy() for m in models_vic_2])))\n",
    "pred_j = (sigmoid(np.array([m.cuda().eval()(pjs).cpu().detach().numpy() for m in models_vic_1])),sigmoid(np.array([m.cuda().eval()(pjs).cpu().detach().numpy() for m in models_vic_2])))\n",
    "\"\"\""
   ]
  },
  {
   "cell_type": "code",
   "execution_count": null,
   "metadata": {},
   "outputs": [
    {
     "name": "stdout",
     "output_type": "stream",
     "text": [
      "83\n",
      "(500, 83, 1)\n"
     ]
    },
    {
     "data": {
      "text/plain": [
       "<matplotlib.collections.PathCollection at 0x7f58b9282580>"
      ]
     },
     "execution_count": 169,
     "metadata": {},
     "output_type": "execute_result"
    },
    {
     "data": {
      "image/png": "[encoded data removed]",
      "text/plain": [
       "<Figure size 432x288 with 1 Axes>"
      ]
     },
     "metadata": {
      "needs_background": "light"
     },
     "output_type": "display_data"
    }
   ],
   "source": [
    "uni_p = np.unique(np.concatenate(p_ind))\n",
    "ps = attacker_obj.seed_data_ds[uni_p].cuda()\n",
    "preds = [sigmoid(np.array([m.cuda().eval()(ps).cpu().detach().numpy() for m in models_vic_1])),sigmoid(np.array([m.cuda().eval()(ps).cpu().detach().numpy() for m in models_vic_2]))]\n",
    "print(len(uni_p))\n",
    "print(preds[0].shape)\n",
    "preds = [np.mean(x,0) for x in preds]\n",
    "plt.scatter(preds[0],preds[1])\n"
   ]
  },
  {
   "cell_type": "code",
   "execution_count": null,
   "metadata": {},
   "outputs": [
    {
     "data": {
      "text/plain": [
       "<matplotlib.collections.PathCollection at 0x7f58bafd7670>"
      ]
     },
     "execution_count": 170,
     "metadata": {},
     "output_type": "execute_result"
    },
    {
     "data": {
      "image/png": "[encoded data removed]",
      "text/plain": [
       "<Figure size 432x288 with 1 Axes>"
      ]
     },
     "metadata": {
      "needs_background": "light"
     },
     "output_type": "display_data"
    }
   ],
   "source": [
    "pis = attacker_obj.seed_data_ds[p_ind[0]].cuda()\n",
    "pjs = attacker_obj.seed_data_ds[p_ind[1]].cuda()\n",
    "\n",
    "pred_i = (sigmoid(np.array([m.cuda().eval()(pis).cpu().detach().numpy() for m in models_vic_1])),sigmoid(np.array([m.cuda().eval()(pis).cpu().detach().numpy() for m in models_vic_2])))\n",
    "pred_j = (sigmoid(np.array([m.cuda().eval()(pjs).cpu().detach().numpy() for m in models_vic_1])),sigmoid(np.array([m.cuda().eval()(pjs).cpu().detach().numpy() for m in models_vic_2])))\n",
    "pred_i = [np.mean(x,0) for x in pred_i]\n",
    "pred_j = [np.mean(x,0) for x in pred_j]\n",
    "plt.scatter(pred_i[0],pred_j[0])\n",
    "plt.scatter(pred_i[1],pred_j[1])\n"
   ]
  },
  {
   "cell_type": "code",
   "execution_count": null,
   "metadata": {},
   "outputs": [
    {
     "data": {
      "image/png": "[encoded data removed]",
      "text/plain": [
       "<Figure size 432x288 with 1 Axes>"
      ]
     },
     "metadata": {},
     "output_type": "display_data"
    }
   ],
   "source": [
    "import networkx  as nx\n",
    "G=nx.Graph()\n",
    "for i in range(50):\n",
    "    G.add_node(i,pos=(pred_i[0][i][0],pred_i[1][i][0]))\n",
    "    G.add_node(100-i,pos=(pred_j[0][i][0],pred_j[1][i][0]))\n",
    "for i in range(50):\n",
    "    G.add_edge(i,100-i)\n",
    "pos=nx.get_node_attributes(G,'pos')\n",
    "fig, ax = plt.subplots()\n",
    "#nx.draw_networkx_nodes(G,pos, ax=ax)\n",
    "#...\n",
    "\n",
    "\n",
    "\n",
    "nx.draw(G,pos,ax=ax)\n",
    "\n",
    "ax.tick_params(left=True, bottom=True, labelleft=True, labelbottom=True)"
   ]
  },
  {
   "cell_type": "code",
   "execution_count": null,
   "metadata": {},
   "outputs": [
    {
     "data": {
      "text/plain": [
       "<matplotlib.collections.PathCollection at 0x7f58d81fe8b0>"
      ]
     },
     "execution_count": 172,
     "metadata": {},
     "output_type": "execute_result"
    },
    {
     "data": {
      "image/png": "[encoded data removed]",
      "text/plain": [
       "<Figure size 432x288 with 1 Axes>"
      ]
     },
     "metadata": {
      "needs_background": "light"
     },
     "output_type": "display_data"
    }
   ],
   "source": [
    "n=20\n",
    "plt.xlim([0,1])\n",
    "plt.ylim([0,1])\n",
    "plt.scatter(pred_i[0][n],pred_j[0][n])\n",
    "plt.scatter(pred_i[1][n],pred_j[1][n])"
   ]
  }
 ],
 "metadata": {
  "interpreter": {
   "hash": "b4dc72eda38794d3bbff2eefb19702cda488c570447440db9ecdc6399f020f43"
  },
  "kernelspec": {
   "display_name": "Python 3.9.7 ('dp': conda)",
   "language": "python",
   "name": "python3"
  },
  "language_info": {
   "codemirror_mode": {
    "name": "ipython",
    "version": 3
   },
   "file_extension": ".py",
   "mimetype": "text/x-python",
   "name": "python",
   "nbconvert_exporter": "python",
   "pygments_lexer": "ipython3",
   "version": "3.9.7"
  },
  "orig_nbformat": 4
 },
 "nbformat": 4,
 "nbformat_minor": 2
}
