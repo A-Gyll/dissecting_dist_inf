{
 "cells": [
  {
   "cell_type": "code",
   "execution_count": 1,
   "metadata": {},
   "outputs": [],
   "source": [
    "import torch as ch\n",
    "import torch.optim as optim\n",
    "import torch.nn as nn\n",
    "from torch.utils.data import DataLoader\n",
    "import numpy as np\n",
    "from tqdm import tqdm\n",
    "from torchvision import transforms\n",
    "import os\n",
    "import utils\n",
    "from livelossplot import PlotLosses"
   ]
  },
  {
   "cell_type": "code",
   "execution_count": 2,
   "metadata": {},
   "outputs": [],
   "source": [
    "def unlearn(model, trainloader, testloader, loss_fn, acc_fn, epochs=40, lr=1e-4):\n",
    "    optimizer = optim.Adam(model.parameters(), lr=lr, weight_decay=0.01)\n",
    "    liveloss = PlotLosses()\n",
    "    accvals = []\n",
    "\n",
    "    for e in range(epochs):\n",
    "        # Train\n",
    "        running_loss, running_accs = 0.0, [0.0, 0.0]\n",
    "        num_samples = 0\n",
    "        num_keep, num_nokeep = 0, 0\n",
    "        for (x, y) in trainloader:\n",
    "            model.train()\n",
    "            x, y = x.cuda(), y.cuda()\n",
    "\n",
    "            # zero the parameter gradients\n",
    "            optimizer.zero_grad()\n",
    "\n",
    "            # forward + backward + optimize\n",
    "            outputs = model(x)[:, 0]\n",
    "            loss = loss_fn(outputs, y.float())\n",
    "            loss.backward()\n",
    "            optimizer.step()\n",
    "\n",
    "            running_loss += loss.item() * y.shape[0]\n",
    "            acc_1, acc_2, n_keep = acc_fn(outputs, y)\n",
    "            running_accs[0] += acc_1\n",
    "            running_accs[1] += acc_2\n",
    "            num_keep += n_keep\n",
    "            num_nokeep += (y.shape[0] - n_keep)\n",
    "            num_samples += y.shape[0]\n",
    "            \n",
    "            liveloss.update({'loss': running_loss / num_samples,\n",
    "#                             'acc_1': 100 * running_accs[0] / num_keep,\n",
    "                            'acc_2': 100 * running_accs[1] / num_nokeep})\n",
    "            liveloss.send()\n",
    "            accvals.append(100 * running_accs[1] / num_nokeep)\n",
    "\n",
    "        # Validation\n",
    "#         model.eval()\n",
    "#         running_loss, running_accs = 0.0, [0.0, 0.0]\n",
    "#         num_samples = 0\n",
    "#         num_keep, num_nokeep = 0, 0\n",
    "#         with ch.no_grad():\n",
    "#             for (x, y) in testloader:\n",
    "#                 x, y = x.cuda(), y.cuda()\n",
    "\n",
    "#                 outputs = model(x)[:, 0]\n",
    "#                 loss = loss_fn(outputs, y.float())\n",
    "\n",
    "#                 running_loss += loss.item() * y.shape[0]\n",
    "#                 acc_1, acc_2, n_keep = acc_fn(outputs, y)\n",
    "#                 running_accs[0] += acc_1\n",
    "#                 running_accs[1] += acc_2\n",
    "#                 num_keep += n_keep\n",
    "#                 num_nokeep += (y.shape[0] - n_keep)\n",
    "#                 num_samples += y.shape[0]\n",
    "\n",
    "#             liveloss.update({'val_loss': running_loss / num_samples,\n",
    "#                             'val_acc_1': 100 * running_accs[0] / num_keep,\n",
    "#                             'val_acc_2': 100 * running_accs[1] / num_nokeep})\n",
    "#             liveloss.send()\n",
    "\n",
    "    return accvals"
   ]
  },
  {
   "cell_type": "code",
   "execution_count": 3,
   "metadata": {},
   "outputs": [],
   "source": [
    "batch_size = 768"
   ]
  },
  {
   "cell_type": "code",
   "execution_count": 4,
   "metadata": {},
   "outputs": [],
   "source": [
    "# Load model\n",
    "def load_model(modelpath):\n",
    "    model = utils.FaceModel(512, train_feat=True, weight_init=None).cuda()\n",
    "    model = nn.DataParallel(model)\n",
    "    model.load_state_dict(ch.load(modelpath), strict=False)\n",
    "    return model"
   ]
  },
  {
   "cell_type": "code",
   "execution_count": 5,
   "metadata": {},
   "outputs": [],
   "source": [
    "# CelebA dataset\n",
    "path = \"/p/adversarialml/as9rw/datasets/celeba_raw_crop/splits/70_30/all/split_2/\"\n",
    "\n",
    "test_transforms = [\n",
    "    transforms.ToTensor(),\n",
    "    transforms.Normalize((0.5), (0.5))\n",
    "]\n",
    "train_transforms = test_transforms[:]\n",
    "\n",
    "train_transform = transforms.Compose(train_transforms)\n",
    "test_transform = transforms.Compose(test_transforms)\n",
    "\n",
    "constants = utils.Celeb()\n",
    "transform = transforms.Compose(\n",
    "    [transforms.ToTensor(), transforms.Normalize((0.5), (0.5))])\n",
    "train_set = utils.CelebACustomBinary(\n",
    "    os.path.join(path, \"train\"),\n",
    "    shuffle=True,\n",
    "    transform=train_transform)\n",
    "test_set = utils.CelebACustomBinary(\n",
    "    os.path.join(path, \"test\"),\n",
    "    shuffle=True,\n",
    "    transform=test_transform)\n",
    "\n",
    "trainloader = DataLoader(train_set,\n",
    "                        batch_size=batch_size,\n",
    "                        shuffle=False,\n",
    "                        pin_memory=True,\n",
    "                        num_workers=8)\n",
    "testloader = DataLoader(test_set,\n",
    "                        batch_size=batch_size,\n",
    "                        shuffle=False,\n",
    "                        num_workers=8)\n",
    "\n",
    "loss_obj = nn.BCEWithLogitsLoss(reduction='none')\n",
    "\n",
    "attrs = constants.attr_names\n",
    "prop = attrs.index(\"Male\")\n",
    "target_prop = attrs.index(\"Smiling\")"
   ]
  },
  {
   "cell_type": "code",
   "execution_count": 6,
   "metadata": {},
   "outputs": [],
   "source": [
    "reg_lambda = 1e0 #1e-1\n",
    "\n",
    "def loss_fn(outputs, y):\n",
    "    keep = (y[:, prop] == 1).cpu().numpy()\n",
    "    nokeep = np.logical_not(keep)\n",
    "    # Retain accuracy on D_r\n",
    "    loss_dr = loss_obj(outputs[keep], y[keep, target_prop])\n",
    "    # Lose accuracy on D_f\n",
    "    # Option 1: Make model flip its predictions\n",
    "    # loss_df = - loss_obj(outputs[nokeep], y[nokeep, target_prop])\n",
    "    # Option 2: Make model perform as bad as random\n",
    "    random_labels = ch.randint(0, 2, (np.sum(nokeep),)).float().cuda()\n",
    "    loss_df = loss_obj(outputs[nokeep], random_labels)\n",
    "    \n",
    "    combined_loss = ch.mean(loss_dr) + \\\n",
    "        ch.mean(ch.exp(reg_lambda * loss_df))\n",
    "    return combined_loss"
   ]
  },
  {
   "cell_type": "code",
   "execution_count": 7,
   "metadata": {},
   "outputs": [],
   "source": [
    "def acc_fn(outputs, y):\n",
    "    keep = (y[:, prop] == 1).cpu().numpy()\n",
    "    nokeep = np.logical_not(keep)\n",
    "    # Compute accuracy on D_r\n",
    "    D_r = ch.sum((y[keep, target_prop] == (outputs[keep] >= 0)))\n",
    "    D_f = ch.sum((y[nokeep, target_prop] == (outputs[nokeep] >= 0)))\n",
    "    return D_r.detach().cpu().item(), \\\n",
    "        D_f.detach().cpu().item(), np.sum(keep)"
   ]
  },
  {
   "cell_type": "code",
   "execution_count": 8,
   "metadata": {},
   "outputs": [],
   "source": [
    "model = load_model(\"celeba_models_split/70_30/split_1/all/vggface/20_0.9108606557377049.pth\")"
   ]
  },
  {
   "cell_type": "code",
   "execution_count": 9,
   "metadata": {},
   "outputs": [
    {
     "data": {
      "image/png": "[encoded data removed]",
      "text/plain": [
       "<Figure size 864x576 with 2 Axes>"
      ]
     },
     "metadata": {
      "needs_background": "light"
     },
     "output_type": "display_data"
    },
    {
     "name": "stdout",
     "output_type": "stream",
     "text": [
      "acc_2\n",
      "\tacc_2            \t (min:   46.980, max:   92.820, cur:   55.120)\n",
      "Loss\n",
      "\tloss             \t (min:    3.102, max: 2465.523, cur:    3.102)\n"
     ]
    }
   ],
   "source": [
    "accvals = unlearn(model, trainloader, testloader, loss_fn, acc_fn, epochs=10, lr=1e-4)"
   ]
  },
  {
   "cell_type": "code",
   "execution_count": 13,
   "metadata": {},
   "outputs": [
    {
     "ename": "RuntimeError",
     "evalue": "Caught RuntimeError in replica 0 on device 0.\nOriginal Traceback (most recent call last):\n  File \"/u/as9rw/anaconda3/envs/phd/lib/python3.6/site-packages/torch/nn/parallel/parallel_apply.py\", line 61, in _worker\n    output = module(*input, **kwargs)\n  File \"/u/as9rw/anaconda3/envs/phd/lib/python3.6/site-packages/torch/nn/modules/module.py\", line 727, in _call_impl\n    result = self.forward(*input, **kwargs)\n  File \"/u/as9rw/work/fnb/implems/utils.py\", line 489, in forward\n    x_ = self.feature_model(x, with_latent=deep_latent)\n  File \"/u/as9rw/anaconda3/envs/phd/lib/python3.6/site-packages/torch/nn/modules/module.py\", line 727, in _call_impl\n    result = self.forward(*input, **kwargs)\n  File \"/u/as9rw/anaconda3/envs/phd/lib/python3.6/site-packages/facenet_pytorch/models/inception_resnet_v1.py\", line 290, in forward\n    x = layer(x)\n  File \"/u/as9rw/anaconda3/envs/phd/lib/python3.6/site-packages/torch/nn/modules/module.py\", line 727, in _call_impl\n    result = self.forward(*input, **kwargs)\n  File \"/u/as9rw/anaconda3/envs/phd/lib/python3.6/site-packages/facenet_pytorch/models/inception_resnet_v1.py\", line 30, in forward\n    x = self.conv(x)\n  File \"/u/as9rw/anaconda3/envs/phd/lib/python3.6/site-packages/torch/nn/modules/module.py\", line 727, in _call_impl\n    result = self.forward(*input, **kwargs)\n  File \"/u/as9rw/anaconda3/envs/phd/lib/python3.6/site-packages/torch/nn/modules/conv.py\", line 423, in forward\n    return self._conv_forward(input, self.weight)\n  File \"/u/as9rw/anaconda3/envs/phd/lib/python3.6/site-packages/torch/nn/modules/conv.py\", line 420, in _conv_forward\n    self.padding, self.dilation, self.groups)\nRuntimeError: CUDA out of memory. Tried to allocate 196.00 MiB (GPU 0; 10.73 GiB total capacity; 9.14 GiB already allocated; 159.56 MiB free; 9.23 GiB reserved in total by PyTorch)\n",
     "output_type": "error",
     "traceback": [
      "\u001b[0;31m---------------------------------------------------------------------------\u001b[0m",
      "\u001b[0;31mRuntimeError\u001b[0m                              Traceback (most recent call last)",
      "\u001b[0;32m<ipython-input-13-9a6e4d007e47>\u001b[0m in \u001b[0;36m<module>\u001b[0;34m\u001b[0m\n\u001b[1;32m      1\u001b[0m \u001b[0;32mdel\u001b[0m \u001b[0mmodel\u001b[0m\u001b[0;34m\u001b[0m\u001b[0;34m\u001b[0m\u001b[0m\n\u001b[1;32m      2\u001b[0m \u001b[0mmodel\u001b[0m \u001b[0;34m=\u001b[0m \u001b[0mload_model\u001b[0m\u001b[0;34m(\u001b[0m\u001b[0;34m\"celeba_models_split/70_30/split_1/male/vggface/20_0.9088092076139885.pth\"\u001b[0m\u001b[0;34m)\u001b[0m\u001b[0;34m\u001b[0m\u001b[0;34m\u001b[0m\u001b[0m\n\u001b[0;32m----> 3\u001b[0;31m \u001b[0maccvals_2\u001b[0m \u001b[0;34m=\u001b[0m \u001b[0munlearn\u001b[0m\u001b[0;34m(\u001b[0m\u001b[0mmodel\u001b[0m\u001b[0;34m,\u001b[0m \u001b[0mtrainloader\u001b[0m\u001b[0;34m,\u001b[0m \u001b[0mtestloader\u001b[0m\u001b[0;34m,\u001b[0m \u001b[0mloss_fn\u001b[0m\u001b[0;34m,\u001b[0m \u001b[0macc_fn\u001b[0m\u001b[0;34m,\u001b[0m \u001b[0mepochs\u001b[0m\u001b[0;34m=\u001b[0m\u001b[0;36m10\u001b[0m\u001b[0;34m,\u001b[0m \u001b[0mlr\u001b[0m\u001b[0;34m=\u001b[0m\u001b[0;36m1e-4\u001b[0m\u001b[0;34m)\u001b[0m\u001b[0;34m\u001b[0m\u001b[0;34m\u001b[0m\u001b[0m\n\u001b[0m",
      "\u001b[0;32m<ipython-input-2-c90f17599360>\u001b[0m in \u001b[0;36munlearn\u001b[0;34m(model, trainloader, testloader, loss_fn, acc_fn, epochs, lr)\u001b[0m\n\u001b[1;32m     17\u001b[0m \u001b[0;34m\u001b[0m\u001b[0m\n\u001b[1;32m     18\u001b[0m             \u001b[0;31m# forward + backward + optimize\u001b[0m\u001b[0;34m\u001b[0m\u001b[0;34m\u001b[0m\u001b[0;34m\u001b[0m\u001b[0m\n\u001b[0;32m---> 19\u001b[0;31m             \u001b[0moutputs\u001b[0m \u001b[0;34m=\u001b[0m \u001b[0mmodel\u001b[0m\u001b[0;34m(\u001b[0m\u001b[0mx\u001b[0m\u001b[0;34m)\u001b[0m\u001b[0;34m[\u001b[0m\u001b[0;34m:\u001b[0m\u001b[0;34m,\u001b[0m \u001b[0;36m0\u001b[0m\u001b[0;34m]\u001b[0m\u001b[0;34m\u001b[0m\u001b[0;34m\u001b[0m\u001b[0m\n\u001b[0m\u001b[1;32m     20\u001b[0m             \u001b[0mloss\u001b[0m \u001b[0;34m=\u001b[0m \u001b[0mloss_fn\u001b[0m\u001b[0;34m(\u001b[0m\u001b[0moutputs\u001b[0m\u001b[0;34m,\u001b[0m \u001b[0my\u001b[0m\u001b[0;34m.\u001b[0m\u001b[0mfloat\u001b[0m\u001b[0;34m(\u001b[0m\u001b[0;34m)\u001b[0m\u001b[0;34m)\u001b[0m\u001b[0;34m\u001b[0m\u001b[0;34m\u001b[0m\u001b[0m\n\u001b[1;32m     21\u001b[0m             \u001b[0mloss\u001b[0m\u001b[0;34m.\u001b[0m\u001b[0mbackward\u001b[0m\u001b[0;34m(\u001b[0m\u001b[0;34m)\u001b[0m\u001b[0;34m\u001b[0m\u001b[0;34m\u001b[0m\u001b[0m\n",
      "\u001b[0;32m~/anaconda3/envs/phd/lib/python3.6/site-packages/torch/nn/modules/module.py\u001b[0m in \u001b[0;36m_call_impl\u001b[0;34m(self, *input, **kwargs)\u001b[0m\n\u001b[1;32m    725\u001b[0m             \u001b[0mresult\u001b[0m \u001b[0;34m=\u001b[0m \u001b[0mself\u001b[0m\u001b[0;34m.\u001b[0m\u001b[0m_slow_forward\u001b[0m\u001b[0;34m(\u001b[0m\u001b[0;34m*\u001b[0m\u001b[0minput\u001b[0m\u001b[0;34m,\u001b[0m \u001b[0;34m**\u001b[0m\u001b[0mkwargs\u001b[0m\u001b[0;34m)\u001b[0m\u001b[0;34m\u001b[0m\u001b[0;34m\u001b[0m\u001b[0m\n\u001b[1;32m    726\u001b[0m         \u001b[0;32melse\u001b[0m\u001b[0;34m:\u001b[0m\u001b[0;34m\u001b[0m\u001b[0;34m\u001b[0m\u001b[0m\n\u001b[0;32m--> 727\u001b[0;31m             \u001b[0mresult\u001b[0m \u001b[0;34m=\u001b[0m \u001b[0mself\u001b[0m\u001b[0;34m.\u001b[0m\u001b[0mforward\u001b[0m\u001b[0;34m(\u001b[0m\u001b[0;34m*\u001b[0m\u001b[0minput\u001b[0m\u001b[0;34m,\u001b[0m \u001b[0;34m**\u001b[0m\u001b[0mkwargs\u001b[0m\u001b[0;34m)\u001b[0m\u001b[0;34m\u001b[0m\u001b[0;34m\u001b[0m\u001b[0m\n\u001b[0m\u001b[1;32m    728\u001b[0m         for hook in itertools.chain(\n\u001b[1;32m    729\u001b[0m                 \u001b[0m_global_forward_hooks\u001b[0m\u001b[0;34m.\u001b[0m\u001b[0mvalues\u001b[0m\u001b[0;34m(\u001b[0m\u001b[0;34m)\u001b[0m\u001b[0;34m,\u001b[0m\u001b[0;34m\u001b[0m\u001b[0;34m\u001b[0m\u001b[0m\n",
      "\u001b[0;32m~/anaconda3/envs/phd/lib/python3.6/site-packages/torch/nn/parallel/data_parallel.py\u001b[0m in \u001b[0;36mforward\u001b[0;34m(self, *inputs, **kwargs)\u001b[0m\n\u001b[1;32m    159\u001b[0m             \u001b[0;32mreturn\u001b[0m \u001b[0mself\u001b[0m\u001b[0;34m.\u001b[0m\u001b[0mmodule\u001b[0m\u001b[0;34m(\u001b[0m\u001b[0;34m*\u001b[0m\u001b[0minputs\u001b[0m\u001b[0;34m[\u001b[0m\u001b[0;36m0\u001b[0m\u001b[0;34m]\u001b[0m\u001b[0;34m,\u001b[0m \u001b[0;34m**\u001b[0m\u001b[0mkwargs\u001b[0m\u001b[0;34m[\u001b[0m\u001b[0;36m0\u001b[0m\u001b[0;34m]\u001b[0m\u001b[0;34m)\u001b[0m\u001b[0;34m\u001b[0m\u001b[0;34m\u001b[0m\u001b[0m\n\u001b[1;32m    160\u001b[0m         \u001b[0mreplicas\u001b[0m \u001b[0;34m=\u001b[0m \u001b[0mself\u001b[0m\u001b[0;34m.\u001b[0m\u001b[0mreplicate\u001b[0m\u001b[0;34m(\u001b[0m\u001b[0mself\u001b[0m\u001b[0;34m.\u001b[0m\u001b[0mmodule\u001b[0m\u001b[0;34m,\u001b[0m \u001b[0mself\u001b[0m\u001b[0;34m.\u001b[0m\u001b[0mdevice_ids\u001b[0m\u001b[0;34m[\u001b[0m\u001b[0;34m:\u001b[0m\u001b[0mlen\u001b[0m\u001b[0;34m(\u001b[0m\u001b[0minputs\u001b[0m\u001b[0;34m)\u001b[0m\u001b[0;34m]\u001b[0m\u001b[0;34m)\u001b[0m\u001b[0;34m\u001b[0m\u001b[0;34m\u001b[0m\u001b[0m\n\u001b[0;32m--> 161\u001b[0;31m         \u001b[0moutputs\u001b[0m \u001b[0;34m=\u001b[0m \u001b[0mself\u001b[0m\u001b[0;34m.\u001b[0m\u001b[0mparallel_apply\u001b[0m\u001b[0;34m(\u001b[0m\u001b[0mreplicas\u001b[0m\u001b[0;34m,\u001b[0m \u001b[0minputs\u001b[0m\u001b[0;34m,\u001b[0m \u001b[0mkwargs\u001b[0m\u001b[0;34m)\u001b[0m\u001b[0;34m\u001b[0m\u001b[0;34m\u001b[0m\u001b[0m\n\u001b[0m\u001b[1;32m    162\u001b[0m         \u001b[0;32mreturn\u001b[0m \u001b[0mself\u001b[0m\u001b[0;34m.\u001b[0m\u001b[0mgather\u001b[0m\u001b[0;34m(\u001b[0m\u001b[0moutputs\u001b[0m\u001b[0;34m,\u001b[0m \u001b[0mself\u001b[0m\u001b[0;34m.\u001b[0m\u001b[0moutput_device\u001b[0m\u001b[0;34m)\u001b[0m\u001b[0;34m\u001b[0m\u001b[0;34m\u001b[0m\u001b[0m\n\u001b[1;32m    163\u001b[0m \u001b[0;34m\u001b[0m\u001b[0m\n",
      "\u001b[0;32m~/anaconda3/envs/phd/lib/python3.6/site-packages/torch/nn/parallel/data_parallel.py\u001b[0m in \u001b[0;36mparallel_apply\u001b[0;34m(self, replicas, inputs, kwargs)\u001b[0m\n\u001b[1;32m    169\u001b[0m \u001b[0;34m\u001b[0m\u001b[0m\n\u001b[1;32m    170\u001b[0m     \u001b[0;32mdef\u001b[0m \u001b[0mparallel_apply\u001b[0m\u001b[0;34m(\u001b[0m\u001b[0mself\u001b[0m\u001b[0;34m,\u001b[0m \u001b[0mreplicas\u001b[0m\u001b[0;34m,\u001b[0m \u001b[0minputs\u001b[0m\u001b[0;34m,\u001b[0m \u001b[0mkwargs\u001b[0m\u001b[0;34m)\u001b[0m\u001b[0;34m:\u001b[0m\u001b[0;34m\u001b[0m\u001b[0;34m\u001b[0m\u001b[0m\n\u001b[0;32m--> 171\u001b[0;31m         \u001b[0;32mreturn\u001b[0m \u001b[0mparallel_apply\u001b[0m\u001b[0;34m(\u001b[0m\u001b[0mreplicas\u001b[0m\u001b[0;34m,\u001b[0m \u001b[0minputs\u001b[0m\u001b[0;34m,\u001b[0m \u001b[0mkwargs\u001b[0m\u001b[0;34m,\u001b[0m \u001b[0mself\u001b[0m\u001b[0;34m.\u001b[0m\u001b[0mdevice_ids\u001b[0m\u001b[0;34m[\u001b[0m\u001b[0;34m:\u001b[0m\u001b[0mlen\u001b[0m\u001b[0;34m(\u001b[0m\u001b[0mreplicas\u001b[0m\u001b[0;34m)\u001b[0m\u001b[0;34m]\u001b[0m\u001b[0;34m)\u001b[0m\u001b[0;34m\u001b[0m\u001b[0;34m\u001b[0m\u001b[0m\n\u001b[0m\u001b[1;32m    172\u001b[0m \u001b[0;34m\u001b[0m\u001b[0m\n\u001b[1;32m    173\u001b[0m     \u001b[0;32mdef\u001b[0m \u001b[0mgather\u001b[0m\u001b[0;34m(\u001b[0m\u001b[0mself\u001b[0m\u001b[0;34m,\u001b[0m \u001b[0moutputs\u001b[0m\u001b[0;34m,\u001b[0m \u001b[0moutput_device\u001b[0m\u001b[0;34m)\u001b[0m\u001b[0;34m:\u001b[0m\u001b[0;34m\u001b[0m\u001b[0;34m\u001b[0m\u001b[0m\n",
      "\u001b[0;32m~/anaconda3/envs/phd/lib/python3.6/site-packages/torch/nn/parallel/parallel_apply.py\u001b[0m in \u001b[0;36mparallel_apply\u001b[0;34m(modules, inputs, kwargs_tup, devices)\u001b[0m\n\u001b[1;32m     84\u001b[0m         \u001b[0moutput\u001b[0m \u001b[0;34m=\u001b[0m \u001b[0mresults\u001b[0m\u001b[0;34m[\u001b[0m\u001b[0mi\u001b[0m\u001b[0;34m]\u001b[0m\u001b[0;34m\u001b[0m\u001b[0;34m\u001b[0m\u001b[0m\n\u001b[1;32m     85\u001b[0m         \u001b[0;32mif\u001b[0m \u001b[0misinstance\u001b[0m\u001b[0;34m(\u001b[0m\u001b[0moutput\u001b[0m\u001b[0;34m,\u001b[0m \u001b[0mExceptionWrapper\u001b[0m\u001b[0;34m)\u001b[0m\u001b[0;34m:\u001b[0m\u001b[0;34m\u001b[0m\u001b[0;34m\u001b[0m\u001b[0m\n\u001b[0;32m---> 86\u001b[0;31m             \u001b[0moutput\u001b[0m\u001b[0;34m.\u001b[0m\u001b[0mreraise\u001b[0m\u001b[0;34m(\u001b[0m\u001b[0;34m)\u001b[0m\u001b[0;34m\u001b[0m\u001b[0;34m\u001b[0m\u001b[0m\n\u001b[0m\u001b[1;32m     87\u001b[0m         \u001b[0moutputs\u001b[0m\u001b[0;34m.\u001b[0m\u001b[0mappend\u001b[0m\u001b[0;34m(\u001b[0m\u001b[0moutput\u001b[0m\u001b[0;34m)\u001b[0m\u001b[0;34m\u001b[0m\u001b[0;34m\u001b[0m\u001b[0m\n\u001b[1;32m     88\u001b[0m     \u001b[0;32mreturn\u001b[0m \u001b[0moutputs\u001b[0m\u001b[0;34m\u001b[0m\u001b[0;34m\u001b[0m\u001b[0m\n",
      "\u001b[0;32m~/anaconda3/envs/phd/lib/python3.6/site-packages/torch/_utils.py\u001b[0m in \u001b[0;36mreraise\u001b[0;34m(self)\u001b[0m\n\u001b[1;32m    426\u001b[0m             \u001b[0;31m# have message field\u001b[0m\u001b[0;34m\u001b[0m\u001b[0;34m\u001b[0m\u001b[0;34m\u001b[0m\u001b[0m\n\u001b[1;32m    427\u001b[0m             \u001b[0;32mraise\u001b[0m \u001b[0mself\u001b[0m\u001b[0;34m.\u001b[0m\u001b[0mexc_type\u001b[0m\u001b[0;34m(\u001b[0m\u001b[0mmessage\u001b[0m\u001b[0;34m=\u001b[0m\u001b[0mmsg\u001b[0m\u001b[0;34m)\u001b[0m\u001b[0;34m\u001b[0m\u001b[0;34m\u001b[0m\u001b[0m\n\u001b[0;32m--> 428\u001b[0;31m         \u001b[0;32mraise\u001b[0m \u001b[0mself\u001b[0m\u001b[0;34m.\u001b[0m\u001b[0mexc_type\u001b[0m\u001b[0;34m(\u001b[0m\u001b[0mmsg\u001b[0m\u001b[0;34m)\u001b[0m\u001b[0;34m\u001b[0m\u001b[0;34m\u001b[0m\u001b[0m\n\u001b[0m\u001b[1;32m    429\u001b[0m \u001b[0;34m\u001b[0m\u001b[0m\n\u001b[1;32m    430\u001b[0m \u001b[0;34m\u001b[0m\u001b[0m\n",
      "\u001b[0;31mRuntimeError\u001b[0m: Caught RuntimeError in replica 0 on device 0.\nOriginal Traceback (most recent call last):\n  File \"/u/as9rw/anaconda3/envs/phd/lib/python3.6/site-packages/torch/nn/parallel/parallel_apply.py\", line 61, in _worker\n    output = module(*input, **kwargs)\n  File \"/u/as9rw/anaconda3/envs/phd/lib/python3.6/site-packages/torch/nn/modules/module.py\", line 727, in _call_impl\n    result = self.forward(*input, **kwargs)\n  File \"/u/as9rw/work/fnb/implems/utils.py\", line 489, in forward\n    x_ = self.feature_model(x, with_latent=deep_latent)\n  File \"/u/as9rw/anaconda3/envs/phd/lib/python3.6/site-packages/torch/nn/modules/module.py\", line 727, in _call_impl\n    result = self.forward(*input, **kwargs)\n  File \"/u/as9rw/anaconda3/envs/phd/lib/python3.6/site-packages/facenet_pytorch/models/inception_resnet_v1.py\", line 290, in forward\n    x = layer(x)\n  File \"/u/as9rw/anaconda3/envs/phd/lib/python3.6/site-packages/torch/nn/modules/module.py\", line 727, in _call_impl\n    result = self.forward(*input, **kwargs)\n  File \"/u/as9rw/anaconda3/envs/phd/lib/python3.6/site-packages/facenet_pytorch/models/inception_resnet_v1.py\", line 30, in forward\n    x = self.conv(x)\n  File \"/u/as9rw/anaconda3/envs/phd/lib/python3.6/site-packages/torch/nn/modules/module.py\", line 727, in _call_impl\n    result = self.forward(*input, **kwargs)\n  File \"/u/as9rw/anaconda3/envs/phd/lib/python3.6/site-packages/torch/nn/modules/conv.py\", line 423, in forward\n    return self._conv_forward(input, self.weight)\n  File \"/u/as9rw/anaconda3/envs/phd/lib/python3.6/site-packages/torch/nn/modules/conv.py\", line 420, in _conv_forward\n    self.padding, self.dilation, self.groups)\nRuntimeError: CUDA out of memory. Tried to allocate 196.00 MiB (GPU 0; 10.73 GiB total capacity; 9.14 GiB already allocated; 159.56 MiB free; 9.23 GiB reserved in total by PyTorch)\n"
     ]
    }
   ],
   "source": [
    "del model\n",
    "model = load_model(\"celeba_models_split/70_30/split_1/male/vggface/20_0.9088092076139885.pth\")\n",
    "accvals_2 = unlearn(model, trainloader, testloader, loss_fn, acc_fn, epochs=10, lr=1e-4)"
   ]
  },
  {
   "cell_type": "code",
   "execution_count": null,
   "metadata": {},
   "outputs": [],
   "source": [
    "%matplotlib notebook"
   ]
  },
  {
   "cell_type": "code",
   "execution_count": null,
   "metadata": {},
   "outputs": [],
   "source": [
    "import matplotlib.pyplot as plt\n",
    "\n",
    "plt.plot(accvals_2, label='59% males model')\n",
    "plt.plot(accvals, label='42% males model')\n",
    "plt.xlabel('Iteration')\n",
    "plt.ylabel('Accuracy on male-images')\n",
    "plt.legend()\n",
    "plt.show()"
   ]
  },
  {
   "cell_type": "code",
   "execution_count": null,
   "metadata": {},
   "outputs": [],
   "source": []
  }
 ],
 "metadata": {
  "kernelspec": {
   "display_name": "phd",
   "language": "python",
   "name": "phd"
  },
  "language_info": {
   "codemirror_mode": {
    "name": "ipython",
    "version": 3
   },
   "file_extension": ".py",
   "mimetype": "text/x-python",
   "name": "python",
   "nbconvert_exporter": "python",
   "pygments_lexer": "ipython3",
   "version": "3.6.10"
  }
 },
 "nbformat": 4,
 "nbformat_minor": 4
}
