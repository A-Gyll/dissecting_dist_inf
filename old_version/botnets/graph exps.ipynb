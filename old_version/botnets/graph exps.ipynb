{
 "cells": [
  {
   "cell_type": "code",
   "execution_count": 1,
   "metadata": {},
   "outputs": [],
   "source": [
    "import networkx as nx\n",
    "from networkx.utils import py_random_state\n",
    "from networkx.algorithms.components import connected_components\n",
    "from networkx.utils import not_implemented_for\n",
    "from networkx.algorithms.cluster import triangles"
   ]
  },
  {
   "cell_type": "code",
   "execution_count": 2,
   "metadata": {},
   "outputs": [
    {
     "name": "stderr",
     "output_type": "stream",
     "text": [
      "Using backend: pytorch\n"
     ]
    }
   ],
   "source": [
    "from torch.utils.data import Dataset\n",
    "from botdet.data.dataloader import GraphDataLoader\n",
    "import deepdish as dd\n",
    "from tqdm import tqdm\n",
    "import os\n",
    "import torch as ch\n",
    "import random\n",
    "import numpy as np\n",
    "import dgl"
   ]
  },
  {
   "cell_type": "code",
   "execution_count": 3,
   "metadata": {},
   "outputs": [],
   "source": [
    "import autotime\n",
    "import snap\n",
    "import matplotlib.pyplot as plt"
   ]
  },
  {
   "cell_type": "code",
   "execution_count": 4,
   "metadata": {},
   "outputs": [],
   "source": [
    "@not_implemented_for(\"directed\")\n",
    "def average_clustering_ingoring_self_loops(G, trials=1000, seed=None):\n",
    "    n = len(G)\n",
    "    \n",
    "    if trials >= n:\n",
    "        raise ValueError(\"Requesting more trials than graph size - compute directly instead\")\n",
    "\n",
    "    triangles = 0\n",
    "    nodes = list(G)\n",
    "\n",
    "    # Pick N nodes at random (can repeat)\n",
    "    random_nodes = np.random.choice(n, trials)\n",
    "    \n",
    "    for i in random_nodes:\n",
    "        nbrs = list(G[nodes[i]])\n",
    "\n",
    "        # Do not consider self loops, if present\n",
    "        if nodes[i] in nbrs:\n",
    "            nbrs.remove(nodes[i])\n",
    "\n",
    "        # Not valid if one neighbor\n",
    "        if len(nbrs) < 2:\n",
    "            continue\n",
    "\n",
    "        # Pick 2 neighbors at random\n",
    "        u, v = np.random.choice(nbrs, 2, replace=False)\n",
    "        \n",
    "        # Check if they are connected\n",
    "        if u in G[v]:\n",
    "            triangles += 1\n",
    "        \n",
    "    return triangles / float(trials)"
   ]
  },
  {
   "cell_type": "code",
   "execution_count": 5,
   "metadata": {},
   "outputs": [],
   "source": [
    "prefix = \"/p/adversarialml/as9rw/datasets/raw_botnet/\""
   ]
  },
  {
   "cell_type": "code",
   "execution_count": null,
   "metadata": {},
   "outputs": [],
   "source": [
    "f = prefix + \"equinix-nyc.dirA.20181220-131800.UTC.anon.hdf5\"\n",
    "g = dd.io.load(f)"
   ]
  },
  {
   "cell_type": "code",
   "execution_count": null,
   "metadata": {},
   "outputs": [],
   "source": [
    "# Get corresponding SNAP graph\n",
    "sg = snap.TUNGraph.New()\n",
    "for i in g.nodes:\n",
    "    sg.AddNode(i)\n",
    "\n",
    "for e in tqdm(g.edges):\n",
    "    sg.AddEdge(int(e[0]), int(e[1]))"
   ]
  },
  {
   "cell_type": "code",
   "execution_count": null,
   "metadata": {},
   "outputs": [],
   "source": [
    "# Get heuristic\n",
    "sg.GetClustCf(False, 20000)"
   ]
  },
  {
   "cell_type": "code",
   "execution_count": null,
   "metadata": {},
   "outputs": [],
   "source": [
    "# Add self loops\n",
    "g.add_edges_from([(x, x) for x in g.nodes])"
   ]
  },
  {
   "cell_type": "code",
   "execution_count": null,
   "metadata": {},
   "outputs": [],
   "source": [
    "# Check if code modification worked\n",
    "average_clustering_ingoring_self_loops(g, 20000)"
   ]
  },
  {
   "cell_type": "code",
   "execution_count": null,
   "metadata": {},
   "outputs": [],
   "source": [
    "trians = np.array([triangles(g, x) for x in g.nodes])\n",
    "sorted_ids = np.argsort(-trians)"
   ]
  },
  {
   "cell_type": "code",
   "execution_count": null,
   "metadata": {},
   "outputs": [],
   "source": [
    "np.mean(trians)"
   ]
  },
  {
   "cell_type": "code",
   "execution_count": null,
   "metadata": {},
   "outputs": [],
   "source": [
    "n_tries = 1000\n",
    "\n",
    "coeffs = []\n",
    "for j in tqdm(range(n_tries)):\n",
    "    coeffs.append(average_clustering_ingoring_self_loops(g, 20000))"
   ]
  },
  {
   "cell_type": "code",
   "execution_count": null,
   "metadata": {},
   "outputs": [],
   "source": [
    "np.mean(coeffs)"
   ]
  },
  {
   "cell_type": "code",
   "execution_count": null,
   "metadata": {},
   "outputs": [],
   "source": [
    "average_clustering_ingoring_self_loops(g, 20000)"
   ]
  },
  {
   "cell_type": "code",
   "execution_count": null,
   "metadata": {},
   "outputs": [],
   "source": [
    "# Will make underlying graph more like a botnet - can be problematic\n",
    "def remove_node_keep_connected(graph, node):\n",
    "    neighbors = graph[node]\n",
    "    edges_to_add = [(u, v) for u in neighbors for v in neighbors]\n",
    "    # Form connections between neighbors to compensate for pruned node\n",
    "    graph.add_edges_from(edges_to_add)\n",
    "    # Prune node\n",
    "    graph.remove_node(node)"
   ]
  },
  {
   "cell_type": "code",
   "execution_count": null,
   "metadata": {},
   "outputs": [],
   "source": [
    "def modify_clustering_coefficient(graph, coeff,\n",
    "                                  n_trials=10000, together=1000,\n",
    "                                  m_trials=10, p_check=0.8,\n",
    "                                  at_most=200000, verbose=True):\n",
    "\n",
    "    # Get clustering coefficient starting with\n",
    "    ca = average_clustering_ingoring_self_loops(graph, trials=n_trials)\n",
    "\n",
    "    if verbose:\n",
    "        print(graph.number_of_nodes(), \"nodes,\", graph.number_of_edges(), \"edges\")\n",
    "        print(\"%d trials\" % n_trials)\n",
    "        print(\"Initial clustering coefficient: %f\" % ca)\n",
    "\n",
    "    # Iterate through nodes\n",
    "    iterator = tqdm(range(0, at_most, together))\n",
    "    for i in iterator:\n",
    "        \n",
    "        # Randomly pick edges to prune\n",
    "        edges_to_prune = np.random.choice(len(graph.edges), together, replace=False)\n",
    "        \n",
    "        # Prune said edges\n",
    "        graph.remove_edges_from(np.array(graph.edges)[edges_to_prune])\n",
    "        \n",
    "        # Get approximate clustering coefficient\n",
    "        ca = average_clustering_ingoring_self_loops(graph, trials=n_trials)\n",
    "\n",
    "        if verbose:\n",
    "            iterator.set_description(\n",
    "                \"Clustering-coefficient: %.3f | %d\" %\n",
    "                (ca, graph.number_of_edges()))\n",
    "\n",
    "        # If coefficient drops to desired value, run 'm_trials' more trials\n",
    "        # if all of them satisfy desired coefficient, return graph\n",
    "        if ca <= coeff:\n",
    "\n",
    "            satisfy = 0\n",
    "            for j in range(m_trials):\n",
    "                ca_ = average_clustering_ingoring_self_loops(\n",
    "                    graph, trials=n_trials)\n",
    "                satisfy += (ca_ <= coeff)\n",
    "\n",
    "            # If 'p_check' of them satisfy required coefficient requirement\n",
    "            # return current graph\n",
    "            if verbose:\n",
    "                print(\"Got until\", satisfy / m_trials)\n",
    "            if (satisfy / m_trials) >= p_check:\n",
    "\n",
    "                # Consider only largest component of pruned graph\n",
    "                largest_cc = max(connected_components(graph), key=len)\n",
    "                graph_ = graph.subgraph(largest_cc).copy()\n",
    "                if verbose:\n",
    "                    print(\"Numer of nodes decreased from %d to %d\" %\n",
    "                         (graph.number_of_nodes(), graph_.number_of_nodes()))\n",
    "                    print(\"CC rn: %.3f\" % average_clustering_ingoring_self_loops(graph_, trials=n_trials))\n",
    "\n",
    "                return graph_\n",
    "\n",
    "    # If nothing happened until this point, desired coefficient\n",
    "    # was not achieved - raise error\n",
    "    raise ValueError(\"Desired coefficient not achieved!\")"
   ]
  },
  {
   "cell_type": "code",
   "execution_count": null,
   "metadata": {},
   "outputs": [],
   "source": [
    "def density_preserving_node_prune(graph, n_prune, at_a_time=100, resync_every=10, verbose=True):\n",
    "\n",
    "    if verbose:\n",
    "        print(graph.number_of_nodes(), \"nodes,\", graph.number_of_edges(), \"edges\")\n",
    "\n",
    "    # Iterate through nodes\n",
    "    pwnd = 0\n",
    "    start_deg = graph.number_of_edges() / graph.number_of_nodes()\n",
    "    iterator = tqdm(total=n_prune)\n",
    "    iters = 0\n",
    "    while pwnd < n_prune:\n",
    "        \n",
    "        if (iters + 1) % resync_every == 0:\n",
    "            # Every now and then, reduce to largest component\n",
    "            largest_cc = max(connected_components(graph), key=len)\n",
    "            graph = graph.subgraph(largest_cc).copy()\n",
    "        \n",
    "        cur_deg = graph.number_of_edges() / graph.number_of_nodes()\n",
    "        degrees = np.array(graph.degree)\n",
    "        \n",
    "        iterator.set_description(\"Avg deg: %.5f | Nodes: %d\" % (cur_deg, graph.number_of_nodes()))\n",
    "\n",
    "        if cur_deg >= start_deg:\n",
    "            # prune high-degree node\n",
    "            picked_from = np.random.choice(degrees[degrees[:,1] > cur_deg, 0], at_a_time, replace=False)\n",
    "        else:\n",
    "            # prune low-degree node\n",
    "            picked_from = np.random.choice(degrees[degrees[:,1] < cur_deg, 0], at_a_time, replace=False)\n",
    "        \n",
    "        # Remove node\n",
    "        graph.remove_nodes_from(picked_from)\n",
    "        pwnd += len(picked_from)\n",
    "        iters += 1\n",
    "        \n",
    "        iterator.update(len(picked_from))\n",
    "    \n",
    "    # Pick largest component\n",
    "    largest_cc = max(connected_components(graph), key=len)\n",
    "    graph = graph.subgraph(largest_cc).copy()\n",
    "    now_deg = graph.number_of_edges() / graph.number_of_nodes()\n",
    "    print(\"Original graph: %.4f | Final graph: %.4f\" % (start_deg, now_deg))\n",
    "\n",
    "    iterator.close()\n",
    "    return graph"
   ]
  },
  {
   "cell_type": "code",
   "execution_count": null,
   "metadata": {},
   "outputs": [],
   "source": [
    "graph_c = g.copy()"
   ]
  },
  {
   "cell_type": "code",
   "execution_count": null,
   "metadata": {},
   "outputs": [],
   "source": [
    "density_preserving_node_prune(graph_c, 30000, at_a_time=500)"
   ]
  },
  {
   "cell_type": "code",
   "execution_count": 8,
   "metadata": {},
   "outputs": [
    {
     "name": "stderr",
     "output_type": "stream",
     "text": [
      "100%|██████████| 752/752 [06:00<00:00,  2.09it/s]\n",
      "100%|██████████| 61/61 [1:15:56<00:00, 74.70s/it]\n"
     ]
    }
   ],
   "source": [
    "# May\n",
    "graphs_may = []\n",
    "coeffs_may = []\n",
    "for file in tqdm(os.listdir(prefix)):\n",
    "    if file.startswith(\"equinix-nyc.dirA.20180517-1\") and file.endswith(\".hdf5\"):\n",
    "        graphs_may.append(dd.io.load(os.path.join(prefix, file)))\n",
    "\n",
    "for g in tqdm(graphs_may):\n",
    "    coeffs_may.append(nx.average_clustering(g))"
   ]
  },
  {
   "cell_type": "code",
   "execution_count": 9,
   "metadata": {},
   "outputs": [
    {
     "data": {
      "text/plain": [
       "(array([ 2.,  4.,  5.,  8., 13., 10.,  6.,  5.,  5.,  3.]),\n",
       " array([0.00621391, 0.00649188, 0.00676986, 0.00704783, 0.0073258 ,\n",
       "        0.00760377, 0.00788175, 0.00815972, 0.00843769, 0.00871567,\n",
       "        0.00899364]),\n",
       " <a list of 10 Patch objects>)"
      ]
     },
     "execution_count": 9,
     "metadata": {},
     "output_type": "execute_result"
    },
    {
     "data": {
      "image/png": "[encoded data removed]",
      "text/plain": [
       "<Figure size 432x288 with 1 Axes>"
      ]
     },
     "metadata": {
      "needs_background": "light"
     },
     "output_type": "display_data"
    }
   ],
   "source": [
    "plt.hist(coeffs_may)"
   ]
  },
  {
   "cell_type": "code",
   "execution_count": 6,
   "metadata": {},
   "outputs": [
    {
     "name": "stderr",
     "output_type": "stream",
     "text": [
      "100%|██████████| 746/746 [06:07<00:00,  2.03it/s]\n",
      "100%|██████████| 61/61 [1:20:36<00:00, 79.28s/it]\n"
     ]
    }
   ],
   "source": [
    "# June\n",
    "graphs_jun = []\n",
    "coeffs_jun = []\n",
    "for file in tqdm(os.listdir(prefix)):\n",
    "    if file.startswith(\"equinix-nyc.dirA.20180621-1\") and file.endswith(\".hdf5\"):\n",
    "        graphs_jun.append(dd.io.load(os.path.join(prefix, file)))\n",
    "\n",
    "for g in tqdm(graphs_jun):\n",
    "    coeffs_jun.append(nx.average_clustering(g))"
   ]
  },
  {
   "cell_type": "code",
   "execution_count": 7,
   "metadata": {},
   "outputs": [
    {
     "data": {
      "text/plain": [
       "(array([ 7.,  3.,  6.,  7.,  9., 12.,  5.,  7.,  4.,  1.]),\n",
       " array([0.00781545, 0.00804225, 0.00826905, 0.00849585, 0.00872265,\n",
       "        0.00894945, 0.00917625, 0.00940305, 0.00962985, 0.00985665,\n",
       "        0.01008345]),\n",
       " <a list of 10 Patch objects>)"
      ]
     },
     "execution_count": 7,
     "metadata": {},
     "output_type": "execute_result"
    },
    {
     "data": {
      "image/png": "[encoded data removed]",
      "text/plain": [
       "<Figure size 432x288 with 1 Axes>"
      ]
     },
     "metadata": {
      "needs_background": "light"
     },
     "output_type": "display_data"
    }
   ],
   "source": [
    "plt.hist(coeffs_jun)"
   ]
  },
  {
   "cell_type": "code",
   "execution_count": null,
   "metadata": {},
   "outputs": [],
   "source": [
    "# July\n",
    "graphs_jul = []\n",
    "coeffs_jul = []\n",
    "for file in tqdm(os.listdir(prefix)):\n",
    "    if file.startswith(\"equinix-nyc.dirA.20180719-1\") and file.endswith(\".hdf5\"):\n",
    "        graphs_jul.append(dd.io.load(os.path.join(prefix, file)))\n",
    "\n",
    "for g in tqdm(graphs_jul):\n",
    "    coeffs_jul.append(nx.average_clustering(g))"
   ]
  },
  {
   "cell_type": "code",
   "execution_count": null,
   "metadata": {},
   "outputs": [],
   "source": [
    "plt.hist(coeffs_jul)"
   ]
  },
  {
   "cell_type": "code",
   "execution_count": null,
   "metadata": {},
   "outputs": [],
   "source": [
    "# August\n",
    "graphs_aug = []\n",
    "coeffs_aug = []\n",
    "for file in tqdm(os.listdir(prefix)):\n",
    "    if file.startswith(\"equinix-nyc.dirA.20180816-1\") and file.endswith(\".hdf5\"):\n",
    "        graphs_aug.append(dd.io.load(os.path.join(prefix, file)))\n",
    "\n",
    "for g in tqdm(graphs_aug):\n",
    "    coeffs_aug.append(nx.average_clustering(g))"
   ]
  },
  {
   "cell_type": "code",
   "execution_count": null,
   "metadata": {},
   "outputs": [],
   "source": [
    "plt.hist(coeffs_aug)"
   ]
  },
  {
   "cell_type": "code",
   "execution_count": null,
   "metadata": {},
   "outputs": [],
   "source": [
    "# September\n",
    "graphs_sep = []\n",
    "coeffs_sep = []\n",
    "for file in tqdm(os.listdir(prefix)):\n",
    "    if file.startswith(\"equinix-nyc.dirA.20180921-1\") and file.endswith(\".hdf5\"):\n",
    "        graphs_sep.append(dd.io.load(os.path.join(prefix, file)))\n",
    "\n",
    "for g in tqdm(graphs_sep):\n",
    "    coeffs_sep.append(nx.average_clustering(g))"
   ]
  },
  {
   "cell_type": "code",
   "execution_count": null,
   "metadata": {},
   "outputs": [],
   "source": [
    "plt.hist(coeffs_sep)"
   ]
  },
  {
   "cell_type": "code",
   "execution_count": null,
   "metadata": {},
   "outputs": [],
   "source": [
    "plt.hist(coeffs_sep + coeffs_aug + coeffs_jul)"
   ]
  },
  {
   "cell_type": "code",
   "execution_count": null,
   "metadata": {},
   "outputs": [],
   "source": [
    "graphs = []\n",
    "coeffs = []\n",
    "for file in tqdm(os.listdir(prefix)):\n",
    "    if file.startswith(\"equinix-nyc.dirA.20181220-1\") and file.endswith(\".hdf5\"):\n",
    "        graphs.append(dd.io.load(os.path.join(prefix, file)))\n",
    "\n",
    "for g in tqdm(graphs):\n",
    "    coeffs.append(nx.average_clustering(g))"
   ]
  },
  {
   "cell_type": "code",
   "execution_count": null,
   "metadata": {},
   "outputs": [],
   "source": [
    "plt.hist(coeffs)"
   ]
  },
  {
   "cell_type": "code",
   "execution_count": null,
   "metadata": {},
   "outputs": [],
   "source": [
    "graphs_ = []\n",
    "coeffs_ = []\n",
    "for file in tqdm(os.listdir(prefix)):\n",
    "    if file.startswith(\"equinix-nyc.dirA.20181115-1\") and file.endswith(\".hdf5\"):\n",
    "        graphs_.append(dd.io.load(os.path.join(prefix, file)))\n",
    "\n",
    "for g in tqdm(graphs_):\n",
    "    coeffs_.append(nx.average_clustering(g))"
   ]
  },
  {
   "cell_type": "code",
   "execution_count": null,
   "metadata": {},
   "outputs": [],
   "source": [
    "plt.hist(coeffs_)"
   ]
  },
  {
   "cell_type": "code",
   "execution_count": null,
   "metadata": {},
   "outputs": [],
   "source": [
    "graphs__ = []\n",
    "coeffs__ = []\n",
    "for file in tqdm(os.listdir(prefix)):\n",
    "    if file.startswith(\"equinix-nyc.dirA.20181018-1\") and file.endswith(\".hdf5\"):\n",
    "        graphs__.append(dd.io.load(os.path.join(prefix, file)))\n",
    "\n",
    "for g in tqdm(graphs__):\n",
    "    coeffs__.append(nx.average_clustering(g))"
   ]
  },
  {
   "cell_type": "code",
   "execution_count": 15,
   "metadata": {},
   "outputs": [],
   "source": [
    "mapping = {}"
   ]
  },
  {
   "cell_type": "code",
   "execution_count": null,
   "metadata": {},
   "outputs": [],
   "source": [
    "# Sept names\n",
    "names = []\n",
    "for file in tqdm(os.listdir(prefix)):\n",
    "    if file.startswith(\"equinix-nyc.dirA.20180921-1\") and file.endswith(\".hdf5\"):\n",
    "        names.append(file)\n",
    "\n",
    "for n, c in zip(names, coeffs_sep):\n",
    "    mapping[n] = c"
   ]
  },
  {
   "cell_type": "code",
   "execution_count": null,
   "metadata": {},
   "outputs": [],
   "source": [
    "# Aug names\n",
    "names = []\n",
    "for file in tqdm(os.listdir(prefix)):\n",
    "    if file.startswith(\"equinix-nyc.dirA.20180816-1\") and file.endswith(\".hdf5\"):\n",
    "        names.append(file)\n",
    "\n",
    "for n, c in zip(names, coeffs_aug):\n",
    "    mapping[n] = c"
   ]
  },
  {
   "cell_type": "code",
   "execution_count": null,
   "metadata": {},
   "outputs": [],
   "source": [
    "# July names\n",
    "names = []\n",
    "for file in tqdm(os.listdir(prefix)):\n",
    "    if file.startswith(\"equinix-nyc.dirA.20180719-1\") and file.endswith(\".hdf5\"):\n",
    "        names.append(file)\n",
    "\n",
    "for n, c in zip(names, coeffs_jul):\n",
    "    mapping[n] = c"
   ]
  },
  {
   "cell_type": "code",
   "execution_count": 13,
   "metadata": {},
   "outputs": [
    {
     "name": "stderr",
     "output_type": "stream",
     "text": [
      "100%|██████████| 752/752 [00:00<00:00, 712633.67it/s]\n"
     ]
    }
   ],
   "source": [
    "# June names\n",
    "names = []\n",
    "for file in tqdm(os.listdir(prefix)):\n",
    "    if file.startswith(\"equinix-nyc.dirA.20180621-1\") and file.endswith(\".hdf5\"):\n",
    "        names.append(file)\n",
    "\n",
    "for n, c in zip(names, coeffs_jun):\n",
    "    mapping[n] = c"
   ]
  },
  {
   "cell_type": "code",
   "execution_count": 16,
   "metadata": {},
   "outputs": [
    {
     "name": "stderr",
     "output_type": "stream",
     "text": [
      "100%|██████████| 752/752 [00:00<00:00, 656970.76it/s]\n"
     ]
    }
   ],
   "source": [
    "# May names\n",
    "names = []\n",
    "for file in tqdm(os.listdir(prefix)):\n",
    "    if file.startswith(\"equinix-nyc.dirA.20180517-1\") and file.endswith(\".hdf5\"):\n",
    "        names.append(file)\n",
    "\n",
    "for n, c in zip(names, coeffs_may):\n",
    "    mapping[n] = c"
   ]
  },
  {
   "cell_type": "code",
   "execution_count": 17,
   "metadata": {},
   "outputs": [
    {
     "name": "stdout",
     "output_type": "stream",
     "text": [
      "equinix-nyc.dirA.20180517-134300.UTC.anon.hdf5,0.008641125031337972\n",
      "equinix-nyc.dirA.20180517-132000.UTC.anon.hdf5,0.008035042710738925\n",
      "equinix-nyc.dirA.20180517-130100.UTC.anon.hdf5,0.007928334029823889\n",
      "equinix-nyc.dirA.20180517-135300.UTC.anon.hdf5,0.007194124321608037\n",
      "equinix-nyc.dirA.20180517-131100.UTC.anon.hdf5,0.008461216247748956\n",
      "equinix-nyc.dirA.20180517-133000.UTC.anon.hdf5,0.0077639481243399885\n",
      "equinix-nyc.dirA.20180517-130000.UTC.anon.hdf5,0.007295496905872347\n",
      "equinix-nyc.dirA.20180517-132100.UTC.anon.hdf5,0.007570190779217938\n",
      "equinix-nyc.dirA.20180517-134200.UTC.anon.hdf5,0.0073511497735330895\n",
      "equinix-nyc.dirA.20180517-133100.UTC.anon.hdf5,0.00656808199470967\n",
      "equinix-nyc.dirA.20180517-131000.UTC.anon.hdf5,0.008895267620465446\n",
      "equinix-nyc.dirA.20180517-135200.UTC.anon.hdf5,0.007275882830097168\n",
      "equinix-nyc.dirA.20180517-131300.UTC.anon.hdf5,0.00899363964643712\n",
      "equinix-nyc.dirA.20180517-133200.UTC.anon.hdf5,0.00749146555044486\n",
      "equinix-nyc.dirA.20180517-135100.UTC.anon.hdf5,0.007346012156840914\n",
      "equinix-nyc.dirA.20180517-140000.UTC.anon.hdf5,0.006813115833556454\n",
      "equinix-nyc.dirA.20180517-132200.UTC.anon.hdf5,0.007687166962228022\n",
      "equinix-nyc.dirA.20180517-130300.UTC.anon.hdf5,0.00760961138722584\n",
      "equinix-nyc.dirA.20180517-134100.UTC.anon.hdf5,0.007964337835565763\n",
      "equinix-nyc.dirA.20180517-135000.UTC.anon.hdf5,0.007004173042986977\n",
      "equinix-nyc.dirA.20180517-133300.UTC.anon.hdf5,0.008063993269027302\n",
      "equinix-nyc.dirA.20180517-131200.UTC.anon.hdf5,0.007521337741836118\n",
      "equinix-nyc.dirA.20180517-134000.UTC.anon.hdf5,0.00777769807865373\n",
      "equinix-nyc.dirA.20180517-130200.UTC.anon.hdf5,0.00869267834588171\n",
      "equinix-nyc.dirA.20180517-132300.UTC.anon.hdf5,0.007136872514746631\n",
      "equinix-nyc.dirA.20180517-131400.UTC.anon.hdf5,0.008273477572344414\n",
      "equinix-nyc.dirA.20180517-133500.UTC.anon.hdf5,0.0077223993747012\n",
      "equinix-nyc.dirA.20180517-134800.UTC.anon.hdf5,0.007316982213310991\n",
      "equinix-nyc.dirA.20180517-135600.UTC.anon.hdf5,0.00666569049270809\n",
      "equinix-nyc.dirA.20180517-132500.UTC.anon.hdf5,0.00791884030880091\n",
      "equinix-nyc.dirA.20180517-130400.UTC.anon.hdf5,0.00895201988243743\n",
      "equinix-nyc.dirA.20180517-134600.UTC.anon.hdf5,0.007255097466181906\n",
      "equinix-nyc.dirA.20180517-135800.UTC.anon.hdf5,0.006213908997653694\n",
      "equinix-nyc.dirA.20180517-135700.UTC.anon.hdf5,0.007002958401559475\n",
      "equinix-nyc.dirA.20180517-134900.UTC.anon.hdf5,0.007749067721540471\n",
      "equinix-nyc.dirA.20180517-133400.UTC.anon.hdf5,0.007365151932592647\n",
      "equinix-nyc.dirA.20180517-131500.UTC.anon.hdf5,0.008164292719101489\n",
      "equinix-nyc.dirA.20180517-135900.UTC.anon.hdf5,0.006851553491104229\n",
      "equinix-nyc.dirA.20180517-134700.UTC.anon.hdf5,0.008555085408299466\n",
      "equinix-nyc.dirA.20180517-130500.UTC.anon.hdf5,0.007310392529331476\n",
      "equinix-nyc.dirA.20180517-132400.UTC.anon.hdf5,0.007488475932076481\n",
      "equinix-nyc.dirA.20180517-134400.UTC.anon.hdf5,0.007578265128965116\n",
      "equinix-nyc.dirA.20180517-132700.UTC.anon.hdf5,0.00759477528504857\n",
      "equinix-nyc.dirA.20180517-131800.UTC.anon.hdf5,0.008268239469311326\n",
      "equinix-nyc.dirA.20180517-133900.UTC.anon.hdf5,0.006854591425839465\n",
      "equinix-nyc.dirA.20180517-130600.UTC.anon.hdf5,0.00768515797565931\n",
      "equinix-nyc.dirA.20180517-135400.UTC.anon.hdf5,0.006473332237723343\n",
      "equinix-nyc.dirA.20180517-132900.UTC.anon.hdf5,0.008248238740267465\n",
      "equinix-nyc.dirA.20180517-131600.UTC.anon.hdf5,0.007922214502360737\n",
      "equinix-nyc.dirA.20180517-133700.UTC.anon.hdf5,0.007416980513614314\n",
      "equinix-nyc.dirA.20180517-130800.UTC.anon.hdf5,0.008414643175175453\n",
      "equinix-nyc.dirA.20180517-133800.UTC.anon.hdf5,0.007543562030362642\n",
      "equinix-nyc.dirA.20180517-130700.UTC.anon.hdf5,0.007542226628734264\n",
      "equinix-nyc.dirA.20180517-132600.UTC.anon.hdf5,0.00870660246692436\n",
      "equinix-nyc.dirA.20180517-131900.UTC.anon.hdf5,0.007846603137923297\n",
      "equinix-nyc.dirA.20180517-134500.UTC.anon.hdf5,0.007124985463894672\n",
      "equinix-nyc.dirA.20180517-133600.UTC.anon.hdf5,0.007405303486370444\n",
      "equinix-nyc.dirA.20180517-130900.UTC.anon.hdf5,0.006696510170559193\n",
      "equinix-nyc.dirA.20180517-132800.UTC.anon.hdf5,0.007756756378612239\n",
      "equinix-nyc.dirA.20180517-131700.UTC.anon.hdf5,0.007742720585911448\n",
      "equinix-nyc.dirA.20180517-135500.UTC.anon.hdf5,0.006726747471381678\n"
     ]
    }
   ],
   "source": [
    "for k, v in mapping.items():\n",
    "    print(k + \",\" + str(v))"
   ]
  },
  {
   "cell_type": "code",
   "execution_count": null,
   "metadata": {},
   "outputs": [],
   "source": [
    "# Oct names\n",
    "names__ = []\n",
    "for file in tqdm(os.listdir(prefix)):\n",
    "    if file.startswith(\"equinix-nyc.dirA.20181018-1\") and file.endswith(\".hdf5\"):\n",
    "        names__.append(file)\n",
    "\n",
    "for n, c in zip(names__, coeffs__):\n",
    "    mapping[n] = c"
   ]
  },
  {
   "cell_type": "code",
   "execution_count": null,
   "metadata": {},
   "outputs": [],
   "source": [
    "# Nov names\n",
    "names_ = []\n",
    "for file in tqdm(os.listdir(prefix)):\n",
    "    if file.startswith(\"equinix-nyc.dirA.20181115-1\") and file.endswith(\".hdf5\"):\n",
    "        names_.append(file)\n",
    "\n",
    "for n, c in zip(names_, coeffs_):\n",
    "    mapping[n] = c"
   ]
  },
  {
   "cell_type": "code",
   "execution_count": null,
   "metadata": {},
   "outputs": [],
   "source": [
    "# Dec names\n",
    "names = []\n",
    "for file in tqdm(os.listdir(prefix)):\n",
    "    if file.startswith(\"equinix-nyc.dirA.20181220-1\") and file.endswith(\".hdf5\"):\n",
    "        names.append(file)\n",
    "\n",
    "for n, c in zip(names, coeffs):\n",
    "    mapping[n] = c"
   ]
  },
  {
   "cell_type": "code",
   "execution_count": null,
   "metadata": {},
   "outputs": [],
   "source": [
    "# Write to file\n",
    "with open(\"./coeffs.csv\", 'w') as f:\n",
    "    for k, v in mapping.items():\n",
    "        f.write(k + \",\" + str(v) + \"\\n\")"
   ]
  },
  {
   "cell_type": "code",
   "execution_count": null,
   "metadata": {},
   "outputs": [],
   "source": [
    "plt.hist(coeffs__)"
   ]
  },
  {
   "cell_type": "code",
   "execution_count": null,
   "metadata": {},
   "outputs": [],
   "source": [
    "plt.hist(coeffs__ + coeffs_ + coeffs, bins=20)"
   ]
  },
  {
   "cell_type": "markdown",
   "metadata": {},
   "source": [
    "## See if clustering coeffs could be correlated with nodes/edges"
   ]
  },
  {
   "cell_type": "code",
   "execution_count": null,
   "metadata": {},
   "outputs": [],
   "source": [
    "plt.plot([g.number_of_nodes() for g in graphs__], coeffs__, 'o')"
   ]
  },
  {
   "cell_type": "code",
   "execution_count": null,
   "metadata": {},
   "outputs": [],
   "source": [
    "plt.plot([g.number_of_edges() for g in graphs__], coeffs__, 'o')"
   ]
  },
  {
   "cell_type": "code",
   "execution_count": null,
   "metadata": {},
   "outputs": [],
   "source": [
    "plt.plot([g.number_of_nodes() for g in graphs_], coeffs_, 'o')"
   ]
  },
  {
   "cell_type": "code",
   "execution_count": null,
   "metadata": {},
   "outputs": [],
   "source": [
    "plt.plot([g.number_of_edges() for g in graphs_], coeffs_, 'o')"
   ]
  },
  {
   "cell_type": "code",
   "execution_count": null,
   "metadata": {},
   "outputs": [],
   "source": [
    "plt.plot([g.number_of_nodes() for g in graphs], coeffs, 'o')"
   ]
  },
  {
   "cell_type": "code",
   "execution_count": null,
   "metadata": {},
   "outputs": [],
   "source": [
    "plt.plot([g.number_of_edges() for g in graphs], coeffs, 'o')"
   ]
  },
  {
   "cell_type": "code",
   "execution_count": null,
   "metadata": {},
   "outputs": [],
   "source": [
    "plt.plot([g.number_of_nodes() for g in graphs_sep], coeffs_sep, 'o')"
   ]
  },
  {
   "cell_type": "code",
   "execution_count": null,
   "metadata": {},
   "outputs": [],
   "source": [
    "plt.plot([g.number_of_edges() for g in graphs_sep], coeffs_sep, 'o')"
   ]
  },
  {
   "cell_type": "code",
   "execution_count": null,
   "metadata": {},
   "outputs": [],
   "source": [
    "plt.plot([g.number_of_nodes() for g in graphs_aug], coeffs_aug, 'o')"
   ]
  },
  {
   "cell_type": "code",
   "execution_count": null,
   "metadata": {},
   "outputs": [],
   "source": [
    "plt.plot([g.number_of_edges() for g in graphs_aug], coeffs_aug, 'o')"
   ]
  },
  {
   "cell_type": "code",
   "execution_count": null,
   "metadata": {},
   "outputs": [],
   "source": [
    "plt.plot([g.number_of_nodes() for g in graphs_jul], coeffs_jul, 'o')"
   ]
  },
  {
   "cell_type": "code",
   "execution_count": null,
   "metadata": {},
   "outputs": [],
   "source": [
    "plt.plot([g.number_of_edges() for g in graphs_jul], coeffs_jul, 'o')"
   ]
  },
  {
   "cell_type": "code",
   "execution_count": 20,
   "metadata": {},
   "outputs": [
    {
     "data": {
      "text/plain": [
       "[<matplotlib.lines.Line2D at 0x7f0825f63390>]"
      ]
     },
     "execution_count": 20,
     "metadata": {},
     "output_type": "execute_result"
    },
    {
     "data": {
      "image/png": "[encoded data removed]",
      "text/plain": [
       "<Figure size 432x288 with 1 Axes>"
      ]
     },
     "metadata": {
      "needs_background": "light"
     },
     "output_type": "display_data"
    }
   ],
   "source": [
    "plt.plot([g.number_of_nodes() for g in graphs_jun], coeffs_jun, 'o')"
   ]
  },
  {
   "cell_type": "code",
   "execution_count": 21,
   "metadata": {},
   "outputs": [
    {
     "data": {
      "text/plain": [
       "[<matplotlib.lines.Line2D at 0x7f0830efdcf8>]"
      ]
     },
     "execution_count": 21,
     "metadata": {},
     "output_type": "execute_result"
    },
    {
     "data": {
      "image/png": "[encoded data removed]",
      "text/plain": [
       "<Figure size 432x288 with 1 Axes>"
      ]
     },
     "metadata": {
      "needs_background": "light"
     },
     "output_type": "display_data"
    }
   ],
   "source": [
    "plt.plot([g.number_of_edges() for g in graphs_jun], coeffs_jun, 'o')"
   ]
  },
  {
   "cell_type": "code",
   "execution_count": 22,
   "metadata": {},
   "outputs": [
    {
     "data": {
      "text/plain": [
       "[<matplotlib.lines.Line2D at 0x7f0828e74668>]"
      ]
     },
     "execution_count": 22,
     "metadata": {},
     "output_type": "execute_result"
    },
    {
     "data": {
      "image/png": "[encoded data removed]",
      "text/plain": [
       "<Figure size 432x288 with 1 Axes>"
      ]
     },
     "metadata": {
      "needs_background": "light"
     },
     "output_type": "display_data"
    }
   ],
   "source": [
    "plt.plot([g.number_of_nodes() for g in graphs_may], coeffs_may, 'o')"
   ]
  },
  {
   "cell_type": "code",
   "execution_count": 23,
   "metadata": {},
   "outputs": [
    {
     "data": {
      "text/plain": [
       "[<matplotlib.lines.Line2D at 0x7f0830393f98>]"
      ]
     },
     "execution_count": 23,
     "metadata": {},
     "output_type": "execute_result"
    },
    {
     "data": {
      "image/png": "[encoded data removed]",
      "text/plain": [
       "<Figure size 432x288 with 1 Axes>"
      ]
     },
     "metadata": {
      "needs_background": "light"
     },
     "output_type": "display_data"
    }
   ],
   "source": [
    "plt.plot([g.number_of_edges() for g in graphs_may], coeffs_may, 'o')"
   ]
  },
  {
   "cell_type": "code",
   "execution_count": null,
   "metadata": {},
   "outputs": [],
   "source": [
    "graphs = []\n",
    "coeffs = []\n",
    "for file in tqdm(os.listdir(prefix)):\n",
    "    if file.startswith(\"equinix-nyc.dirA.20181220-1\") and file.endswith(\".hdf5\"):\n",
    "        graphs.append(dd.io.load(os.path.join(prefix, file)))\n",
    "        coeffs.append(nx.average_clustering(g))"
   ]
  },
  {
   "cell_type": "code",
   "execution_count": null,
   "metadata": {},
   "outputs": [],
   "source": [
    "modify_clustering_coefficient(graph_c, 0.005, verbose=True)"
   ]
  },
  {
   "cell_type": "code",
   "execution_count": 26,
   "metadata": {},
   "outputs": [
    {
     "name": "stderr",
     "output_type": "stream",
     "text": [
      "100%|██████████| 753/753 [00:00<00:00, 690794.16it/s]\n"
     ]
    }
   ],
   "source": [
    "# Save to May\n",
    "graphs_to_save = {}\n",
    "\n",
    "i = 0\n",
    "for file in tqdm(os.listdir(prefix)):\n",
    "    if file.startswith(\"equinix-nyc.dirA.20180517-1\") and file.endswith(\".hdf5\"):\n",
    "        graphs_to_save[file] = graphs_may[i]\n",
    "        i += 1\n",
    "\n",
    "assert i == len(graphs_may)"
   ]
  },
  {
   "cell_type": "code",
   "execution_count": 27,
   "metadata": {},
   "outputs": [
    {
     "name": "stderr",
     "output_type": "stream",
     "text": [
      "/u/as9rw/anaconda3/envs/phd/lib/python3.6/site-packages/tables/path.py:155: NaturalNameWarning: object name is not a valid Python identifier: 'equinix-nyc.dirA.20180517-134300.UTC.anon.hdf5'; it does not match the pattern ``^[a-zA-Z_][a-zA-Z0-9_]*$``; you will not be able to use natural naming to access this object; using ``getattr()`` will still work, though\n",
      "  check_attribute_name(name)\n",
      "/u/as9rw/anaconda3/envs/phd/lib/python3.6/site-packages/tables/path.py:155: NaturalNameWarning: object name is not a valid Python identifier: 'equinix-nyc.dirA.20180517-132000.UTC.anon.hdf5'; it does not match the pattern ``^[a-zA-Z_][a-zA-Z0-9_]*$``; you will not be able to use natural naming to access this object; using ``getattr()`` will still work, though\n",
      "  check_attribute_name(name)\n",
      "/u/as9rw/anaconda3/envs/phd/lib/python3.6/site-packages/tables/path.py:155: NaturalNameWarning: object name is not a valid Python identifier: 'equinix-nyc.dirA.20180517-130100.UTC.anon.hdf5'; it does not match the pattern ``^[a-zA-Z_][a-zA-Z0-9_]*$``; you will not be able to use natural naming to access this object; using ``getattr()`` will still work, though\n",
      "  check_attribute_name(name)\n",
      "/u/as9rw/anaconda3/envs/phd/lib/python3.6/site-packages/tables/path.py:155: NaturalNameWarning: object name is not a valid Python identifier: 'equinix-nyc.dirA.20180517-135300.UTC.anon.hdf5'; it does not match the pattern ``^[a-zA-Z_][a-zA-Z0-9_]*$``; you will not be able to use natural naming to access this object; using ``getattr()`` will still work, though\n",
      "  check_attribute_name(name)\n",
      "/u/as9rw/anaconda3/envs/phd/lib/python3.6/site-packages/tables/path.py:155: NaturalNameWarning: object name is not a valid Python identifier: 'equinix-nyc.dirA.20180517-131100.UTC.anon.hdf5'; it does not match the pattern ``^[a-zA-Z_][a-zA-Z0-9_]*$``; you will not be able to use natural naming to access this object; using ``getattr()`` will still work, though\n",
      "  check_attribute_name(name)\n",
      "/u/as9rw/anaconda3/envs/phd/lib/python3.6/site-packages/tables/path.py:155: NaturalNameWarning: object name is not a valid Python identifier: 'equinix-nyc.dirA.20180517-133000.UTC.anon.hdf5'; it does not match the pattern ``^[a-zA-Z_][a-zA-Z0-9_]*$``; you will not be able to use natural naming to access this object; using ``getattr()`` will still work, though\n",
      "  check_attribute_name(name)\n",
      "/u/as9rw/anaconda3/envs/phd/lib/python3.6/site-packages/tables/path.py:155: NaturalNameWarning: object name is not a valid Python identifier: 'equinix-nyc.dirA.20180517-130000.UTC.anon.hdf5'; it does not match the pattern ``^[a-zA-Z_][a-zA-Z0-9_]*$``; you will not be able to use natural naming to access this object; using ``getattr()`` will still work, though\n",
      "  check_attribute_name(name)\n",
      "/u/as9rw/anaconda3/envs/phd/lib/python3.6/site-packages/tables/path.py:155: NaturalNameWarning: object name is not a valid Python identifier: 'equinix-nyc.dirA.20180517-132100.UTC.anon.hdf5'; it does not match the pattern ``^[a-zA-Z_][a-zA-Z0-9_]*$``; you will not be able to use natural naming to access this object; using ``getattr()`` will still work, though\n",
      "  check_attribute_name(name)\n",
      "/u/as9rw/anaconda3/envs/phd/lib/python3.6/site-packages/tables/path.py:155: NaturalNameWarning: object name is not a valid Python identifier: 'equinix-nyc.dirA.20180517-134200.UTC.anon.hdf5'; it does not match the pattern ``^[a-zA-Z_][a-zA-Z0-9_]*$``; you will not be able to use natural naming to access this object; using ``getattr()`` will still work, though\n",
      "  check_attribute_name(name)\n",
      "/u/as9rw/anaconda3/envs/phd/lib/python3.6/site-packages/tables/path.py:155: NaturalNameWarning: object name is not a valid Python identifier: 'equinix-nyc.dirA.20180517-133100.UTC.anon.hdf5'; it does not match the pattern ``^[a-zA-Z_][a-zA-Z0-9_]*$``; you will not be able to use natural naming to access this object; using ``getattr()`` will still work, though\n",
      "  check_attribute_name(name)\n",
      "/u/as9rw/anaconda3/envs/phd/lib/python3.6/site-packages/tables/path.py:155: NaturalNameWarning: object name is not a valid Python identifier: 'equinix-nyc.dirA.20180517-131000.UTC.anon.hdf5'; it does not match the pattern ``^[a-zA-Z_][a-zA-Z0-9_]*$``; you will not be able to use natural naming to access this object; using ``getattr()`` will still work, though\n",
      "  check_attribute_name(name)\n",
      "/u/as9rw/anaconda3/envs/phd/lib/python3.6/site-packages/tables/path.py:155: NaturalNameWarning: object name is not a valid Python identifier: 'equinix-nyc.dirA.20180517-135200.UTC.anon.hdf5'; it does not match the pattern ``^[a-zA-Z_][a-zA-Z0-9_]*$``; you will not be able to use natural naming to access this object; using ``getattr()`` will still work, though\n",
      "  check_attribute_name(name)\n",
      "/u/as9rw/anaconda3/envs/phd/lib/python3.6/site-packages/tables/path.py:155: NaturalNameWarning: object name is not a valid Python identifier: 'equinix-nyc.dirA.20180517-131300.UTC.anon.hdf5'; it does not match the pattern ``^[a-zA-Z_][a-zA-Z0-9_]*$``; you will not be able to use natural naming to access this object; using ``getattr()`` will still work, though\n",
      "  check_attribute_name(name)\n",
      "/u/as9rw/anaconda3/envs/phd/lib/python3.6/site-packages/tables/path.py:155: NaturalNameWarning: object name is not a valid Python identifier: 'equinix-nyc.dirA.20180517-133200.UTC.anon.hdf5'; it does not match the pattern ``^[a-zA-Z_][a-zA-Z0-9_]*$``; you will not be able to use natural naming to access this object; using ``getattr()`` will still work, though\n",
      "  check_attribute_name(name)\n",
      "/u/as9rw/anaconda3/envs/phd/lib/python3.6/site-packages/tables/path.py:155: NaturalNameWarning: object name is not a valid Python identifier: 'equinix-nyc.dirA.20180517-135100.UTC.anon.hdf5'; it does not match the pattern ``^[a-zA-Z_][a-zA-Z0-9_]*$``; you will not be able to use natural naming to access this object; using ``getattr()`` will still work, though\n",
      "  check_attribute_name(name)\n",
      "/u/as9rw/anaconda3/envs/phd/lib/python3.6/site-packages/tables/path.py:155: NaturalNameWarning: object name is not a valid Python identifier: 'equinix-nyc.dirA.20180517-140000.UTC.anon.hdf5'; it does not match the pattern ``^[a-zA-Z_][a-zA-Z0-9_]*$``; you will not be able to use natural naming to access this object; using ``getattr()`` will still work, though\n",
      "  check_attribute_name(name)\n",
      "/u/as9rw/anaconda3/envs/phd/lib/python3.6/site-packages/tables/path.py:155: NaturalNameWarning: object name is not a valid Python identifier: 'equinix-nyc.dirA.20180517-132200.UTC.anon.hdf5'; it does not match the pattern ``^[a-zA-Z_][a-zA-Z0-9_]*$``; you will not be able to use natural naming to access this object; using ``getattr()`` will still work, though\n",
      "  check_attribute_name(name)\n",
      "/u/as9rw/anaconda3/envs/phd/lib/python3.6/site-packages/tables/path.py:155: NaturalNameWarning: object name is not a valid Python identifier: 'equinix-nyc.dirA.20180517-130300.UTC.anon.hdf5'; it does not match the pattern ``^[a-zA-Z_][a-zA-Z0-9_]*$``; you will not be able to use natural naming to access this object; using ``getattr()`` will still work, though\n",
      "  check_attribute_name(name)\n",
      "/u/as9rw/anaconda3/envs/phd/lib/python3.6/site-packages/tables/path.py:155: NaturalNameWarning: object name is not a valid Python identifier: 'equinix-nyc.dirA.20180517-134100.UTC.anon.hdf5'; it does not match the pattern ``^[a-zA-Z_][a-zA-Z0-9_]*$``; you will not be able to use natural naming to access this object; using ``getattr()`` will still work, though\n",
      "  check_attribute_name(name)\n",
      "/u/as9rw/anaconda3/envs/phd/lib/python3.6/site-packages/tables/path.py:155: NaturalNameWarning: object name is not a valid Python identifier: 'equinix-nyc.dirA.20180517-135000.UTC.anon.hdf5'; it does not match the pattern ``^[a-zA-Z_][a-zA-Z0-9_]*$``; you will not be able to use natural naming to access this object; using ``getattr()`` will still work, though\n",
      "  check_attribute_name(name)\n",
      "/u/as9rw/anaconda3/envs/phd/lib/python3.6/site-packages/tables/path.py:155: NaturalNameWarning: object name is not a valid Python identifier: 'equinix-nyc.dirA.20180517-133300.UTC.anon.hdf5'; it does not match the pattern ``^[a-zA-Z_][a-zA-Z0-9_]*$``; you will not be able to use natural naming to access this object; using ``getattr()`` will still work, though\n",
      "  check_attribute_name(name)\n"
     ]
    },
    {
     "name": "stderr",
     "output_type": "stream",
     "text": [
      "/u/as9rw/anaconda3/envs/phd/lib/python3.6/site-packages/tables/path.py:155: NaturalNameWarning: object name is not a valid Python identifier: 'equinix-nyc.dirA.20180517-131200.UTC.anon.hdf5'; it does not match the pattern ``^[a-zA-Z_][a-zA-Z0-9_]*$``; you will not be able to use natural naming to access this object; using ``getattr()`` will still work, though\n",
      "  check_attribute_name(name)\n",
      "/u/as9rw/anaconda3/envs/phd/lib/python3.6/site-packages/tables/path.py:155: NaturalNameWarning: object name is not a valid Python identifier: 'equinix-nyc.dirA.20180517-134000.UTC.anon.hdf5'; it does not match the pattern ``^[a-zA-Z_][a-zA-Z0-9_]*$``; you will not be able to use natural naming to access this object; using ``getattr()`` will still work, though\n",
      "  check_attribute_name(name)\n",
      "/u/as9rw/anaconda3/envs/phd/lib/python3.6/site-packages/tables/path.py:155: NaturalNameWarning: object name is not a valid Python identifier: 'equinix-nyc.dirA.20180517-130200.UTC.anon.hdf5'; it does not match the pattern ``^[a-zA-Z_][a-zA-Z0-9_]*$``; you will not be able to use natural naming to access this object; using ``getattr()`` will still work, though\n",
      "  check_attribute_name(name)\n",
      "/u/as9rw/anaconda3/envs/phd/lib/python3.6/site-packages/tables/path.py:155: NaturalNameWarning: object name is not a valid Python identifier: 'equinix-nyc.dirA.20180517-132300.UTC.anon.hdf5'; it does not match the pattern ``^[a-zA-Z_][a-zA-Z0-9_]*$``; you will not be able to use natural naming to access this object; using ``getattr()`` will still work, though\n",
      "  check_attribute_name(name)\n",
      "/u/as9rw/anaconda3/envs/phd/lib/python3.6/site-packages/tables/path.py:155: NaturalNameWarning: object name is not a valid Python identifier: 'equinix-nyc.dirA.20180517-131400.UTC.anon.hdf5'; it does not match the pattern ``^[a-zA-Z_][a-zA-Z0-9_]*$``; you will not be able to use natural naming to access this object; using ``getattr()`` will still work, though\n",
      "  check_attribute_name(name)\n",
      "/u/as9rw/anaconda3/envs/phd/lib/python3.6/site-packages/tables/path.py:155: NaturalNameWarning: object name is not a valid Python identifier: 'equinix-nyc.dirA.20180517-133500.UTC.anon.hdf5'; it does not match the pattern ``^[a-zA-Z_][a-zA-Z0-9_]*$``; you will not be able to use natural naming to access this object; using ``getattr()`` will still work, though\n",
      "  check_attribute_name(name)\n",
      "/u/as9rw/anaconda3/envs/phd/lib/python3.6/site-packages/tables/path.py:155: NaturalNameWarning: object name is not a valid Python identifier: 'equinix-nyc.dirA.20180517-134800.UTC.anon.hdf5'; it does not match the pattern ``^[a-zA-Z_][a-zA-Z0-9_]*$``; you will not be able to use natural naming to access this object; using ``getattr()`` will still work, though\n",
      "  check_attribute_name(name)\n",
      "/u/as9rw/anaconda3/envs/phd/lib/python3.6/site-packages/tables/path.py:155: NaturalNameWarning: object name is not a valid Python identifier: 'equinix-nyc.dirA.20180517-135600.UTC.anon.hdf5'; it does not match the pattern ``^[a-zA-Z_][a-zA-Z0-9_]*$``; you will not be able to use natural naming to access this object; using ``getattr()`` will still work, though\n",
      "  check_attribute_name(name)\n",
      "/u/as9rw/anaconda3/envs/phd/lib/python3.6/site-packages/tables/path.py:155: NaturalNameWarning: object name is not a valid Python identifier: 'equinix-nyc.dirA.20180517-132500.UTC.anon.hdf5'; it does not match the pattern ``^[a-zA-Z_][a-zA-Z0-9_]*$``; you will not be able to use natural naming to access this object; using ``getattr()`` will still work, though\n",
      "  check_attribute_name(name)\n",
      "/u/as9rw/anaconda3/envs/phd/lib/python3.6/site-packages/tables/path.py:155: NaturalNameWarning: object name is not a valid Python identifier: 'equinix-nyc.dirA.20180517-130400.UTC.anon.hdf5'; it does not match the pattern ``^[a-zA-Z_][a-zA-Z0-9_]*$``; you will not be able to use natural naming to access this object; using ``getattr()`` will still work, though\n",
      "  check_attribute_name(name)\n",
      "/u/as9rw/anaconda3/envs/phd/lib/python3.6/site-packages/tables/path.py:155: NaturalNameWarning: object name is not a valid Python identifier: 'equinix-nyc.dirA.20180517-134600.UTC.anon.hdf5'; it does not match the pattern ``^[a-zA-Z_][a-zA-Z0-9_]*$``; you will not be able to use natural naming to access this object; using ``getattr()`` will still work, though\n",
      "  check_attribute_name(name)\n",
      "/u/as9rw/anaconda3/envs/phd/lib/python3.6/site-packages/tables/path.py:155: NaturalNameWarning: object name is not a valid Python identifier: 'equinix-nyc.dirA.20180517-135800.UTC.anon.hdf5'; it does not match the pattern ``^[a-zA-Z_][a-zA-Z0-9_]*$``; you will not be able to use natural naming to access this object; using ``getattr()`` will still work, though\n",
      "  check_attribute_name(name)\n",
      "/u/as9rw/anaconda3/envs/phd/lib/python3.6/site-packages/tables/path.py:155: NaturalNameWarning: object name is not a valid Python identifier: 'equinix-nyc.dirA.20180517-135700.UTC.anon.hdf5'; it does not match the pattern ``^[a-zA-Z_][a-zA-Z0-9_]*$``; you will not be able to use natural naming to access this object; using ``getattr()`` will still work, though\n",
      "  check_attribute_name(name)\n",
      "/u/as9rw/anaconda3/envs/phd/lib/python3.6/site-packages/tables/path.py:155: NaturalNameWarning: object name is not a valid Python identifier: 'equinix-nyc.dirA.20180517-134900.UTC.anon.hdf5'; it does not match the pattern ``^[a-zA-Z_][a-zA-Z0-9_]*$``; you will not be able to use natural naming to access this object; using ``getattr()`` will still work, though\n",
      "  check_attribute_name(name)\n",
      "/u/as9rw/anaconda3/envs/phd/lib/python3.6/site-packages/tables/path.py:155: NaturalNameWarning: object name is not a valid Python identifier: 'equinix-nyc.dirA.20180517-133400.UTC.anon.hdf5'; it does not match the pattern ``^[a-zA-Z_][a-zA-Z0-9_]*$``; you will not be able to use natural naming to access this object; using ``getattr()`` will still work, though\n",
      "  check_attribute_name(name)\n",
      "/u/as9rw/anaconda3/envs/phd/lib/python3.6/site-packages/tables/path.py:155: NaturalNameWarning: object name is not a valid Python identifier: 'equinix-nyc.dirA.20180517-131500.UTC.anon.hdf5'; it does not match the pattern ``^[a-zA-Z_][a-zA-Z0-9_]*$``; you will not be able to use natural naming to access this object; using ``getattr()`` will still work, though\n",
      "  check_attribute_name(name)\n",
      "/u/as9rw/anaconda3/envs/phd/lib/python3.6/site-packages/tables/path.py:155: NaturalNameWarning: object name is not a valid Python identifier: 'equinix-nyc.dirA.20180517-135900.UTC.anon.hdf5'; it does not match the pattern ``^[a-zA-Z_][a-zA-Z0-9_]*$``; you will not be able to use natural naming to access this object; using ``getattr()`` will still work, though\n",
      "  check_attribute_name(name)\n",
      "/u/as9rw/anaconda3/envs/phd/lib/python3.6/site-packages/tables/path.py:155: NaturalNameWarning: object name is not a valid Python identifier: 'equinix-nyc.dirA.20180517-134700.UTC.anon.hdf5'; it does not match the pattern ``^[a-zA-Z_][a-zA-Z0-9_]*$``; you will not be able to use natural naming to access this object; using ``getattr()`` will still work, though\n",
      "  check_attribute_name(name)\n",
      "/u/as9rw/anaconda3/envs/phd/lib/python3.6/site-packages/tables/path.py:155: NaturalNameWarning: object name is not a valid Python identifier: 'equinix-nyc.dirA.20180517-130500.UTC.anon.hdf5'; it does not match the pattern ``^[a-zA-Z_][a-zA-Z0-9_]*$``; you will not be able to use natural naming to access this object; using ``getattr()`` will still work, though\n",
      "  check_attribute_name(name)\n",
      "/u/as9rw/anaconda3/envs/phd/lib/python3.6/site-packages/tables/path.py:155: NaturalNameWarning: object name is not a valid Python identifier: 'equinix-nyc.dirA.20180517-132400.UTC.anon.hdf5'; it does not match the pattern ``^[a-zA-Z_][a-zA-Z0-9_]*$``; you will not be able to use natural naming to access this object; using ``getattr()`` will still work, though\n",
      "  check_attribute_name(name)\n",
      "/u/as9rw/anaconda3/envs/phd/lib/python3.6/site-packages/tables/path.py:155: NaturalNameWarning: object name is not a valid Python identifier: 'equinix-nyc.dirA.20180517-134400.UTC.anon.hdf5'; it does not match the pattern ``^[a-zA-Z_][a-zA-Z0-9_]*$``; you will not be able to use natural naming to access this object; using ``getattr()`` will still work, though\n",
      "  check_attribute_name(name)\n"
     ]
    },
    {
     "name": "stderr",
     "output_type": "stream",
     "text": [
      "/u/as9rw/anaconda3/envs/phd/lib/python3.6/site-packages/tables/path.py:155: NaturalNameWarning: object name is not a valid Python identifier: 'equinix-nyc.dirA.20180517-132700.UTC.anon.hdf5'; it does not match the pattern ``^[a-zA-Z_][a-zA-Z0-9_]*$``; you will not be able to use natural naming to access this object; using ``getattr()`` will still work, though\n",
      "  check_attribute_name(name)\n",
      "/u/as9rw/anaconda3/envs/phd/lib/python3.6/site-packages/tables/path.py:155: NaturalNameWarning: object name is not a valid Python identifier: 'equinix-nyc.dirA.20180517-131800.UTC.anon.hdf5'; it does not match the pattern ``^[a-zA-Z_][a-zA-Z0-9_]*$``; you will not be able to use natural naming to access this object; using ``getattr()`` will still work, though\n",
      "  check_attribute_name(name)\n",
      "/u/as9rw/anaconda3/envs/phd/lib/python3.6/site-packages/tables/path.py:155: NaturalNameWarning: object name is not a valid Python identifier: 'equinix-nyc.dirA.20180517-133900.UTC.anon.hdf5'; it does not match the pattern ``^[a-zA-Z_][a-zA-Z0-9_]*$``; you will not be able to use natural naming to access this object; using ``getattr()`` will still work, though\n",
      "  check_attribute_name(name)\n",
      "/u/as9rw/anaconda3/envs/phd/lib/python3.6/site-packages/tables/path.py:155: NaturalNameWarning: object name is not a valid Python identifier: 'equinix-nyc.dirA.20180517-130600.UTC.anon.hdf5'; it does not match the pattern ``^[a-zA-Z_][a-zA-Z0-9_]*$``; you will not be able to use natural naming to access this object; using ``getattr()`` will still work, though\n",
      "  check_attribute_name(name)\n",
      "/u/as9rw/anaconda3/envs/phd/lib/python3.6/site-packages/tables/path.py:155: NaturalNameWarning: object name is not a valid Python identifier: 'equinix-nyc.dirA.20180517-135400.UTC.anon.hdf5'; it does not match the pattern ``^[a-zA-Z_][a-zA-Z0-9_]*$``; you will not be able to use natural naming to access this object; using ``getattr()`` will still work, though\n",
      "  check_attribute_name(name)\n",
      "/u/as9rw/anaconda3/envs/phd/lib/python3.6/site-packages/tables/path.py:155: NaturalNameWarning: object name is not a valid Python identifier: 'equinix-nyc.dirA.20180517-132900.UTC.anon.hdf5'; it does not match the pattern ``^[a-zA-Z_][a-zA-Z0-9_]*$``; you will not be able to use natural naming to access this object; using ``getattr()`` will still work, though\n",
      "  check_attribute_name(name)\n",
      "/u/as9rw/anaconda3/envs/phd/lib/python3.6/site-packages/tables/path.py:155: NaturalNameWarning: object name is not a valid Python identifier: 'equinix-nyc.dirA.20180517-131600.UTC.anon.hdf5'; it does not match the pattern ``^[a-zA-Z_][a-zA-Z0-9_]*$``; you will not be able to use natural naming to access this object; using ``getattr()`` will still work, though\n",
      "  check_attribute_name(name)\n",
      "/u/as9rw/anaconda3/envs/phd/lib/python3.6/site-packages/tables/path.py:155: NaturalNameWarning: object name is not a valid Python identifier: 'equinix-nyc.dirA.20180517-133700.UTC.anon.hdf5'; it does not match the pattern ``^[a-zA-Z_][a-zA-Z0-9_]*$``; you will not be able to use natural naming to access this object; using ``getattr()`` will still work, though\n",
      "  check_attribute_name(name)\n",
      "/u/as9rw/anaconda3/envs/phd/lib/python3.6/site-packages/tables/path.py:155: NaturalNameWarning: object name is not a valid Python identifier: 'equinix-nyc.dirA.20180517-130800.UTC.anon.hdf5'; it does not match the pattern ``^[a-zA-Z_][a-zA-Z0-9_]*$``; you will not be able to use natural naming to access this object; using ``getattr()`` will still work, though\n",
      "  check_attribute_name(name)\n",
      "/u/as9rw/anaconda3/envs/phd/lib/python3.6/site-packages/tables/path.py:155: NaturalNameWarning: object name is not a valid Python identifier: 'equinix-nyc.dirA.20180517-133800.UTC.anon.hdf5'; it does not match the pattern ``^[a-zA-Z_][a-zA-Z0-9_]*$``; you will not be able to use natural naming to access this object; using ``getattr()`` will still work, though\n",
      "  check_attribute_name(name)\n",
      "/u/as9rw/anaconda3/envs/phd/lib/python3.6/site-packages/tables/path.py:155: NaturalNameWarning: object name is not a valid Python identifier: 'equinix-nyc.dirA.20180517-130700.UTC.anon.hdf5'; it does not match the pattern ``^[a-zA-Z_][a-zA-Z0-9_]*$``; you will not be able to use natural naming to access this object; using ``getattr()`` will still work, though\n",
      "  check_attribute_name(name)\n",
      "/u/as9rw/anaconda3/envs/phd/lib/python3.6/site-packages/tables/path.py:155: NaturalNameWarning: object name is not a valid Python identifier: 'equinix-nyc.dirA.20180517-132600.UTC.anon.hdf5'; it does not match the pattern ``^[a-zA-Z_][a-zA-Z0-9_]*$``; you will not be able to use natural naming to access this object; using ``getattr()`` will still work, though\n",
      "  check_attribute_name(name)\n",
      "/u/as9rw/anaconda3/envs/phd/lib/python3.6/site-packages/tables/path.py:155: NaturalNameWarning: object name is not a valid Python identifier: 'equinix-nyc.dirA.20180517-131900.UTC.anon.hdf5'; it does not match the pattern ``^[a-zA-Z_][a-zA-Z0-9_]*$``; you will not be able to use natural naming to access this object; using ``getattr()`` will still work, though\n",
      "  check_attribute_name(name)\n",
      "/u/as9rw/anaconda3/envs/phd/lib/python3.6/site-packages/tables/path.py:155: NaturalNameWarning: object name is not a valid Python identifier: 'equinix-nyc.dirA.20180517-134500.UTC.anon.hdf5'; it does not match the pattern ``^[a-zA-Z_][a-zA-Z0-9_]*$``; you will not be able to use natural naming to access this object; using ``getattr()`` will still work, though\n",
      "  check_attribute_name(name)\n",
      "/u/as9rw/anaconda3/envs/phd/lib/python3.6/site-packages/tables/path.py:155: NaturalNameWarning: object name is not a valid Python identifier: 'equinix-nyc.dirA.20180517-133600.UTC.anon.hdf5'; it does not match the pattern ``^[a-zA-Z_][a-zA-Z0-9_]*$``; you will not be able to use natural naming to access this object; using ``getattr()`` will still work, though\n",
      "  check_attribute_name(name)\n",
      "/u/as9rw/anaconda3/envs/phd/lib/python3.6/site-packages/tables/path.py:155: NaturalNameWarning: object name is not a valid Python identifier: 'equinix-nyc.dirA.20180517-130900.UTC.anon.hdf5'; it does not match the pattern ``^[a-zA-Z_][a-zA-Z0-9_]*$``; you will not be able to use natural naming to access this object; using ``getattr()`` will still work, though\n",
      "  check_attribute_name(name)\n",
      "/u/as9rw/anaconda3/envs/phd/lib/python3.6/site-packages/tables/path.py:155: NaturalNameWarning: object name is not a valid Python identifier: 'equinix-nyc.dirA.20180517-132800.UTC.anon.hdf5'; it does not match the pattern ``^[a-zA-Z_][a-zA-Z0-9_]*$``; you will not be able to use natural naming to access this object; using ``getattr()`` will still work, though\n",
      "  check_attribute_name(name)\n",
      "/u/as9rw/anaconda3/envs/phd/lib/python3.6/site-packages/tables/path.py:155: NaturalNameWarning: object name is not a valid Python identifier: 'equinix-nyc.dirA.20180517-131700.UTC.anon.hdf5'; it does not match the pattern ``^[a-zA-Z_][a-zA-Z0-9_]*$``; you will not be able to use natural naming to access this object; using ``getattr()`` will still work, though\n",
      "  check_attribute_name(name)\n",
      "/u/as9rw/anaconda3/envs/phd/lib/python3.6/site-packages/tables/path.py:155: NaturalNameWarning: object name is not a valid Python identifier: 'equinix-nyc.dirA.20180517-135500.UTC.anon.hdf5'; it does not match the pattern ``^[a-zA-Z_][a-zA-Z0-9_]*$``; you will not be able to use natural naming to access this object; using ``getattr()`` will still work, though\n",
      "  check_attribute_name(name)\n"
     ]
    }
   ],
   "source": [
    "dd.io.save(prefix + \"all_graphs_may.hdf5\", graphs_to_save)"
   ]
  },
  {
   "cell_type": "code",
   "execution_count": 24,
   "metadata": {},
   "outputs": [
    {
     "name": "stderr",
     "output_type": "stream",
     "text": [
      "100%|██████████| 752/752 [00:00<00:00, 648194.95it/s]\n"
     ]
    }
   ],
   "source": [
    "# Save to June\n",
    "graphs_to_save = {}\n",
    "\n",
    "i = 0\n",
    "for file in tqdm(os.listdir(prefix)):\n",
    "    if file.startswith(\"equinix-nyc.dirA.20180621-1\") and file.endswith(\".hdf5\"):\n",
    "        graphs_to_save[file] = graphs_jun[i]\n",
    "        i += 1\n",
    "\n",
    "assert i == len(graphs_jun)"
   ]
  },
  {
   "cell_type": "code",
   "execution_count": 25,
   "metadata": {},
   "outputs": [
    {
     "name": "stderr",
     "output_type": "stream",
     "text": [
      "/u/as9rw/anaconda3/envs/phd/lib/python3.6/site-packages/tables/path.py:155: NaturalNameWarning: object name is not a valid Python identifier: 'equinix-nyc.dirA.20180621-132400.UTC.anon.hdf5'; it does not match the pattern ``^[a-zA-Z_][a-zA-Z0-9_]*$``; you will not be able to use natural naming to access this object; using ``getattr()`` will still work, though\n",
      "  check_attribute_name(name)\n",
      "/u/as9rw/anaconda3/envs/phd/lib/python3.6/site-packages/tables/path.py:155: NaturalNameWarning: object name is not a valid Python identifier: 'equinix-nyc.dirA.20180621-130500.UTC.anon.hdf5'; it does not match the pattern ``^[a-zA-Z_][a-zA-Z0-9_]*$``; you will not be able to use natural naming to access this object; using ``getattr()`` will still work, though\n",
      "  check_attribute_name(name)\n",
      "/u/as9rw/anaconda3/envs/phd/lib/python3.6/site-packages/tables/path.py:155: NaturalNameWarning: object name is not a valid Python identifier: 'equinix-nyc.dirA.20180621-134700.UTC.anon.hdf5'; it does not match the pattern ``^[a-zA-Z_][a-zA-Z0-9_]*$``; you will not be able to use natural naming to access this object; using ``getattr()`` will still work, though\n",
      "  check_attribute_name(name)\n",
      "/u/as9rw/anaconda3/envs/phd/lib/python3.6/site-packages/tables/path.py:155: NaturalNameWarning: object name is not a valid Python identifier: 'equinix-nyc.dirA.20180621-135900.UTC.anon.hdf5'; it does not match the pattern ``^[a-zA-Z_][a-zA-Z0-9_]*$``; you will not be able to use natural naming to access this object; using ``getattr()`` will still work, though\n",
      "  check_attribute_name(name)\n",
      "/u/as9rw/anaconda3/envs/phd/lib/python3.6/site-packages/tables/path.py:155: NaturalNameWarning: object name is not a valid Python identifier: 'equinix-nyc.dirA.20180621-131500.UTC.anon.hdf5'; it does not match the pattern ``^[a-zA-Z_][a-zA-Z0-9_]*$``; you will not be able to use natural naming to access this object; using ``getattr()`` will still work, though\n",
      "  check_attribute_name(name)\n",
      "/u/as9rw/anaconda3/envs/phd/lib/python3.6/site-packages/tables/path.py:155: NaturalNameWarning: object name is not a valid Python identifier: 'equinix-nyc.dirA.20180621-133400.UTC.anon.hdf5'; it does not match the pattern ``^[a-zA-Z_][a-zA-Z0-9_]*$``; you will not be able to use natural naming to access this object; using ``getattr()`` will still work, though\n",
      "  check_attribute_name(name)\n",
      "/u/as9rw/anaconda3/envs/phd/lib/python3.6/site-packages/tables/path.py:155: NaturalNameWarning: object name is not a valid Python identifier: 'equinix-nyc.dirA.20180621-134900.UTC.anon.hdf5'; it does not match the pattern ``^[a-zA-Z_][a-zA-Z0-9_]*$``; you will not be able to use natural naming to access this object; using ``getattr()`` will still work, though\n",
      "  check_attribute_name(name)\n",
      "/u/as9rw/anaconda3/envs/phd/lib/python3.6/site-packages/tables/path.py:155: NaturalNameWarning: object name is not a valid Python identifier: 'equinix-nyc.dirA.20180621-135700.UTC.anon.hdf5'; it does not match the pattern ``^[a-zA-Z_][a-zA-Z0-9_]*$``; you will not be able to use natural naming to access this object; using ``getattr()`` will still work, though\n",
      "  check_attribute_name(name)\n",
      "/u/as9rw/anaconda3/envs/phd/lib/python3.6/site-packages/tables/path.py:155: NaturalNameWarning: object name is not a valid Python identifier: 'equinix-nyc.dirA.20180621-135800.UTC.anon.hdf5'; it does not match the pattern ``^[a-zA-Z_][a-zA-Z0-9_]*$``; you will not be able to use natural naming to access this object; using ``getattr()`` will still work, though\n",
      "  check_attribute_name(name)\n",
      "/u/as9rw/anaconda3/envs/phd/lib/python3.6/site-packages/tables/path.py:155: NaturalNameWarning: object name is not a valid Python identifier: 'equinix-nyc.dirA.20180621-134600.UTC.anon.hdf5'; it does not match the pattern ``^[a-zA-Z_][a-zA-Z0-9_]*$``; you will not be able to use natural naming to access this object; using ``getattr()`` will still work, though\n",
      "  check_attribute_name(name)\n",
      "/u/as9rw/anaconda3/envs/phd/lib/python3.6/site-packages/tables/path.py:155: NaturalNameWarning: object name is not a valid Python identifier: 'equinix-nyc.dirA.20180621-130400.UTC.anon.hdf5'; it does not match the pattern ``^[a-zA-Z_][a-zA-Z0-9_]*$``; you will not be able to use natural naming to access this object; using ``getattr()`` will still work, though\n",
      "  check_attribute_name(name)\n",
      "/u/as9rw/anaconda3/envs/phd/lib/python3.6/site-packages/tables/path.py:155: NaturalNameWarning: object name is not a valid Python identifier: 'equinix-nyc.dirA.20180621-132500.UTC.anon.hdf5'; it does not match the pattern ``^[a-zA-Z_][a-zA-Z0-9_]*$``; you will not be able to use natural naming to access this object; using ``getattr()`` will still work, though\n",
      "  check_attribute_name(name)\n",
      "/u/as9rw/anaconda3/envs/phd/lib/python3.6/site-packages/tables/path.py:155: NaturalNameWarning: object name is not a valid Python identifier: 'equinix-nyc.dirA.20180621-135600.UTC.anon.hdf5'; it does not match the pattern ``^[a-zA-Z_][a-zA-Z0-9_]*$``; you will not be able to use natural naming to access this object; using ``getattr()`` will still work, though\n",
      "  check_attribute_name(name)\n",
      "/u/as9rw/anaconda3/envs/phd/lib/python3.6/site-packages/tables/path.py:155: NaturalNameWarning: object name is not a valid Python identifier: 'equinix-nyc.dirA.20180621-134800.UTC.anon.hdf5'; it does not match the pattern ``^[a-zA-Z_][a-zA-Z0-9_]*$``; you will not be able to use natural naming to access this object; using ``getattr()`` will still work, though\n",
      "  check_attribute_name(name)\n",
      "/u/as9rw/anaconda3/envs/phd/lib/python3.6/site-packages/tables/path.py:155: NaturalNameWarning: object name is not a valid Python identifier: 'equinix-nyc.dirA.20180621-133500.UTC.anon.hdf5'; it does not match the pattern ``^[a-zA-Z_][a-zA-Z0-9_]*$``; you will not be able to use natural naming to access this object; using ``getattr()`` will still work, though\n",
      "  check_attribute_name(name)\n",
      "/u/as9rw/anaconda3/envs/phd/lib/python3.6/site-packages/tables/path.py:155: NaturalNameWarning: object name is not a valid Python identifier: 'equinix-nyc.dirA.20180621-131400.UTC.anon.hdf5'; it does not match the pattern ``^[a-zA-Z_][a-zA-Z0-9_]*$``; you will not be able to use natural naming to access this object; using ``getattr()`` will still work, though\n",
      "  check_attribute_name(name)\n",
      "/u/as9rw/anaconda3/envs/phd/lib/python3.6/site-packages/tables/path.py:155: NaturalNameWarning: object name is not a valid Python identifier: 'equinix-nyc.dirA.20180621-135500.UTC.anon.hdf5'; it does not match the pattern ``^[a-zA-Z_][a-zA-Z0-9_]*$``; you will not be able to use natural naming to access this object; using ``getattr()`` will still work, though\n",
      "  check_attribute_name(name)\n",
      "/u/as9rw/anaconda3/envs/phd/lib/python3.6/site-packages/tables/path.py:155: NaturalNameWarning: object name is not a valid Python identifier: 'equinix-nyc.dirA.20180621-132800.UTC.anon.hdf5'; it does not match the pattern ``^[a-zA-Z_][a-zA-Z0-9_]*$``; you will not be able to use natural naming to access this object; using ``getattr()`` will still work, though\n",
      "  check_attribute_name(name)\n",
      "/u/as9rw/anaconda3/envs/phd/lib/python3.6/site-packages/tables/path.py:155: NaturalNameWarning: object name is not a valid Python identifier: 'equinix-nyc.dirA.20180621-131700.UTC.anon.hdf5'; it does not match the pattern ``^[a-zA-Z_][a-zA-Z0-9_]*$``; you will not be able to use natural naming to access this object; using ``getattr()`` will still work, though\n",
      "  check_attribute_name(name)\n",
      "/u/as9rw/anaconda3/envs/phd/lib/python3.6/site-packages/tables/path.py:155: NaturalNameWarning: object name is not a valid Python identifier: 'equinix-nyc.dirA.20180621-133600.UTC.anon.hdf5'; it does not match the pattern ``^[a-zA-Z_][a-zA-Z0-9_]*$``; you will not be able to use natural naming to access this object; using ``getattr()`` will still work, though\n",
      "  check_attribute_name(name)\n",
      "/u/as9rw/anaconda3/envs/phd/lib/python3.6/site-packages/tables/path.py:155: NaturalNameWarning: object name is not a valid Python identifier: 'equinix-nyc.dirA.20180621-130900.UTC.anon.hdf5'; it does not match the pattern ``^[a-zA-Z_][a-zA-Z0-9_]*$``; you will not be able to use natural naming to access this object; using ``getattr()`` will still work, though\n",
      "  check_attribute_name(name)\n"
     ]
    },
    {
     "name": "stderr",
     "output_type": "stream",
     "text": [
      "/u/as9rw/anaconda3/envs/phd/lib/python3.6/site-packages/tables/path.py:155: NaturalNameWarning: object name is not a valid Python identifier: 'equinix-nyc.dirA.20180621-134500.UTC.anon.hdf5'; it does not match the pattern ``^[a-zA-Z_][a-zA-Z0-9_]*$``; you will not be able to use natural naming to access this object; using ``getattr()`` will still work, though\n",
      "  check_attribute_name(name)\n",
      "/u/as9rw/anaconda3/envs/phd/lib/python3.6/site-packages/tables/path.py:155: NaturalNameWarning: object name is not a valid Python identifier: 'equinix-nyc.dirA.20180621-132600.UTC.anon.hdf5'; it does not match the pattern ``^[a-zA-Z_][a-zA-Z0-9_]*$``; you will not be able to use natural naming to access this object; using ``getattr()`` will still work, though\n",
      "  check_attribute_name(name)\n",
      "/u/as9rw/anaconda3/envs/phd/lib/python3.6/site-packages/tables/path.py:155: NaturalNameWarning: object name is not a valid Python identifier: 'equinix-nyc.dirA.20180621-131900.UTC.anon.hdf5'; it does not match the pattern ``^[a-zA-Z_][a-zA-Z0-9_]*$``; you will not be able to use natural naming to access this object; using ``getattr()`` will still work, though\n",
      "  check_attribute_name(name)\n",
      "/u/as9rw/anaconda3/envs/phd/lib/python3.6/site-packages/tables/path.py:155: NaturalNameWarning: object name is not a valid Python identifier: 'equinix-nyc.dirA.20180621-133800.UTC.anon.hdf5'; it does not match the pattern ``^[a-zA-Z_][a-zA-Z0-9_]*$``; you will not be able to use natural naming to access this object; using ``getattr()`` will still work, though\n",
      "  check_attribute_name(name)\n",
      "/u/as9rw/anaconda3/envs/phd/lib/python3.6/site-packages/tables/path.py:155: NaturalNameWarning: object name is not a valid Python identifier: 'equinix-nyc.dirA.20180621-130700.UTC.anon.hdf5'; it does not match the pattern ``^[a-zA-Z_][a-zA-Z0-9_]*$``; you will not be able to use natural naming to access this object; using ``getattr()`` will still work, though\n",
      "  check_attribute_name(name)\n",
      "/u/as9rw/anaconda3/envs/phd/lib/python3.6/site-packages/tables/path.py:155: NaturalNameWarning: object name is not a valid Python identifier: 'equinix-nyc.dirA.20180621-133700.UTC.anon.hdf5'; it does not match the pattern ``^[a-zA-Z_][a-zA-Z0-9_]*$``; you will not be able to use natural naming to access this object; using ``getattr()`` will still work, though\n",
      "  check_attribute_name(name)\n",
      "/u/as9rw/anaconda3/envs/phd/lib/python3.6/site-packages/tables/path.py:155: NaturalNameWarning: object name is not a valid Python identifier: 'equinix-nyc.dirA.20180621-130800.UTC.anon.hdf5'; it does not match the pattern ``^[a-zA-Z_][a-zA-Z0-9_]*$``; you will not be able to use natural naming to access this object; using ``getattr()`` will still work, though\n",
      "  check_attribute_name(name)\n",
      "/u/as9rw/anaconda3/envs/phd/lib/python3.6/site-packages/tables/path.py:155: NaturalNameWarning: object name is not a valid Python identifier: 'equinix-nyc.dirA.20180621-132900.UTC.anon.hdf5'; it does not match the pattern ``^[a-zA-Z_][a-zA-Z0-9_]*$``; you will not be able to use natural naming to access this object; using ``getattr()`` will still work, though\n",
      "  check_attribute_name(name)\n",
      "/u/as9rw/anaconda3/envs/phd/lib/python3.6/site-packages/tables/path.py:155: NaturalNameWarning: object name is not a valid Python identifier: 'equinix-nyc.dirA.20180621-131600.UTC.anon.hdf5'; it does not match the pattern ``^[a-zA-Z_][a-zA-Z0-9_]*$``; you will not be able to use natural naming to access this object; using ``getattr()`` will still work, though\n",
      "  check_attribute_name(name)\n",
      "/u/as9rw/anaconda3/envs/phd/lib/python3.6/site-packages/tables/path.py:155: NaturalNameWarning: object name is not a valid Python identifier: 'equinix-nyc.dirA.20180621-135400.UTC.anon.hdf5'; it does not match the pattern ``^[a-zA-Z_][a-zA-Z0-9_]*$``; you will not be able to use natural naming to access this object; using ``getattr()`` will still work, though\n",
      "  check_attribute_name(name)\n",
      "/u/as9rw/anaconda3/envs/phd/lib/python3.6/site-packages/tables/path.py:155: NaturalNameWarning: object name is not a valid Python identifier: 'equinix-nyc.dirA.20180621-133900.UTC.anon.hdf5'; it does not match the pattern ``^[a-zA-Z_][a-zA-Z0-9_]*$``; you will not be able to use natural naming to access this object; using ``getattr()`` will still work, though\n",
      "  check_attribute_name(name)\n",
      "/u/as9rw/anaconda3/envs/phd/lib/python3.6/site-packages/tables/path.py:155: NaturalNameWarning: object name is not a valid Python identifier: 'equinix-nyc.dirA.20180621-130600.UTC.anon.hdf5'; it does not match the pattern ``^[a-zA-Z_][a-zA-Z0-9_]*$``; you will not be able to use natural naming to access this object; using ``getattr()`` will still work, though\n",
      "  check_attribute_name(name)\n",
      "/u/as9rw/anaconda3/envs/phd/lib/python3.6/site-packages/tables/path.py:155: NaturalNameWarning: object name is not a valid Python identifier: 'equinix-nyc.dirA.20180621-132700.UTC.anon.hdf5'; it does not match the pattern ``^[a-zA-Z_][a-zA-Z0-9_]*$``; you will not be able to use natural naming to access this object; using ``getattr()`` will still work, though\n",
      "  check_attribute_name(name)\n",
      "/u/as9rw/anaconda3/envs/phd/lib/python3.6/site-packages/tables/path.py:155: NaturalNameWarning: object name is not a valid Python identifier: 'equinix-nyc.dirA.20180621-131800.UTC.anon.hdf5'; it does not match the pattern ``^[a-zA-Z_][a-zA-Z0-9_]*$``; you will not be able to use natural naming to access this object; using ``getattr()`` will still work, though\n",
      "  check_attribute_name(name)\n",
      "/u/as9rw/anaconda3/envs/phd/lib/python3.6/site-packages/tables/path.py:155: NaturalNameWarning: object name is not a valid Python identifier: 'equinix-nyc.dirA.20180621-134400.UTC.anon.hdf5'; it does not match the pattern ``^[a-zA-Z_][a-zA-Z0-9_]*$``; you will not be able to use natural naming to access this object; using ``getattr()`` will still work, though\n",
      "  check_attribute_name(name)\n",
      "/u/as9rw/anaconda3/envs/phd/lib/python3.6/site-packages/tables/path.py:155: NaturalNameWarning: object name is not a valid Python identifier: 'equinix-nyc.dirA.20180621-135200.UTC.anon.hdf5'; it does not match the pattern ``^[a-zA-Z_][a-zA-Z0-9_]*$``; you will not be able to use natural naming to access this object; using ``getattr()`` will still work, though\n",
      "  check_attribute_name(name)\n",
      "/u/as9rw/anaconda3/envs/phd/lib/python3.6/site-packages/tables/path.py:155: NaturalNameWarning: object name is not a valid Python identifier: 'equinix-nyc.dirA.20180621-131000.UTC.anon.hdf5'; it does not match the pattern ``^[a-zA-Z_][a-zA-Z0-9_]*$``; you will not be able to use natural naming to access this object; using ``getattr()`` will still work, though\n",
      "  check_attribute_name(name)\n",
      "/u/as9rw/anaconda3/envs/phd/lib/python3.6/site-packages/tables/path.py:155: NaturalNameWarning: object name is not a valid Python identifier: 'equinix-nyc.dirA.20180621-133100.UTC.anon.hdf5'; it does not match the pattern ``^[a-zA-Z_][a-zA-Z0-9_]*$``; you will not be able to use natural naming to access this object; using ``getattr()`` will still work, though\n",
      "  check_attribute_name(name)\n",
      "/u/as9rw/anaconda3/envs/phd/lib/python3.6/site-packages/tables/path.py:155: NaturalNameWarning: object name is not a valid Python identifier: 'equinix-nyc.dirA.20180621-134200.UTC.anon.hdf5'; it does not match the pattern ``^[a-zA-Z_][a-zA-Z0-9_]*$``; you will not be able to use natural naming to access this object; using ``getattr()`` will still work, though\n",
      "  check_attribute_name(name)\n",
      "/u/as9rw/anaconda3/envs/phd/lib/python3.6/site-packages/tables/path.py:155: NaturalNameWarning: object name is not a valid Python identifier: 'equinix-nyc.dirA.20180621-132100.UTC.anon.hdf5'; it does not match the pattern ``^[a-zA-Z_][a-zA-Z0-9_]*$``; you will not be able to use natural naming to access this object; using ``getattr()`` will still work, though\n",
      "  check_attribute_name(name)\n",
      "/u/as9rw/anaconda3/envs/phd/lib/python3.6/site-packages/tables/path.py:155: NaturalNameWarning: object name is not a valid Python identifier: 'equinix-nyc.dirA.20180621-130000.UTC.anon.hdf5'; it does not match the pattern ``^[a-zA-Z_][a-zA-Z0-9_]*$``; you will not be able to use natural naming to access this object; using ``getattr()`` will still work, though\n",
      "  check_attribute_name(name)\n"
     ]
    },
    {
     "name": "stderr",
     "output_type": "stream",
     "text": [
      "/u/as9rw/anaconda3/envs/phd/lib/python3.6/site-packages/tables/path.py:155: NaturalNameWarning: object name is not a valid Python identifier: 'equinix-nyc.dirA.20180621-133000.UTC.anon.hdf5'; it does not match the pattern ``^[a-zA-Z_][a-zA-Z0-9_]*$``; you will not be able to use natural naming to access this object; using ``getattr()`` will still work, though\n",
      "  check_attribute_name(name)\n",
      "/u/as9rw/anaconda3/envs/phd/lib/python3.6/site-packages/tables/path.py:155: NaturalNameWarning: object name is not a valid Python identifier: 'equinix-nyc.dirA.20180621-131100.UTC.anon.hdf5'; it does not match the pattern ``^[a-zA-Z_][a-zA-Z0-9_]*$``; you will not be able to use natural naming to access this object; using ``getattr()`` will still work, though\n",
      "  check_attribute_name(name)\n",
      "/u/as9rw/anaconda3/envs/phd/lib/python3.6/site-packages/tables/path.py:155: NaturalNameWarning: object name is not a valid Python identifier: 'equinix-nyc.dirA.20180621-135300.UTC.anon.hdf5'; it does not match the pattern ``^[a-zA-Z_][a-zA-Z0-9_]*$``; you will not be able to use natural naming to access this object; using ``getattr()`` will still work, though\n",
      "  check_attribute_name(name)\n",
      "/u/as9rw/anaconda3/envs/phd/lib/python3.6/site-packages/tables/path.py:155: NaturalNameWarning: object name is not a valid Python identifier: 'equinix-nyc.dirA.20180621-130100.UTC.anon.hdf5'; it does not match the pattern ``^[a-zA-Z_][a-zA-Z0-9_]*$``; you will not be able to use natural naming to access this object; using ``getattr()`` will still work, though\n",
      "  check_attribute_name(name)\n",
      "/u/as9rw/anaconda3/envs/phd/lib/python3.6/site-packages/tables/path.py:155: NaturalNameWarning: object name is not a valid Python identifier: 'equinix-nyc.dirA.20180621-132000.UTC.anon.hdf5'; it does not match the pattern ``^[a-zA-Z_][a-zA-Z0-9_]*$``; you will not be able to use natural naming to access this object; using ``getattr()`` will still work, though\n",
      "  check_attribute_name(name)\n",
      "/u/as9rw/anaconda3/envs/phd/lib/python3.6/site-packages/tables/path.py:155: NaturalNameWarning: object name is not a valid Python identifier: 'equinix-nyc.dirA.20180621-134300.UTC.anon.hdf5'; it does not match the pattern ``^[a-zA-Z_][a-zA-Z0-9_]*$``; you will not be able to use natural naming to access this object; using ``getattr()`` will still work, though\n",
      "  check_attribute_name(name)\n",
      "/u/as9rw/anaconda3/envs/phd/lib/python3.6/site-packages/tables/path.py:155: NaturalNameWarning: object name is not a valid Python identifier: 'equinix-nyc.dirA.20180621-132300.UTC.anon.hdf5'; it does not match the pattern ``^[a-zA-Z_][a-zA-Z0-9_]*$``; you will not be able to use natural naming to access this object; using ``getattr()`` will still work, though\n",
      "  check_attribute_name(name)\n",
      "/u/as9rw/anaconda3/envs/phd/lib/python3.6/site-packages/tables/path.py:155: NaturalNameWarning: object name is not a valid Python identifier: 'equinix-nyc.dirA.20180621-130200.UTC.anon.hdf5'; it does not match the pattern ``^[a-zA-Z_][a-zA-Z0-9_]*$``; you will not be able to use natural naming to access this object; using ``getattr()`` will still work, though\n",
      "  check_attribute_name(name)\n",
      "/u/as9rw/anaconda3/envs/phd/lib/python3.6/site-packages/tables/path.py:155: NaturalNameWarning: object name is not a valid Python identifier: 'equinix-nyc.dirA.20180621-134000.UTC.anon.hdf5'; it does not match the pattern ``^[a-zA-Z_][a-zA-Z0-9_]*$``; you will not be able to use natural naming to access this object; using ``getattr()`` will still work, though\n",
      "  check_attribute_name(name)\n",
      "/u/as9rw/anaconda3/envs/phd/lib/python3.6/site-packages/tables/path.py:155: NaturalNameWarning: object name is not a valid Python identifier: 'equinix-nyc.dirA.20180621-131200.UTC.anon.hdf5'; it does not match the pattern ``^[a-zA-Z_][a-zA-Z0-9_]*$``; you will not be able to use natural naming to access this object; using ``getattr()`` will still work, though\n",
      "  check_attribute_name(name)\n",
      "/u/as9rw/anaconda3/envs/phd/lib/python3.6/site-packages/tables/path.py:155: NaturalNameWarning: object name is not a valid Python identifier: 'equinix-nyc.dirA.20180621-133300.UTC.anon.hdf5'; it does not match the pattern ``^[a-zA-Z_][a-zA-Z0-9_]*$``; you will not be able to use natural naming to access this object; using ``getattr()`` will still work, though\n",
      "  check_attribute_name(name)\n",
      "/u/as9rw/anaconda3/envs/phd/lib/python3.6/site-packages/tables/path.py:155: NaturalNameWarning: object name is not a valid Python identifier: 'equinix-nyc.dirA.20180621-135000.UTC.anon.hdf5'; it does not match the pattern ``^[a-zA-Z_][a-zA-Z0-9_]*$``; you will not be able to use natural naming to access this object; using ``getattr()`` will still work, though\n",
      "  check_attribute_name(name)\n",
      "/u/as9rw/anaconda3/envs/phd/lib/python3.6/site-packages/tables/path.py:155: NaturalNameWarning: object name is not a valid Python identifier: 'equinix-nyc.dirA.20180621-134100.UTC.anon.hdf5'; it does not match the pattern ``^[a-zA-Z_][a-zA-Z0-9_]*$``; you will not be able to use natural naming to access this object; using ``getattr()`` will still work, though\n",
      "  check_attribute_name(name)\n",
      "/u/as9rw/anaconda3/envs/phd/lib/python3.6/site-packages/tables/path.py:155: NaturalNameWarning: object name is not a valid Python identifier: 'equinix-nyc.dirA.20180621-130300.UTC.anon.hdf5'; it does not match the pattern ``^[a-zA-Z_][a-zA-Z0-9_]*$``; you will not be able to use natural naming to access this object; using ``getattr()`` will still work, though\n",
      "  check_attribute_name(name)\n",
      "/u/as9rw/anaconda3/envs/phd/lib/python3.6/site-packages/tables/path.py:155: NaturalNameWarning: object name is not a valid Python identifier: 'equinix-nyc.dirA.20180621-140000.UTC.anon.hdf5'; it does not match the pattern ``^[a-zA-Z_][a-zA-Z0-9_]*$``; you will not be able to use natural naming to access this object; using ``getattr()`` will still work, though\n",
      "  check_attribute_name(name)\n",
      "/u/as9rw/anaconda3/envs/phd/lib/python3.6/site-packages/tables/path.py:155: NaturalNameWarning: object name is not a valid Python identifier: 'equinix-nyc.dirA.20180621-132200.UTC.anon.hdf5'; it does not match the pattern ``^[a-zA-Z_][a-zA-Z0-9_]*$``; you will not be able to use natural naming to access this object; using ``getattr()`` will still work, though\n",
      "  check_attribute_name(name)\n",
      "/u/as9rw/anaconda3/envs/phd/lib/python3.6/site-packages/tables/path.py:155: NaturalNameWarning: object name is not a valid Python identifier: 'equinix-nyc.dirA.20180621-135100.UTC.anon.hdf5'; it does not match the pattern ``^[a-zA-Z_][a-zA-Z0-9_]*$``; you will not be able to use natural naming to access this object; using ``getattr()`` will still work, though\n",
      "  check_attribute_name(name)\n",
      "/u/as9rw/anaconda3/envs/phd/lib/python3.6/site-packages/tables/path.py:155: NaturalNameWarning: object name is not a valid Python identifier: 'equinix-nyc.dirA.20180621-133200.UTC.anon.hdf5'; it does not match the pattern ``^[a-zA-Z_][a-zA-Z0-9_]*$``; you will not be able to use natural naming to access this object; using ``getattr()`` will still work, though\n",
      "  check_attribute_name(name)\n",
      "/u/as9rw/anaconda3/envs/phd/lib/python3.6/site-packages/tables/path.py:155: NaturalNameWarning: object name is not a valid Python identifier: 'equinix-nyc.dirA.20180621-131300.UTC.anon.hdf5'; it does not match the pattern ``^[a-zA-Z_][a-zA-Z0-9_]*$``; you will not be able to use natural naming to access this object; using ``getattr()`` will still work, though\n",
      "  check_attribute_name(name)\n"
     ]
    }
   ],
   "source": [
    "dd.io.save(prefix + \"all_graphs_jun.hdf5\", graphs_to_save)"
   ]
  },
  {
   "cell_type": "code",
   "execution_count": null,
   "metadata": {},
   "outputs": [],
   "source": [
    "# Save july\n",
    "graphs_to_save = {}\n",
    "\n",
    "i = 0\n",
    "for file in tqdm(os.listdir(prefix)):\n",
    "    if file.startswith(\"equinix-nyc.dirA.20180719-1\") and file.endswith(\".hdf5\"):\n",
    "        graphs_to_save[file] = graphs_jul[i]\n",
    "        i += 1\n",
    "\n",
    "assert i == len(graphs_jul)"
   ]
  },
  {
   "cell_type": "code",
   "execution_count": null,
   "metadata": {},
   "outputs": [],
   "source": [
    "dd.io.save(prefix + \"all_graphs_jul.hdf5\", graphs_to_save)"
   ]
  },
  {
   "cell_type": "code",
   "execution_count": null,
   "metadata": {},
   "outputs": [],
   "source": [
    "# Save august\n",
    "graphs_to_save = {}\n",
    "\n",
    "i = 0\n",
    "for file in tqdm(os.listdir(prefix)):\n",
    "    if file.startswith(\"equinix-nyc.dirA.20180816-1\") and file.endswith(\".hdf5\"):\n",
    "        graphs_to_save[file] = graphs_aug[i]\n",
    "        i += 1\n",
    "\n",
    "assert i == len(graphs_aug)"
   ]
  },
  {
   "cell_type": "code",
   "execution_count": null,
   "metadata": {},
   "outputs": [],
   "source": [
    "dd.io.save(prefix + \"all_graphs_aug.hdf5\", graphs_to_save)"
   ]
  },
  {
   "cell_type": "code",
   "execution_count": null,
   "metadata": {},
   "outputs": [],
   "source": [
    "# Save september\n",
    "graphs_to_save = {}\n",
    "\n",
    "i = 0\n",
    "for file in tqdm(os.listdir(prefix)):\n",
    "    if file.startswith(\"equinix-nyc.dirA.20180921-1\") and file.endswith(\".hdf5\"):\n",
    "        graphs_to_save[file] = graphs_sep[i]\n",
    "        i += 1\n",
    "\n",
    "assert i == len(graphs_sep)"
   ]
  },
  {
   "cell_type": "code",
   "execution_count": null,
   "metadata": {},
   "outputs": [],
   "source": [
    "dd.io.save(prefix + \"all_graphs_sep.hdf5\", graphs_to_save)"
   ]
  },
  {
   "cell_type": "markdown",
   "metadata": {},
   "source": [
    "## Open all hdf5 graphs, combine into one file"
   ]
  },
  {
   "cell_type": "code",
   "execution_count": null,
   "metadata": {},
   "outputs": [],
   "source": [
    "graphs_to_save = {}\n",
    "for file in tqdm(os.listdir(prefix)):\n",
    "    if file.endswith(\".hdf5\"):\n",
    "        graphs_to_save[file] = dd.io.load(os.path.join(prefix, file))"
   ]
  },
  {
   "cell_type": "code",
   "execution_count": null,
   "metadata": {},
   "outputs": [],
   "source": [
    "dd.io.save(prefix + \"all_graphs.hdf5\", graphs_to_save)"
   ]
  },
  {
   "cell_type": "code",
   "execution_count": null,
   "metadata": {},
   "outputs": [],
   "source": [
    "dd.io.load(prefix + \"all_graphs.hdf5\")"
   ]
  },
  {
   "cell_type": "code",
   "execution_count": null,
   "metadata": {},
   "outputs": [],
   "source": []
  },
  {
   "cell_type": "code",
   "execution_count": null,
   "metadata": {},
   "outputs": [],
   "source": [
    "graph_c = g.copy()"
   ]
  },
  {
   "cell_type": "code",
   "execution_count": null,
   "metadata": {},
   "outputs": [],
   "source": [
    "%%time\n",
    "\n",
    "modify_clustering_coefficient(graph_c, 0.005, verbose=False)"
   ]
  },
  {
   "cell_type": "code",
   "execution_count": null,
   "metadata": {},
   "outputs": [],
   "source": [
    "graph_c = g.copy()"
   ]
  },
  {
   "cell_type": "code",
   "execution_count": null,
   "metadata": {},
   "outputs": [],
   "source": [
    "%%time\n",
    "\n",
    "modify_clustering_coefficient(graph_c, 0.004, verbose=False)"
   ]
  },
  {
   "cell_type": "code",
   "execution_count": null,
   "metadata": {},
   "outputs": [],
   "source": [
    "%%time\n",
    "\n",
    "cc = nx.average_clustering(g)"
   ]
  },
  {
   "cell_type": "code",
   "execution_count": null,
   "metadata": {},
   "outputs": [],
   "source": [
    "%%time\n",
    "\n",
    "dmm = nx.algorithms.assortativity.degree_mixing_matrix(g)"
   ]
  },
  {
   "cell_type": "code",
   "execution_count": null,
   "metadata": {},
   "outputs": [],
   "source": [
    "%%time\n",
    "\n",
    "dmm = nx.algorithms.assortativity.degree_mixing_matrix(g)\n",
    "eigenvals = np.linalg.eigvals(dmm)\n",
    "\n",
    "mixing_rate = np.log(1/eigenvals[1])\n",
    "mixing_rate"
   ]
  },
  {
   "cell_type": "code",
   "execution_count": null,
   "metadata": {},
   "outputs": [],
   "source": []
  }
 ],
 "metadata": {
  "kernelspec": {
   "display_name": "phd",
   "language": "python",
   "name": "phd"
  },
  "language_info": {
   "codemirror_mode": {
    "name": "ipython",
    "version": 3
   },
   "file_extension": ".py",
   "mimetype": "text/x-python",
   "name": "python",
   "nbconvert_exporter": "python",
   "pygments_lexer": "ipython3",
   "version": "3.6.10"
  }
 },
 "nbformat": 4,
 "nbformat_minor": 4
}
