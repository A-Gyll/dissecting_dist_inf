{
 "cells": [
  {
   "cell_type": "code",
   "execution_count": null,
   "metadata": {},
   "outputs": [],
   "source": [
    "from data_utils import BotNetWrapper\n",
    "from model_utils import GCN, train_model, epoch\n",
    "\n",
    "import torch.nn as nn\n",
    "import torch.optim as optim\n",
    "import torch as ch\n",
    "from tqdm import tqdm\n",
    "import time\n",
    "import os\n",
    "import copy\n",
    "\n",
    "import dgl.function as fn\n",
    "from dgl.utils import expand_as_pair\n",
    "from torch.nn import init\n",
    "import time\n",
    "from livelossplot import PlotLosses"
   ]
  },
  {
   "cell_type": "code",
   "execution_count": null,
   "metadata": {},
   "outputs": [],
   "source": [
    "epochs = 60\n",
    "gpu = True"
   ]
  },
  {
   "cell_type": "code",
   "execution_count": null,
   "metadata": {},
   "outputs": [],
   "source": [
    "start = time.time()\n",
    "ds = BotNetWrapper(\"adv\", 1)\n",
    "end = time.time()\n",
    "print(\"Time taken to prepare data\", end - start)"
   ]
  },
  {
   "cell_type": "code",
   "execution_count": null,
   "metadata": {},
   "outputs": [],
   "source": [
    "print(len(ds.train_data))\n",
    "print(len(ds.test_data))"
   ]
  },
  {
   "cell_type": "code",
   "execution_count": null,
   "metadata": {},
   "outputs": [],
   "source": [
    "for g in ds.train_data:\n",
    "    print((g.number_of_edges() - g.number_of_nodes()) / (2 * g.number_of_nodes()))"
   ]
  },
  {
   "cell_type": "code",
   "execution_count": null,
   "metadata": {},
   "outputs": [],
   "source": [
    "batch_size = 2\n",
    "lr = 0.005\n",
    "\n",
    "train_loader, test_loader = ds.get_loaders(batch_size, shuffle=True)"
   ]
  },
  {
   "cell_type": "code",
   "execution_count": null,
   "metadata": {},
   "outputs": [],
   "source": [
    "model = GCN(n_inp=1, n_hidden=32, n_layers=6, dropout=0.0, residual=True)\n",
    "model = model.cuda()"
   ]
  },
  {
   "cell_type": "code",
   "execution_count": null,
   "metadata": {},
   "outputs": [],
   "source": [
    "optimizer = optim.Adam(model.parameters(), lr=lr)\n",
    "scheduler = optim.lr_scheduler.ReduceLROnPlateau(\n",
    "optimizer, mode='min', factor=0.25, patience=1)\n",
    "plotlosses = PlotLosses()\n",
    "\n",
    "iterator = range(epochs)\n",
    "start = time.time()\n",
    "for e in iterator:\n",
    "    # Train\n",
    "    model.train()\n",
    "    tr_loss, tr_f1 = epoch(model, train_loader, gpu, optimizer, verbose=False)\n",
    "\n",
    "    model.eval()\n",
    "    te_loss, te_f1 = epoch(model, test_loader, gpu, None, verbose=False)\n",
    "\n",
    "    # Scheduler step\n",
    "    scheduler.step(tr_loss)\n",
    "    \n",
    "    # Plot metrics\n",
    "    plotlosses.update({\n",
    "        'loss': tr_loss,\n",
    "        'val_loss': te_loss,\n",
    "        'f1': tr_f1,\n",
    "        'val_f1': te_f1\n",
    "    })\n",
    "    plotlosses.send()\n",
    "end = time.time()\n",
    "\n",
    "print(\"Took\", end-start, \"seconds\")"
   ]
  },
  {
   "cell_type": "code",
   "execution_count": null,
   "metadata": {},
   "outputs": [],
   "source": [
    "# bs=1: 483s\n",
    "# bs=2 : 218s    \n",
    "# bs=4 : 237s\n",
    "# bs=8: 197s (unstable)"
   ]
  }
 ],
 "metadata": {
  "kernelspec": {
   "display_name": "phd",
   "language": "python",
   "name": "phd"
  },
  "language_info": {
   "codemirror_mode": {
    "name": "ipython",
    "version": 3
   },
   "file_extension": ".py",
   "mimetype": "text/x-python",
   "name": "python",
   "nbconvert_exporter": "python",
   "pygments_lexer": "ipython3",
   "version": "3.6.10"
  }
 },
 "nbformat": 4,
 "nbformat_minor": 4
}
