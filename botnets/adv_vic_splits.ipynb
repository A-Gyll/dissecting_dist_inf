{
 "cells": [
  {
   "cell_type": "code",
   "execution_count": 1,
   "metadata": {},
   "outputs": [
    {
     "name": "stderr",
     "output_type": "stream",
     "text": [
      "Using backend: pytorch\n"
     ]
    }
   ],
   "source": [
    "from botdet.data.dataset_botnet import BotnetDataset\n",
    "from botdet.data.dataloader import GraphDataLoader\n",
    "import time\n",
    "import numpy as np\n",
    "from dgl.data.utils import save_graphs, load_graphs\n",
    "from torch.utils.data import DataLoader\n",
    "from data_utils import BotNetWrapper\n",
    "import dgl\n",
    "import os\n",
    "from tqdm import tqdm\n",
    "\n",
    "\n",
    "BASE_DATA_DIR = \"/p/adversarialml/as9rw/datasets/botnet\""
   ]
  },
  {
   "cell_type": "code",
   "execution_count": null,
   "metadata": {},
   "outputs": [],
   "source": [
    "# Custom dataloader to handle graphs our way\n",
    "\n",
    "class GraphDataLoader(DataLoader):\n",
    "    \"\"\"\n",
    "    Graph data loader, for a series of static graphs.\n",
    "    Args:\n",
    "        dataset (BotnetDataset): botnet graph dataset object\n",
    "        batch_size (int, optional): batch size\n",
    "        num_workers (int, optional): number of workers for multiple subprocesses\n",
    "    \"\"\"\n",
    "\n",
    "    def __init__(self, dataset, batch_size=1, shuffle=False, num_workers=0):\n",
    "\n",
    "        def collate_graph(graph_obj_list):\n",
    "            batch = dgl.batch(graph_obj_list)\n",
    "            return batch\n",
    "\n",
    "        super().__init__(\n",
    "            dataset,\n",
    "            batch_size=batch_size,\n",
    "            shuffle=shuffle,\n",
    "            collate_fn=collate_graph,\n",
    "            num_workers=num_workers)"
   ]
  },
  {
   "cell_type": "code",
   "execution_count": null,
   "metadata": {},
   "outputs": [],
   "source": [
    "dataset_name = \"chord\""
   ]
  },
  {
   "cell_type": "code",
   "execution_count": null,
   "metadata": {},
   "outputs": [],
   "source": [
    "start = time.time()\n",
    "botnet_dataset_test = BotnetDataset(\n",
    "    name=dataset_name, root=BASE_DATA_DIR,\n",
    "    add_nfeat_ones=True, in_memory=True,\n",
    "    split='test', graph_format='dgl')\n",
    "print(\"Loaded test data\")\n",
    "end = time.time()\n",
    "print(\"Load time for test data\", end - start)"
   ]
  },
  {
   "cell_type": "code",
   "execution_count": null,
   "metadata": {},
   "outputs": [],
   "source": [
    "start = time.time()\n",
    "botnet_dataset_val = BotnetDataset(\n",
    "    name=dataset_name, root=BASE_DATA_DIR,\n",
    "    add_nfeat_ones=True, in_memory=True,\n",
    "    split='val', graph_format='dgl')\n",
    "print(\"Loaded val data\")\n",
    "end = time.time()\n",
    "print(\"Load time for val data\", end - start)"
   ]
  },
  {
   "cell_type": "code",
   "execution_count": null,
   "metadata": {},
   "outputs": [],
   "source": [
    "start = time.time()\n",
    "botnet_dataset_train = BotnetDataset(\n",
    "    name=dataset_name, root=BASE_DATA_DIR,\n",
    "    add_nfeat_ones=True, in_memory=True,\n",
    "    split='train', graph_format='dgl')\n",
    "print(\"Loaded train data\")\n",
    "end = time.time()\n",
    "print(\"Load time for train data\", end - start)"
   ]
  },
  {
   "cell_type": "code",
   "execution_count": null,
   "metadata": {},
   "outputs": [],
   "source": [
    "victim_ratio = 0.7\n",
    "\n",
    "STORAGE_DIR_ADV = os.path.join(BASE_DATA_DIR, dataset_name, \"adv\")\n",
    "STORAGE_DIR_VICTIM = os.path.join(BASE_DATA_DIR, dataset_name, \"victim\")"
   ]
  },
  {
   "cell_type": "code",
   "execution_count": null,
   "metadata": {},
   "outputs": [],
   "source": [
    "train_perm = np.random.permutation(len(botnet_dataset_train))\n",
    "val_perm = np.random.permutation(len(botnet_dataset_val))\n",
    "test_perm = np.random.permutation(len(botnet_dataset_test))"
   ]
  },
  {
   "cell_type": "code",
   "execution_count": null,
   "metadata": {},
   "outputs": [],
   "source": [
    "victim_train = train_perm[:int(victim_ratio * len(botnet_dataset_train))]\n",
    "adv_train = train_perm[int(victim_ratio * len(botnet_dataset_train)):]\n",
    "\n",
    "victim_val = val_perm[:int(victim_ratio * len(botnet_dataset_val))]\n",
    "adv_val = val_perm[int(victim_ratio * len(botnet_dataset_val)):]\n",
    "\n",
    "victim_test = test_perm[:int(victim_ratio * len(botnet_dataset_test))]\n",
    "adv_test = test_perm[int(victim_ratio * len(botnet_dataset_test)):]"
   ]
  },
  {
   "cell_type": "code",
   "execution_count": null,
   "metadata": {},
   "outputs": [],
   "source": [
    "print(\"Adv: %d,%d,%d\" % (len(adv_train), len(adv_val), len(adv_test)))\n",
    "print(\"Victim: %d,%d,%d\" % (len(victim_train), len(victim_val), len(victim_test)))"
   ]
  },
  {
   "cell_type": "code",
   "execution_count": null,
   "metadata": {},
   "outputs": [],
   "source": [
    "%%time\n",
    "\n",
    "# Save test graphs for victim/adv\n",
    "test_victim_graphs = [botnet_dataset_val[i] for i in victim_val] + [botnet_dataset_test[i] for i in victim_test]\n",
    "test_adv_graphs = [botnet_dataset_val[i] for i in adv_val] + [botnet_dataset_test[i] for i in adv_test]\n",
    "\n",
    "print(\"adv:%d | victim:%d\" % (len(test_adv_graphs), len(test_victim_graphs)))\n",
    "\n",
    "save_graphs(os.path.join(STORAGE_DIR_VICTIM, \"test.bin\"), test_victim_graphs)\n",
    "save_graphs(os.path.join(STORAGE_DIR_ADV, \"test.bin\"), test_adv_graphs)"
   ]
  },
  {
   "cell_type": "code",
   "execution_count": null,
   "metadata": {},
   "outputs": [],
   "source": [
    "%%time\n",
    "\n",
    "# Save train graphs for victim/adv\n",
    "train_victim_graphs = [botnet_dataset_train[i] for i in victim_train]\n",
    "train_adv_graphs = [botnet_dataset_train[i] for i in adv_train]\n",
    "\n",
    "save_graphs(os.path.join(STORAGE_DIR_VICTIM, \"train.bin\"), [botnet_dataset_train[i] for i in victim_train])\n",
    "save_graphs(os.path.join(STORAGE_DIR_ADV, \"train.bin\"), [botnet_dataset_train[i] for i in adv_train])\n",
    "\n",
    "print(\"adv:%d | victim:%d\" % (len(train_adv_graphs), len(train_victim_graphs)))"
   ]
  },
  {
   "cell_type": "code",
   "execution_count": null,
   "metadata": {},
   "outputs": [],
   "source": [
    "%%time\n",
    "\n",
    "glist, _ = load_graphs(os.path.join(STORAGE_DIR_VICTIM, \"test.bin\"))\n",
    "gdl = GraphDataLoader(glist, 1)\n",
    "print(len(gdl))"
   ]
  },
  {
   "cell_type": "code",
   "execution_count": null,
   "metadata": {},
   "outputs": [],
   "source": [
    "%%time\n",
    "\n",
    "glist, _ = load_graphs(os.path.join(STORAGE_DIR_ADV, \"test.bin\"))\n",
    "gdl = GraphDataLoader(glist, 1)\n",
    "print(len(gdl))"
   ]
  },
  {
   "cell_type": "code",
   "execution_count": null,
   "metadata": {},
   "outputs": [],
   "source": [
    "%%time\n",
    "\n",
    "glist, _ = load_graphs(os.path.join(STORAGE_DIR_VICTIM, \"train.bin\"))\n",
    "gdl = GraphDataLoader(glist, 1)\n",
    "print(len(gdl))"
   ]
  },
  {
   "cell_type": "code",
   "execution_count": null,
   "metadata": {},
   "outputs": [],
   "source": [
    "%%time\n",
    "\n",
    "glist, _ = load_graphs(os.path.join(STORAGE_DIR_ADV, \"train.bin\"))\n",
    "gdl = GraphDataLoader(glist, 1)\n",
    "print(len(gdl))"
   ]
  },
  {
   "cell_type": "code",
   "execution_count": 3,
   "metadata": {},
   "outputs": [
    {
     "name": "stdout",
     "output_type": "stream",
     "text": [
      "CPU times: user 236 ms, sys: 7.56 s, total: 7.8 s\n",
      "Wall time: 7.8 s\n"
     ]
    }
   ],
   "source": [
    "%%time\n",
    "br = BotNetWrapper(\"adv\", fast=True)"
   ]
  },
  {
   "cell_type": "code",
   "execution_count": 4,
   "metadata": {},
   "outputs": [
    {
     "name": "stdout",
     "output_type": "stream",
     "text": [
      "CPU times: user 193 ms, sys: 7.77 s, total: 7.96 s\n",
      "Wall time: 8.07 s\n"
     ]
    }
   ],
   "source": [
    "%%time\n",
    "br = BotNetWrapper(\"adv\", fast=False)"
   ]
  },
  {
   "cell_type": "code",
   "execution_count": null,
   "metadata": {},
   "outputs": [],
   "source": []
  }
 ],
 "metadata": {
  "kernelspec": {
   "display_name": "phd",
   "language": "python",
   "name": "phd"
  },
  "language_info": {
   "codemirror_mode": {
    "name": "ipython",
    "version": 3
   },
   "file_extension": ".py",
   "mimetype": "text/x-python",
   "name": "python",
   "nbconvert_exporter": "python",
   "pygments_lexer": "ipython3",
   "version": "3.6.10"
  }
 },
 "nbformat": 4,
 "nbformat_minor": 4
}
