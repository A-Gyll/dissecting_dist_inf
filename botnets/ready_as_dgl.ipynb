{
 "cells": [
  {
   "cell_type": "code",
   "execution_count": 5,
   "metadata": {},
   "outputs": [],
   "source": [
    "from torch.utils.data import Dataset\n",
    "from botdet.data.dataloader import GraphDataLoader\n",
    "import deepdish as dd\n",
    "import matplotlib.pyplot as plt\n",
    "from tqdm import tqdm\n",
    "import os\n",
    "import torch as ch\n",
    "import random\n",
    "import numpy as np\n",
    "import dgl"
   ]
  },
  {
   "cell_type": "code",
   "execution_count": 2,
   "metadata": {},
   "outputs": [],
   "source": [
    "METADATA_FILE_PATH = \"coeffs.csv\"\n",
    "prefix = \"/localtmp/as9rw/datasets/botnet_temp/\""
   ]
  },
  {
   "cell_type": "code",
   "execution_count": 120,
   "metadata": {},
   "outputs": [],
   "source": [
    "# Load metadata file\n",
    "names, values = [], []\n",
    "nam_val_map = {}\n",
    "with open(METADATA_FILE_PATH, 'r') as f:\n",
    "    for line in f:\n",
    "        n, v = line.rstrip(\"\\n\").split(',')\n",
    "        names.append(\"/\" + n)\n",
    "        values.append(float(v))\n",
    "        nam_val_map[names[-1]] = values[-1]\n",
    "    names = np.array(names)\n",
    "    values = np.array(values)"
   ]
  },
  {
   "cell_type": "code",
   "execution_count": 121,
   "metadata": {},
   "outputs": [
    {
     "data": {
      "text/plain": [
       "(array([26., 29., 52., 87., 65., 62., 46., 57., 55.,  9.]),\n",
       " array([0.00334518, 0.00405657, 0.00476795, 0.00547934, 0.00619073,\n",
       "        0.00690211, 0.0076135 , 0.00832489, 0.00903627, 0.00974766,\n",
       "        0.01045905]),\n",
       " <a list of 10 Patch objects>)"
      ]
     },
     "execution_count": 121,
     "metadata": {},
     "output_type": "execute_result"
    },
    {
     "data": {
      "image/png": "[encoded data removed]",
      "text/plain": [
       "<Figure size 432x288 with 1 Axes>"
      ]
     },
     "metadata": {
      "needs_background": "light"
     },
     "output_type": "display_data"
    }
   ],
   "source": [
    "plt.hist(values)"
   ]
  },
  {
   "cell_type": "code",
   "execution_count": 122,
   "metadata": {},
   "outputs": [],
   "source": [
    "prefixes = list(set([x[:24] for x in names]))\n",
    "month_wise = [[] for _ in prefixes]\n",
    "month_innernames = [[] for _ in prefixes]\n",
    "for n, v in zip(names, values):\n",
    "    month_wise[prefixes.index(n[:24])].append(v)\n",
    "    month_innernames[prefixes.index(n[:24])].append(n)\n",
    "month_wise = np.array(month_wise)\n",
    "month_innernames = np.array(month_innernames)"
   ]
  },
  {
   "cell_type": "code",
   "execution_count": 125,
   "metadata": {},
   "outputs": [],
   "source": [
    "# Use first X% per month as victim ,remaining (100-X)% as adv\n",
    "sp = 40\n",
    "victim_names = np.concatenate([x[:sp] for x in month_innernames])\n",
    "adv_names = np.concatenate([x[sp:] for x in month_innernames])\n",
    "\n",
    "victim_vals = np.array([nam_val_map[x] for x in victim_names])\n",
    "adv_vals = np.array([nam_val_map[x] for x in adv_names])"
   ]
  },
  {
   "cell_type": "code",
   "execution_count": 126,
   "metadata": {},
   "outputs": [
    {
     "data": {
      "text/plain": [
       "(array([15., 22., 25., 67., 34., 43., 28., 27., 45., 14.]),\n",
       " array([0.00337397, 0.00405855, 0.00474312, 0.0054277 , 0.00611227,\n",
       "        0.00679685, 0.00748142, 0.008166  , 0.00885057, 0.00953515,\n",
       "        0.01021972]),\n",
       " <a list of 10 Patch objects>)"
      ]
     },
     "execution_count": 126,
     "metadata": {},
     "output_type": "execute_result"
    },
    {
     "data": {
      "image/png": "[encoded data removed]",
      "text/plain": [
       "<Figure size 432x288 with 1 Axes>"
      ]
     },
     "metadata": {
      "needs_background": "light"
     },
     "output_type": "display_data"
    }
   ],
   "source": [
    "plt.hist(victim_vals, bins=10)"
   ]
  },
  {
   "cell_type": "code",
   "execution_count": 62,
   "metadata": {},
   "outputs": [
    {
     "data": {
      "text/plain": [
       "(array([15., 22., 25., 67., 34., 43., 28., 27., 45., 14.]),\n",
       " array([0.00337397, 0.00405855, 0.00474312, 0.0054277 , 0.00611227,\n",
       "        0.00679685, 0.00748142, 0.008166  , 0.00885057, 0.00953515,\n",
       "        0.01021972]),\n",
       " <a list of 10 Patch objects>)"
      ]
     },
     "execution_count": 62,
     "metadata": {},
     "output_type": "execute_result"
    },
    {
     "data": {
      "image/png": "[encoded data removed]",
      "text/plain": [
       "<Figure size 432x288 with 1 Axes>"
      ]
     },
     "metadata": {
      "needs_background": "light"
     },
     "output_type": "display_data"
    }
   ],
   "source": [
    "plt.hist(victim, bins=10)"
   ]
  },
  {
   "cell_type": "code",
   "execution_count": 63,
   "metadata": {},
   "outputs": [
    {
     "data": {
      "text/plain": [
       "(array([12.,  6., 19., 24., 30., 17., 21., 18., 17.,  4.]),\n",
       " array([0.00334518, 0.00405657, 0.00476795, 0.00547934, 0.00619073,\n",
       "        0.00690211, 0.0076135 , 0.00832489, 0.00903627, 0.00974766,\n",
       "        0.01045905]),\n",
       " <a list of 10 Patch objects>)"
      ]
     },
     "execution_count": 63,
     "metadata": {},
     "output_type": "execute_result"
    },
    {
     "data": {
      "image/png": "[encoded data removed]",
      "text/plain": [
       "<Figure size 432x288 with 1 Axes>"
      ]
     },
     "metadata": {
      "needs_background": "light"
     },
     "output_type": "display_data"
    }
   ],
   "source": [
    "plt.hist(adv, bins=10)"
   ]
  },
  {
   "cell_type": "code",
   "execution_count": 167,
   "metadata": {},
   "outputs": [
    {
     "name": "stdout",
     "output_type": "stream",
     "text": [
      "78\n",
      "157\n"
     ]
    }
   ],
   "source": [
    "print(np.sum(adv <= 0.0066))\n",
    "print(np.sum(victim <= 0.0066))"
   ]
  },
  {
   "cell_type": "code",
   "execution_count": 168,
   "metadata": {},
   "outputs": [
    {
     "name": "stdout",
     "output_type": "stream",
     "text": [
      "74\n",
      "140\n"
     ]
    }
   ],
   "source": [
    "print(np.sum(adv > 0.0071))\n",
    "print(np.sum(victim > 0.0071))"
   ]
  },
  {
   "cell_type": "code",
   "execution_count": 169,
   "metadata": {},
   "outputs": [
    {
     "name": "stdout",
     "output_type": "stream",
     "text": [
      "16\n"
     ]
    }
   ],
   "source": [
    "# Keep track of wastage\n",
    "print(np.sum(np.logical_and(adv > 0.0066, adv < 0.0071)))\n",
    "print(np.sum(np.logical_and(victim > 0.0066, victim < 0.0071)))"
   ]
  },
  {
   "cell_type": "code",
   "execution_count": 44,
   "metadata": {},
   "outputs": [
    {
     "data": {
      "text/plain": [
       "[<matplotlib.lines.Line2D at 0x7fc177f0c908>]"
      ]
     },
     "execution_count": 44,
     "metadata": {},
     "output_type": "execute_result"
    },
    {
     "data": {
      "image/png": "[encoded data removed]",
      "text/plain": [
       "<Figure size 432x288 with 1 Axes>"
      ]
     },
     "metadata": {
      "needs_background": "light"
     },
     "output_type": "display_data"
    }
   ],
   "source": [
    "plt.plot(sorted(victim))"
   ]
  },
  {
   "cell_type": "code",
   "execution_count": 45,
   "metadata": {},
   "outputs": [
    {
     "data": {
      "text/plain": [
       "[<matplotlib.lines.Line2D at 0x7fc177e7a358>]"
      ]
     },
     "execution_count": 45,
     "metadata": {},
     "output_type": "execute_result"
    },
    {
     "data": {
      "image/png": "[encoded data removed]",
      "text/plain": [
       "<Figure size 432x288 with 1 Axes>"
      ]
     },
     "metadata": {
      "needs_background": "light"
     },
     "output_type": "display_data"
    }
   ],
   "source": [
    "plt.plot(sorted(adv))"
   ]
  },
  {
   "cell_type": "code",
   "execution_count": 29,
   "metadata": {},
   "outputs": [
    {
     "data": {
      "text/plain": [
       "[<matplotlib.lines.Line2D at 0x7fc17839e828>]"
      ]
     },
     "execution_count": 29,
     "metadata": {},
     "output_type": "execute_result"
    },
    {
     "data": {
      "image/png": "[encoded data removed]",
      "text/plain": [
       "<Figure size 432x288 with 1 Axes>"
      ]
     },
     "metadata": {
      "needs_background": "light"
     },
     "output_type": "display_data"
    }
   ],
   "source": [
    "plt.plot(sorted(np.concatenate(month_wise[3:])))"
   ]
  },
  {
   "cell_type": "code",
   "execution_count": 9,
   "metadata": {},
   "outputs": [
    {
     "data": {
      "text/plain": [
       "[<matplotlib.lines.Line2D at 0x7fc17865f208>]"
      ]
     },
     "execution_count": 9,
     "metadata": {},
     "output_type": "execute_result"
    },
    {
     "data": {
      "image/png": "[encoded data removed]",
      "text/plain": [
       "<Figure size 432x288 with 1 Axes>"
      ]
     },
     "metadata": {
      "needs_background": "light"
     },
     "output_type": "display_data"
    }
   ],
   "source": [
    "plt.plot(sorted(values))"
   ]
  },
  {
   "cell_type": "code",
   "execution_count": null,
   "metadata": {},
   "outputs": [],
   "source": [
    "graph_to_process = \"all_graphs_octnovdec.hdf5\""
   ]
  },
  {
   "cell_type": "code",
   "execution_count": null,
   "metadata": {},
   "outputs": [],
   "source": [
    "graphs = dd.io.load(os.path.join(prefix, graph_to_process))"
   ]
  },
  {
   "cell_type": "code",
   "execution_count": null,
   "metadata": {},
   "outputs": [],
   "source": [
    "def overlay_botnet_on_graph(graph, botnet_edges):\n",
    "    # select evil node randomly\n",
    "    evil_edges = np.array(botnet_edges).T\n",
    "    evil_original = list(\n",
    "        set(evil_edges[0, :].tolist()+evil_edges[1, :].tolist()))\n",
    "    num_evil = len(evil_original)\n",
    "    evil = random.sample(range(graph.number_of_nodes()), num_evil)\n",
    "\n",
    "    evil_dict = {evil_original[i]: evil[i] for i in range(num_evil)}\n",
    "    for row in range(evil_edges.shape[0]):\n",
    "        for col in range(evil_edges.shape[1]):\n",
    "            evil_edges[row, col] = evil_dict[evil_edges[row, col]]\n",
    "\n",
    "    return evil_edges, evil"
   ]
  },
  {
   "cell_type": "code",
   "execution_count": null,
   "metadata": {},
   "outputs": [],
   "source": [
    "def chord(num_node, num_edge, interval):\n",
    "    edge = [[i % num_node, (i+1) % num_node]for i in range(num_node)]\n",
    "\n",
    "    fingers = [x for x in range(0, num_node, interval)]\n",
    "    for (i, finger) in enumerate(fingers):\n",
    "        for j in range(i+1, len(fingers)):\n",
    "            edge.append([finger, fingers[j]])\n",
    "\n",
    "    edge_select = random.sample(edge, num_edge)\n",
    "    return np.array(edge_select)"
   ]
  },
  {
   "cell_type": "code",
   "execution_count": null,
   "metadata": {},
   "outputs": [],
   "source": [
    "def generate_botnet_graph(graph, num_node, num_edge, interval):\n",
    "    # Generate botnet edges\n",
    "    botnet_edges = chord(num_node, num_edge, interval)\n",
    "\n",
    "    # Overlay botnets on graph\n",
    "    evil_edges, evil = overlay_botnet_on_graph(graph, botnet_edges)\n",
    "    graph.add_edges_from(evil_edges.T)\n",
    "\n",
    "    # Create node labels\n",
    "    y = np.zeros(graph.number_of_nodes())\n",
    "    y[evil] = 1\n",
    "\n",
    "    return (graph, y)"
   ]
  },
  {
   "cell_type": "code",
   "execution_count": null,
   "metadata": {},
   "outputs": [],
   "source": [
    "processed_graphs = {}"
   ]
  },
  {
   "cell_type": "code",
   "execution_count": null,
   "metadata": {},
   "outputs": [],
   "source": [
    "def pre_process_graph(graph, num_node, num_edge, interval):\n",
    "\n",
    "    # Overlay botnet\n",
    "    graph, label = generate_botnet_graph(graph, num_node, num_edge, interval)\n",
    "\n",
    "    # Convert to DGL graph, assign features and labels\n",
    "    dg_graph = dgl.from_networkx(graph)\n",
    "\n",
    "    # Convert to undirected\n",
    "    dg_graph = dgl.to_bidirected(dg_graph)\n",
    "\n",
    "    # Add self loops\n",
    "    dg_graph = dgl.transform.add_self_loop(dg_graph)\n",
    "\n",
    "    # Add node features\n",
    "    features = ch.ones(dg_graph.num_nodes(), self.num_features,)\n",
    "    dg_graph.ndata['x'] = features\n",
    "\n",
    "    # Add labels\n",
    "    dg_graph.ndata['y'] = ch.from_numpy(label)\n",
    "\n",
    "    return dg_graph"
   ]
  },
  {
   "cell_type": "code",
   "execution_count": null,
   "metadata": {},
   "outputs": [],
   "source": [
    "b_size = 1000\n",
    "b_interval = 2"
   ]
  },
  {
   "cell_type": "code",
   "execution_count": null,
   "metadata": {},
   "outputs": [],
   "source": [
    "for n,g in tqdm(graphs.items()):\n",
    "    processed_graphs[n] = pre_process_graph(g, b_size, b_size, b_interval)"
   ]
  },
  {
   "cell_type": "code",
   "execution_count": null,
   "metadata": {},
   "outputs": [],
   "source": [
    "# Save back processed version of graphs (sans features)\n",
    "dd.io.save(os.path.join(prefix, \"dgl_octnovdec.hdf5\"), processed_graphs)"
   ]
  },
  {
   "cell_type": "markdown",
   "metadata": {},
   "source": [
    "### Load all graphs files from memory"
   ]
  },
  {
   "cell_type": "code",
   "execution_count": 127,
   "metadata": {},
   "outputs": [],
   "source": [
    "octnovdec = dd.io.load(os.path.join(prefix, \"dgl_octnovdec.hdf5\"))"
   ]
  },
  {
   "cell_type": "code",
   "execution_count": 128,
   "metadata": {},
   "outputs": [],
   "source": [
    "julaugsep = dd.io.load(os.path.join(prefix, \"dgl_julaugsep.hdf5\"))"
   ]
  },
  {
   "cell_type": "code",
   "execution_count": 129,
   "metadata": {},
   "outputs": [],
   "source": [
    "mayjune = dd.io.load(os.path.join(prefix, \"dgl_mayjune.hdf5\"))"
   ]
  },
  {
   "cell_type": "code",
   "execution_count": 130,
   "metadata": {},
   "outputs": [],
   "source": [
    "all_of_em = {**mayjune, **julaugsep, **octnovdec}"
   ]
  },
  {
   "cell_type": "code",
   "execution_count": 137,
   "metadata": {},
   "outputs": [],
   "source": [
    "# Get victim-chosen graphs\n",
    "victim_graphs = {x[1:]:all_of_em[x[1:]] for x in victim_names}\n",
    "# Get adv-chosen graphs\n",
    "adv_graphs = {x[1:]:all_of_em[x[1:]] for x in adv_names}\n",
    "len(victim_graphs) + len(adv_graphs) == len(all_of_em)"
   ]
  },
  {
   "cell_type": "code",
   "execution_count": 145,
   "metadata": {},
   "outputs": [],
   "source": [
    "# Save victim split\n",
    "dgl.save_graphs(os.path.join(prefix, \"dgl_victim.hdf5\"), list(victim_graphs.values()))\n",
    "# Save adv split\n",
    "dgl.save_graphs(os.path.join(prefix, \"dgl_adv.hdf5\"), list(adv_graphs.values()))"
   ]
  },
  {
   "cell_type": "code",
   "execution_count": 152,
   "metadata": {},
   "outputs": [],
   "source": [
    "# Save names of graphs (and their corresponding coefficient values)\n",
    "names_victim = list(victim_graphs.keys())\n",
    "names_adv = list(adv_graphs.keys())"
   ]
  },
  {
   "cell_type": "code",
   "execution_count": 156,
   "metadata": {},
   "outputs": [],
   "source": [
    "def write_to_file(content, name):\n",
    "    with open(name, 'w') as f:\n",
    "        for c in content:\n",
    "            f.write(c + \",\" + str(nam_val_map[\"/\" + c]) + \"\\n\")"
   ]
  },
  {
   "cell_type": "code",
   "execution_count": 158,
   "metadata": {},
   "outputs": [],
   "source": [
    "write_to_file(names_victim, \"./victim_info.txt\")\n",
    "write_to_file(names_adv, \"./adv_info.txt\")"
   ]
  },
  {
   "cell_type": "code",
   "execution_count": null,
   "metadata": {},
   "outputs": [],
   "source": []
  }
 ],
 "metadata": {
  "kernelspec": {
   "display_name": "phd",
   "language": "python",
   "name": "phd"
  },
  "language_info": {
   "codemirror_mode": {
    "name": "ipython",
    "version": 3
   },
   "file_extension": ".py",
   "mimetype": "text/x-python",
   "name": "python",
   "nbconvert_exporter": "python",
   "pygments_lexer": "ipython3",
   "version": "3.6.10"
  }
 },
 "nbformat": 4,
 "nbformat_minor": 4
}
