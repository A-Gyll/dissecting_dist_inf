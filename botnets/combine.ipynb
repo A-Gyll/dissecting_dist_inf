{
 "cells": [
  {
   "cell_type": "code",
   "execution_count": 4,
   "metadata": {},
   "outputs": [],
   "source": [
    "import dgl\n",
    "import numpy as np\n",
    "import os"
   ]
  },
  {
   "cell_type": "code",
   "execution_count": 2,
   "metadata": {},
   "outputs": [],
   "source": [
    "prefix = \"/localtmp/as9rw/datasets/botnet_temp\""
   ]
  },
  {
   "cell_type": "code",
   "execution_count": 3,
   "metadata": {},
   "outputs": [],
   "source": [
    "adv_graphs, _ = dgl.load_graphs(os.path.join(prefix, \"dgl_adv.hdf5\"))\n",
    "victim_graphs, _ = dgl.load_graphs(os.path.join(prefix, \"dgl_victim.hdf5\"))"
   ]
  },
  {
   "cell_type": "code",
   "execution_count": 50,
   "metadata": {},
   "outputs": [],
   "source": [
    "all_graphs = []\n",
    "for g in adv_graphs:\n",
    "    all_graphs.append(g)\n",
    "for g in victim_graphs:\n",
    "    all_graphs.append(g)"
   ]
  },
  {
   "cell_type": "code",
   "execution_count": 51,
   "metadata": {},
   "outputs": [
    {
     "data": {
      "text/plain": [
       "488"
      ]
     },
     "execution_count": 51,
     "metadata": {},
     "output_type": "execute_result"
    }
   ],
   "source": [
    "len(all_graphs)"
   ]
  },
  {
   "cell_type": "code",
   "execution_count": 8,
   "metadata": {},
   "outputs": [],
   "source": [
    "def get_em(filename):\n",
    "    names, values = [], []\n",
    "    with open(filename, 'r') as f:\n",
    "        for line in f:\n",
    "            n, v = line.rstrip(\"\\n\").split(',')\n",
    "            values.append(float(v))\n",
    "            names.append(n)\n",
    "        \n",
    "        names = np.array(names)\n",
    "        values = np.array(values)\n",
    "    return names, values"
   ]
  },
  {
   "cell_type": "code",
   "execution_count": 12,
   "metadata": {},
   "outputs": [],
   "source": [
    "adv_f = get_em(\"./adv_info.txt\")\n",
    "victim_f = get_em(\"./victim_info.txt\")"
   ]
  },
  {
   "cell_type": "code",
   "execution_count": 14,
   "metadata": {},
   "outputs": [],
   "source": [
    "# Combine all data together\n",
    "combined_names = np.concatenate((adv_f[0], victim_f[0]))"
   ]
  },
  {
   "cell_type": "code",
   "execution_count": 16,
   "metadata": {},
   "outputs": [],
   "source": [
    "combined_vals = np.concatenate((adv_f[1], victim_f[1]))"
   ]
  },
  {
   "cell_type": "code",
   "execution_count": 40,
   "metadata": {},
   "outputs": [
    {
     "name": "stdout",
     "output_type": "stream",
     "text": [
      "188\n",
      "190\n",
      "110\n"
     ]
    }
   ],
   "source": [
    "below_val = 0.0061\n",
    "above_val = 0.0074\n",
    "\n",
    "print(np.sum(combined_vals < below_val))\n",
    "print(np.sum(combined_vals > above_val))\n",
    "\n",
    "# Calculate wastage\n",
    "print(np.sum(np.logical_and(combined_vals >= below_val, combined_vals <= above_val)))"
   ]
  },
  {
   "cell_type": "code",
   "execution_count": 41,
   "metadata": {},
   "outputs": [
    {
     "name": "stdout",
     "output_type": "stream",
     "text": [
      "188 190\n"
     ]
    }
   ],
   "source": [
    "zero_ids = np.where(combined_vals < below_val)[0]\n",
    "one_ids = np.where(combined_vals > above_val)[0]\n",
    "\n",
    "# Shuffle things up first\n",
    "szero = np.random.permutation(zero_ids)\n",
    "sone = np.random.permutation(one_ids)\n",
    "\n",
    "print(len(szero), len(sone))\n",
    "\n",
    "# Make 50:50 victim/adv splits\n",
    "sp_z = int(0.5 * len(szero))\n",
    "sp_o = int(0.5 * len(sone))\n",
    "\n",
    "victim_z = szero[:sp_z]\n",
    "adv_z = szero[sp_z:]\n",
    "\n",
    "victim_o = sone[:sp_o]\n",
    "adv_o = sone[sp_o:]"
   ]
  },
  {
   "cell_type": "code",
   "execution_count": 57,
   "metadata": {},
   "outputs": [
    {
     "name": "stdout",
     "output_type": "stream",
     "text": [
      "94 95\n"
     ]
    }
   ],
   "source": [
    "print(len(victim_z), len(victim_o))"
   ]
  },
  {
   "cell_type": "code",
   "execution_count": 58,
   "metadata": {},
   "outputs": [
    {
     "name": "stdout",
     "output_type": "stream",
     "text": [
      "94 95\n"
     ]
    }
   ],
   "source": [
    "print(len(adv_z), len(adv_o))"
   ]
  },
  {
   "cell_type": "code",
   "execution_count": 44,
   "metadata": {},
   "outputs": [],
   "source": [
    "# Coalesce into victim/adv splits\n",
    "victim = np.concatenate((victim_o, victim_z))\n",
    "adv = np.concatenate((adv_o, adv_z))"
   ]
  },
  {
   "cell_type": "code",
   "execution_count": 53,
   "metadata": {},
   "outputs": [],
   "source": [
    "with open(\"./victim_info_new.txt\", 'w') as f:\n",
    "    for ii in victim:\n",
    "        f.write(combined_names[ii] + \",\" + str(combined_vals[ii]) + \"\\n\")"
   ]
  },
  {
   "cell_type": "code",
   "execution_count": 54,
   "metadata": {},
   "outputs": [],
   "source": [
    "with open(\"./adv_info_new.txt\", 'w') as f:\n",
    "    for ii in adv:\n",
    "        f.write(combined_names[ii] + \",\" + str(combined_vals[ii]) + \"\\n\")"
   ]
  },
  {
   "cell_type": "code",
   "execution_count": 55,
   "metadata": {},
   "outputs": [],
   "source": [
    "victim_gs = [all_graphs[ii] for ii in victim]\n",
    "dgl.save_graphs(os.path.join(prefix, \"dgl_victim_new.hdf5\"), victim_gs)"
   ]
  },
  {
   "cell_type": "code",
   "execution_count": 56,
   "metadata": {},
   "outputs": [],
   "source": [
    "adv_gs = [all_graphs[ii] for ii in adv]\n",
    "dgl.save_graphs(os.path.join(prefix, \"dgl_adv_new.hdf5\"), adv_gs)"
   ]
  },
  {
   "cell_type": "code",
   "execution_count": 59,
   "metadata": {},
   "outputs": [
    {
     "data": {
      "text/plain": [
       "189"
      ]
     },
     "execution_count": 59,
     "metadata": {},
     "output_type": "execute_result"
    }
   ],
   "source": [
    "len(victim_gs)"
   ]
  },
  {
   "cell_type": "code",
   "execution_count": 60,
   "metadata": {},
   "outputs": [
    {
     "data": {
      "text/plain": [
       "189"
      ]
     },
     "execution_count": 60,
     "metadata": {},
     "output_type": "execute_result"
    }
   ],
   "source": [
    "len(adv_gs)"
   ]
  },
  {
   "cell_type": "code",
   "execution_count": null,
   "metadata": {},
   "outputs": [],
   "source": []
  }
 ],
 "metadata": {
  "kernelspec": {
   "display_name": "phd",
   "language": "python",
   "name": "phd"
  },
  "language_info": {
   "codemirror_mode": {
    "name": "ipython",
    "version": 3
   },
   "file_extension": ".py",
   "mimetype": "text/x-python",
   "name": "python",
   "nbconvert_exporter": "python",
   "pygments_lexer": "ipython3",
   "version": "3.6.10"
  }
 },
 "nbformat": 4,
 "nbformat_minor": 4
}
